{
 "cells": [
  {
   "cell_type": "markdown",
   "metadata": {},
   "source": [
    "# Lecture 13: Tuples and Sorting\n",
    "\n",
    "### Jeannie Albrecht and Shikha Singh\n",
    "\n",
    "Today, we will discuss the following:\n",
    "  * A new immutable sequence:  Tuples\n",
    "  * Sorting with `key` and `lambda` sorting"
   ]
  },
  {
   "cell_type": "markdown",
   "metadata": {},
   "source": [
    "## New Immutable Sequence:  Tuples\n",
    "\n",
    "* Tuples are an immutable sequence of values separated by commas and enclosed within parentheses ()\n",
    "* Tuples support any sequence operations that don’t involve mutation: e.g., `len()`, indexing, slicing, concatenation, sorted function, etc\n",
    "* Tuples support simple and nifty assignment syntax, which makes them really convenient"
   ]
  },
  {
   "cell_type": "code",
   "execution_count": 1,
   "metadata": {},
   "outputs": [],
   "source": [
    "# string tuple\n",
    "names = ('Shikha', 'Jeannie', 'Kelly', 'Lida')\n",
    "\n",
    "# num tuple\n",
    "primes = (2, 3, 5, 7, 11)\n",
    "\n",
    "# singleton\n",
    "num = (5,)\n",
    "\n",
    "# parens are optional\n",
    "values = 5, 6\n",
    "\n",
    "# empty tuple\n",
    "emp = ()"
   ]
  },
  {
   "cell_type": "code",
   "execution_count": 2,
   "metadata": {},
   "outputs": [
    {
     "data": {
      "text/plain": [
       "tuple"
      ]
     },
     "execution_count": 2,
     "metadata": {},
     "output_type": "execute_result"
    }
   ],
   "source": [
    "type(values)"
   ]
  },
  {
   "cell_type": "markdown",
   "metadata": {},
   "source": [
    "### Tuples as a Sequence\n",
    "\n",
    "Like strings, tuples support sequence operations and methods that are immutable.  See examples below."
   ]
  },
  {
   "cell_type": "code",
   "execution_count": 3,
   "metadata": {},
   "outputs": [],
   "source": [
    "nameTuple = ('Shikha', 'Jeannie', 'Kelly')"
   ]
  },
  {
   "cell_type": "code",
   "execution_count": 4,
   "metadata": {},
   "outputs": [
    {
     "data": {
      "text/plain": [
       "3"
      ]
     },
     "execution_count": 4,
     "metadata": {},
     "output_type": "execute_result"
    }
   ],
   "source": [
    "len(nameTuple)"
   ]
  },
  {
   "cell_type": "code",
   "execution_count": 5,
   "metadata": {},
   "outputs": [
    {
     "data": {
      "text/plain": [
       "'Kelly'"
      ]
     },
     "execution_count": 5,
     "metadata": {},
     "output_type": "execute_result"
    }
   ],
   "source": [
    "nameTuple[2]"
   ]
  },
  {
   "cell_type": "code",
   "execution_count": 6,
   "metadata": {},
   "outputs": [
    {
     "ename": "TypeError",
     "evalue": "'tuple' object does not support item assignment",
     "output_type": "error",
     "traceback": [
      "\u001b[0;31m---------------------------------------------------------------------------\u001b[0m",
      "\u001b[0;31mTypeError\u001b[0m                                 Traceback (most recent call last)",
      "\u001b[0;32m/var/folders/h8/n5myy3jd1d7cfv42cw42flt80000gn/T/ipykernel_54149/3723580440.py\u001b[0m in \u001b[0;36m<module>\u001b[0;34m\u001b[0m\n\u001b[0;32m----> 1\u001b[0;31m \u001b[0mnameTuple\u001b[0m\u001b[0;34m[\u001b[0m\u001b[0;36m2\u001b[0m\u001b[0;34m]\u001b[0m \u001b[0;34m=\u001b[0m \u001b[0;34m'Lida'\u001b[0m \u001b[0;31m# will this work?\u001b[0m\u001b[0;34m\u001b[0m\u001b[0;34m\u001b[0m\u001b[0m\n\u001b[0m",
      "\u001b[0;31mTypeError\u001b[0m: 'tuple' object does not support item assignment"
     ]
    }
   ],
   "source": [
    "nameTuple[2] = 'Lida' # will this work?"
   ]
  },
  {
   "cell_type": "code",
   "execution_count": 7,
   "metadata": {},
   "outputs": [
    {
     "data": {
      "text/plain": [
       "('Shikha', 'Jeannie', 'Kelly', 'Lida')"
      ]
     },
     "execution_count": 7,
     "metadata": {},
     "output_type": "execute_result"
    }
   ],
   "source": [
    "nameTuple + ('Lida', ) # concatenation returns a new sequence"
   ]
  },
  {
   "cell_type": "code",
   "execution_count": 8,
   "metadata": {},
   "outputs": [
    {
     "data": {
      "text/plain": [
       "('Shikha', 'Jeannie', 'Kelly', 'Shikha', 'Jeannie', 'Kelly')"
      ]
     },
     "execution_count": 8,
     "metadata": {},
     "output_type": "execute_result"
    }
   ],
   "source": [
    "nameTuple * 2 # what will this do?"
   ]
  },
  {
   "cell_type": "code",
   "execution_count": 9,
   "metadata": {},
   "outputs": [],
   "source": [
    "numTuple = (1, 1, 2, 3, 5, 8, 13)"
   ]
  },
  {
   "cell_type": "code",
   "execution_count": 10,
   "metadata": {},
   "outputs": [
    {
     "data": {
      "text/plain": [
       "(3, 5, 8)"
      ]
     },
     "execution_count": 10,
     "metadata": {},
     "output_type": "execute_result"
    }
   ],
   "source": [
    "numTuple[3:6]"
   ]
  },
  {
   "cell_type": "code",
   "execution_count": 11,
   "metadata": {},
   "outputs": [
    {
     "data": {
      "text/plain": [
       "(13, 8, 5, 3, 2, 1, 1)"
      ]
     },
     "execution_count": 11,
     "metadata": {},
     "output_type": "execute_result"
    }
   ],
   "source": [
    "numTuple[::-1]"
   ]
  },
  {
   "cell_type": "code",
   "execution_count": 12,
   "metadata": {},
   "outputs": [],
   "source": [
    "colors = ('red', 'blue', 'orange', 'white', 'black')"
   ]
  },
  {
   "cell_type": "code",
   "execution_count": 13,
   "metadata": {},
   "outputs": [
    {
     "data": {
      "text/plain": [
       "True"
      ]
     },
     "execution_count": 13,
     "metadata": {},
     "output_type": "execute_result"
    }
   ],
   "source": [
    "'green' not in colors"
   ]
  },
  {
   "cell_type": "code",
   "execution_count": 14,
   "metadata": {},
   "outputs": [
    {
     "data": {
      "text/plain": [
       "False"
      ]
     },
     "execution_count": 14,
     "metadata": {},
     "output_type": "execute_result"
    }
   ],
   "source": [
    "'Red' in colors"
   ]
  },
  {
   "cell_type": "code",
   "execution_count": 15,
   "metadata": {
    "scrolled": true
   },
   "outputs": [
    {
     "name": "stdout",
     "output_type": "stream",
     "text": [
      "red\n",
      "blue\n",
      "orange\n",
      "white\n",
      "black\n"
     ]
    }
   ],
   "source": [
    "# can iterate over like any other sequence\n",
    "for c in colors:\n",
    "    print(c)"
   ]
  },
  {
   "cell_type": "markdown",
   "metadata": {},
   "source": [
    "## Multiple Assignments and Sequence Unpacking with Tuples\n",
    "\n",
    "\n",
    "Tuples are very useful for:\n",
    "   * multiple assigments in a single line. \n",
    "   * simple sequence unpacking.\n",
    "   * for returning multiple values from functions."
   ]
  },
  {
   "cell_type": "code",
   "execution_count": 16,
   "metadata": {},
   "outputs": [],
   "source": [
    "a, b = 4, 5"
   ]
  },
  {
   "cell_type": "code",
   "execution_count": 17,
   "metadata": {},
   "outputs": [],
   "source": [
    "b, a = a, b # what does this do?"
   ]
  },
  {
   "cell_type": "code",
   "execution_count": 18,
   "metadata": {},
   "outputs": [
    {
     "data": {
      "text/plain": [
       "(5, 4)"
      ]
     },
     "execution_count": 18,
     "metadata": {},
     "output_type": "execute_result"
    }
   ],
   "source": [
    "a, b"
   ]
  },
  {
   "cell_type": "code",
   "execution_count": 19,
   "metadata": {},
   "outputs": [],
   "source": [
    "a, b, c = (1, 2, 3)"
   ]
  },
  {
   "cell_type": "code",
   "execution_count": 20,
   "metadata": {},
   "outputs": [
    {
     "name": "stdout",
     "output_type": "stream",
     "text": [
      "1 2 3\n"
     ]
    }
   ],
   "source": [
    "print(a, b, c)"
   ]
  },
  {
   "cell_type": "code",
   "execution_count": 21,
   "metadata": {},
   "outputs": [
    {
     "ename": "ValueError",
     "evalue": "too many values to unpack (expected 2)",
     "output_type": "error",
     "traceback": [
      "\u001b[0;31m---------------------------------------------------------------------------\u001b[0m",
      "\u001b[0;31mValueError\u001b[0m                                Traceback (most recent call last)",
      "\u001b[0;32m/var/folders/h8/n5myy3jd1d7cfv42cw42flt80000gn/T/ipykernel_54149/564503895.py\u001b[0m in \u001b[0;36m<module>\u001b[0;34m\u001b[0m\n\u001b[0;32m----> 1\u001b[0;31m \u001b[0ma\u001b[0m\u001b[0;34m,\u001b[0m \u001b[0mb\u001b[0m \u001b[0;34m=\u001b[0m \u001b[0;36m1\u001b[0m\u001b[0;34m,\u001b[0m \u001b[0;36m2\u001b[0m\u001b[0;34m,\u001b[0m \u001b[0;36m3\u001b[0m \u001b[0;31m# will this work?\u001b[0m\u001b[0;34m\u001b[0m\u001b[0;34m\u001b[0m\u001b[0m\n\u001b[0m",
      "\u001b[0;31mValueError\u001b[0m: too many values to unpack (expected 2)"
     ]
    }
   ],
   "source": [
    "a, b = 1, 2, 3 # will this work?"
   ]
  },
  {
   "cell_type": "code",
   "execution_count": 22,
   "metadata": {},
   "outputs": [],
   "source": [
    "studentInfo = ['Harry Potter', 11, 'Gryffindor']"
   ]
  },
  {
   "cell_type": "code",
   "execution_count": 23,
   "metadata": {},
   "outputs": [],
   "source": [
    "name, age, house = studentInfo\n",
    "# short hand for three separate assignments\n",
    "# name = studentInfo[0];  age = studentInfo[1];  house = studentInfo[2]"
   ]
  },
  {
   "cell_type": "code",
   "execution_count": 24,
   "metadata": {},
   "outputs": [
    {
     "name": "stdout",
     "output_type": "stream",
     "text": [
      "Harry Potter 11 Gryffindor\n"
     ]
    }
   ],
   "source": [
    "print(name, age, house)"
   ]
  },
  {
   "cell_type": "code",
   "execution_count": 25,
   "metadata": {},
   "outputs": [],
   "source": [
    "# multiple return values as a tuple\n",
    "def arithmetic(num1, num2):\n",
    "    '''Takes two numbers and returns the sum and product'''\n",
    "    return num1 + num2, num1 * num2"
   ]
  },
  {
   "cell_type": "code",
   "execution_count": 26,
   "metadata": {},
   "outputs": [
    {
     "data": {
      "text/plain": [
       "(12, 20)"
      ]
     },
     "execution_count": 26,
     "metadata": {},
     "output_type": "execute_result"
    }
   ],
   "source": [
    "arithmetic(10, 2)"
   ]
  },
  {
   "cell_type": "code",
   "execution_count": 27,
   "metadata": {},
   "outputs": [
    {
     "data": {
      "text/plain": [
       "tuple"
      ]
     },
     "execution_count": 27,
     "metadata": {},
     "output_type": "execute_result"
    }
   ],
   "source": [
    "type(arithmetic(3, 4))"
   ]
  },
  {
   "cell_type": "markdown",
   "metadata": {},
   "source": [
    "## Tuples and Enumeration\n",
    "\n",
    "\n",
    "Python's built-in function `enumerate` takes an iterable sequence `seq` as input and returns an enumerate object, which is essentially a `tuple` of the values (`index`, `seq[index]`) for the given sequence.  Typically, `enumerate` is used to iterate over a sequence and its indices directly."
   ]
  },
  {
   "cell_type": "code",
   "execution_count": 28,
   "metadata": {},
   "outputs": [],
   "source": [
    "seasons = ['Spring', 'Summer', 'Fall', 'Winter']"
   ]
  },
  {
   "cell_type": "code",
   "execution_count": 29,
   "metadata": {},
   "outputs": [
    {
     "data": {
      "text/plain": [
       "enumerate"
      ]
     },
     "execution_count": 29,
     "metadata": {},
     "output_type": "execute_result"
    }
   ],
   "source": [
    "type(enumerate(seasons))"
   ]
  },
  {
   "cell_type": "code",
   "execution_count": 30,
   "metadata": {},
   "outputs": [
    {
     "data": {
      "text/plain": [
       "[(0, 'Spring'), (1, 'Summer'), (2, 'Fall'), (3, 'Winter')]"
      ]
     },
     "execution_count": 30,
     "metadata": {},
     "output_type": "execute_result"
    }
   ],
   "source": [
    "list(enumerate(seasons))"
   ]
  },
  {
   "cell_type": "code",
   "execution_count": 31,
   "metadata": {},
   "outputs": [],
   "source": [
    "seasons = ['Spring', 'Summer', 'Fall', 'Winter']"
   ]
  },
  {
   "cell_type": "code",
   "execution_count": 32,
   "metadata": {},
   "outputs": [
    {
     "name": "stdout",
     "output_type": "stream",
     "text": [
      "0 Spring\n",
      "1 Summer\n",
      "2 Fall\n",
      "3 Winter\n"
     ]
    }
   ],
   "source": [
    "for index, word in enumerate(seasons):\n",
    "    print(index, word)"
   ]
  },
  {
   "cell_type": "code",
   "execution_count": 33,
   "metadata": {},
   "outputs": [
    {
     "name": "stdout",
     "output_type": "stream",
     "text": [
      "0 H\n",
      "1 a\n",
      "2 k\n",
      "3 u\n",
      "4 n\n",
      "5 a\n",
      "6  \n",
      "7 M\n",
      "8 a\n",
      "9 t\n",
      "10 a\n",
      "11 t\n",
      "12 a\n"
     ]
    }
   ],
   "source": [
    "word = \"Hakuna Matata\"\n",
    "for index, char in enumerate(word):\n",
    "    print(index, char)"
   ]
  },
  {
   "cell_type": "markdown",
   "metadata": {},
   "source": [
    "## Conversion between Sequences\n",
    "\n",
    "We can covert between `str`, `list` and `tuple` types by using the corresponding functions."
   ]
  },
  {
   "cell_type": "code",
   "execution_count": 34,
   "metadata": {},
   "outputs": [],
   "source": [
    "word = \"Williamstown\""
   ]
  },
  {
   "cell_type": "code",
   "execution_count": 35,
   "metadata": {},
   "outputs": [],
   "source": [
    "charList = list(word)"
   ]
  },
  {
   "cell_type": "code",
   "execution_count": 36,
   "metadata": {},
   "outputs": [
    {
     "data": {
      "text/plain": [
       "['W', 'i', 'l', 'l', 'i', 'a', 'm', 's', 't', 'o', 'w', 'n']"
      ]
     },
     "execution_count": 36,
     "metadata": {},
     "output_type": "execute_result"
    }
   ],
   "source": [
    "charList"
   ]
  },
  {
   "cell_type": "code",
   "execution_count": 37,
   "metadata": {},
   "outputs": [],
   "source": [
    "charTuple = tuple(charList)"
   ]
  },
  {
   "cell_type": "code",
   "execution_count": 38,
   "metadata": {},
   "outputs": [
    {
     "data": {
      "text/plain": [
       "('W', 'i', 'l', 'l', 'i', 'a', 'm', 's', 't', 'o', 'w', 'n')"
      ]
     },
     "execution_count": 38,
     "metadata": {},
     "output_type": "execute_result"
    }
   ],
   "source": [
    "charTuple"
   ]
  },
  {
   "cell_type": "code",
   "execution_count": 39,
   "metadata": {},
   "outputs": [
    {
     "data": {
      "text/plain": [
       "[1, 2, 3, 4, 5]"
      ]
     },
     "execution_count": 39,
     "metadata": {},
     "output_type": "execute_result"
    }
   ],
   "source": [
    "list((1, 2, 3, 4, 5)) # tuple to list"
   ]
  },
  {
   "cell_type": "code",
   "execution_count": 40,
   "metadata": {},
   "outputs": [],
   "source": [
    "numRange = range(len(word))"
   ]
  },
  {
   "cell_type": "code",
   "execution_count": 41,
   "metadata": {},
   "outputs": [
    {
     "data": {
      "text/plain": [
       "[0, 1, 2, 3, 4, 5, 6, 7, 8, 9, 10, 11]"
      ]
     },
     "execution_count": 41,
     "metadata": {},
     "output_type": "execute_result"
    }
   ],
   "source": [
    "list(numRange)"
   ]
  },
  {
   "cell_type": "code",
   "execution_count": 42,
   "metadata": {},
   "outputs": [
    {
     "data": {
      "text/plain": [
       "'[0, 1, 2, 3, 4, 5, 6, 7, 8, 9, 10, 11]'"
      ]
     },
     "execution_count": 42,
     "metadata": {},
     "output_type": "execute_result"
    }
   ],
   "source": [
    "str(list(numRange))"
   ]
  },
  {
   "cell_type": "code",
   "execution_count": 43,
   "metadata": {
    "scrolled": true
   },
   "outputs": [
    {
     "data": {
      "text/plain": [
       "\"('hello', 'world')\""
      ]
     },
     "execution_count": 43,
     "metadata": {},
     "output_type": "execute_result"
    }
   ],
   "source": [
    "str(('hello', 'world'))"
   ]
  },
  {
   "cell_type": "markdown",
   "metadata": {},
   "source": [
    "## Review Sorting\n",
    "\n",
    "Recall the `sorted` function that takes a sequence and returns a new sorted sequence as a `list`.\n",
    "\n",
    "By default, `sorted` sorts the sequence in **ascending order (for numbers)** and **alphabetical (dictionary) order** for strings.\n",
    "\n",
    "Furthermore, strings are sorted based on their ASCII value:  special characters come before capital letters, which come before lower-case letters.\n",
    "\n",
    "**Note:** `sorted` does not alter the sequence it is called on.  And it returns always returns a `list`."
   ]
  },
  {
   "cell_type": "code",
   "execution_count": 44,
   "metadata": {},
   "outputs": [
    {
     "data": {
      "text/plain": [
       "[-20, 0, 10, 11, 13, 18, 42]"
      ]
     },
     "execution_count": 44,
     "metadata": {},
     "output_type": "execute_result"
    }
   ],
   "source": [
    "nums = (42, -20, 13, 10, 0, 11, 18)\n",
    "sorted(nums)"
   ]
  },
  {
   "cell_type": "code",
   "execution_count": 45,
   "metadata": {},
   "outputs": [
    {
     "data": {
      "text/plain": [
       "['a', 'c', 'e', 'p', 'z']"
      ]
     },
     "execution_count": 45,
     "metadata": {},
     "output_type": "execute_result"
    }
   ],
   "source": [
    "letters = ('a', 'c', 'e', 'p', 'z')\n",
    "sorted(letters)"
   ]
  },
  {
   "cell_type": "code",
   "execution_count": 46,
   "metadata": {},
   "outputs": [
    {
     "name": "stdout",
     "output_type": "stream",
     "text": [
      "[' ', '!', '!', '*', '*', 'd', 'e', 'h', 'l', 'l', 'l', 'o', 'o', 'r', 'w']\n"
     ]
    }
   ],
   "source": [
    "# what will this print?\n",
    "print(sorted(\"*hello! world!*\"))"
   ]
  },
  {
   "cell_type": "code",
   "execution_count": 47,
   "metadata": {},
   "outputs": [
    {
     "data": {
      "text/plain": [
       "' !!**dehllloorw'"
      ]
     },
     "execution_count": 47,
     "metadata": {},
     "output_type": "execute_result"
    }
   ],
   "source": [
    "''.join(sorted(\"*hello! world!*\"))"
   ]
  },
  {
   "cell_type": "markdown",
   "metadata": {},
   "source": [
    "## Sorting Tuples and More\n",
    "\n",
    "Recall the `sorted` function that takes a sequence and returns a new sorted sequence as a `list`.\n",
    "\n",
    "By default, `sorted` function on a sequence containing tuples has the following behavior:   \n",
    "   * Sorts tuples by first item of each tuple     \n",
    "   * If there is a tie (e.g., two tuples have the same first item), it sorts them by comparing their second item, so on.    \n",
    "    \n",
    "This sorting behavior is pretty standard and is referred to as **lexigraphical sorting**.\n",
    "\n",
    "We can change this default sorting behavior of the sorted function.\n",
    "\n",
    "Today, we will see different ways we can accomplish this."
   ]
  },
  {
   "cell_type": "code",
   "execution_count": 48,
   "metadata": {},
   "outputs": [
    {
     "data": {
      "text/plain": [
       "[(4, 'bananas'), (5, 'kiwis'), (12, 'apples'), (27, 'grapes')]"
      ]
     },
     "execution_count": 48,
     "metadata": {},
     "output_type": "execute_result"
    }
   ],
   "source": [
    "fruits = [(12, 'apples'), (5, 'kiwis'), (4, 'bananas'), (27, 'grapes')]\n",
    "sorted(fruits)"
   ]
  },
  {
   "cell_type": "code",
   "execution_count": 49,
   "metadata": {},
   "outputs": [
    {
     "data": {
      "text/plain": [
       "[(0, 2), (4, 5), (11, 3), (12, 1)]"
      ]
     },
     "execution_count": 49,
     "metadata": {},
     "output_type": "execute_result"
    }
   ],
   "source": [
    "pairs = [(4, 5), (0, 2), (12, 1), (11, 3)]\n",
    "sorted(pairs)"
   ]
  },
  {
   "cell_type": "code",
   "execution_count": 50,
   "metadata": {},
   "outputs": [
    {
     "data": {
      "text/plain": [
       "[(1, 2, 1), (1, 2, 3), (1, 3, 2), (2, 2, 1)]"
      ]
     },
     "execution_count": 50,
     "metadata": {},
     "output_type": "execute_result"
    }
   ],
   "source": [
    "triples = [(1, 2, 3), (1, 3, 2), (2, 2, 1), (1, 2, 1)]\n",
    "sorted(triples)"
   ]
  },
  {
   "cell_type": "code",
   "execution_count": 51,
   "metadata": {},
   "outputs": [
    {
     "data": {
      "text/plain": [
       "[(7, 'b', '+'), (7, 'c', '@'), (8, 'a', '!'), (8, 'a', '$')]"
      ]
     },
     "execution_count": 51,
     "metadata": {},
     "output_type": "execute_result"
    }
   ],
   "source": [
    "characters = [(8, 'a', '$'), (7, 'c', '@'),\n",
    "           (7, 'b', '+'), (8, 'a', '!')] \n",
    "\n",
    "sorted(characters)"
   ]
  },
  {
   "cell_type": "code",
   "execution_count": 52,
   "metadata": {},
   "outputs": [
    {
     "data": {
      "text/plain": [
       "[1, 2, 4, 5]"
      ]
     },
     "execution_count": 52,
     "metadata": {},
     "output_type": "execute_result"
    }
   ],
   "source": [
    "sorted((4,5,1,2))"
   ]
  },
  {
   "cell_type": "markdown",
   "metadata": {},
   "source": [
    "## Changing the Default Sorting Behavior\n",
    "\n",
    "\n",
    "We can tell Python how to sort and override the default sorting behavior.  To do so, let us explore the `sorted` function and its optional arguments."
   ]
  },
  {
   "cell_type": "code",
   "execution_count": 53,
   "metadata": {
    "scrolled": true
   },
   "outputs": [
    {
     "name": "stdout",
     "output_type": "stream",
     "text": [
      "Help on built-in function sorted in module builtins:\n",
      "\n",
      "sorted(iterable, /, *, key=None, reverse=False)\n",
      "    Return a new list containing all items from the iterable in ascending order.\n",
      "    \n",
      "    A custom key function can be supplied to customize the sort order, and the\n",
      "    reverse flag can be set to request the result in descending order.\n",
      "\n"
     ]
    }
   ],
   "source": [
    "help(sorted)"
   ]
  },
  {
   "cell_type": "markdown",
   "metadata": {},
   "source": [
    "###  Soring using `reverse`"
   ]
  },
  {
   "cell_type": "code",
   "execution_count": 54,
   "metadata": {},
   "outputs": [
    {
     "data": {
      "text/plain": [
       "[8, 3, 3, 2, 2, 1, 1]"
      ]
     },
     "execution_count": 54,
     "metadata": {},
     "output_type": "execute_result"
    }
   ],
   "source": [
    "sorted([8, 2, 3, 1, 3, 1, 2], reverse=True)"
   ]
  },
  {
   "cell_type": "code",
   "execution_count": 55,
   "metadata": {},
   "outputs": [
    {
     "data": {
      "text/plain": [
       "['z', 'p', 'e', 'c', 'a']"
      ]
     },
     "execution_count": 55,
     "metadata": {},
     "output_type": "execute_result"
    }
   ],
   "source": [
    "sorted(['a', 'c', 'e', 'p', 'z'], reverse=True)"
   ]
  },
  {
   "cell_type": "code",
   "execution_count": 56,
   "metadata": {
    "scrolled": true
   },
   "outputs": [
    {
     "data": {
      "text/plain": [
       "[(27, 'grapes'), (12, 'apples'), (5, 'kiwis'), (4, 'bananas')]"
      ]
     },
     "execution_count": 56,
     "metadata": {},
     "output_type": "execute_result"
    }
   ],
   "source": [
    "fruits = [(12, 'apples'), (5, 'kiwis'), (4, 'bananas'), (27, 'grapes')]\n",
    "sorted(fruits, reverse=True)"
   ]
  },
  {
   "cell_type": "markdown",
   "metadata": {},
   "source": [
    "###  Soring using `key` function\n",
    "\n",
    "\n",
    "**Motivation:**  Suppose we have a list of tuples, that we want to sort by something other than the first item.\n",
    "\n",
    "For example: \n",
    "\n",
    "* Consider a list of tuples, where the first item is a course name, second item is the cap, and third item is the term.\n",
    "* Say we want to sort these courses by their capacity in descending order:  courses with higher capacity should come first.\n",
    "\n",
    "We can accomplish this by supplying the `sorted` function with a `key` function that tells it how to compare the tuples to each other."
   ]
  },
  {
   "cell_type": "code",
   "execution_count": 57,
   "metadata": {},
   "outputs": [],
   "source": [
    "courses = [('CS134', 74, 'Fall'), ('CS136', 60, 'Fall'),\n",
    "           ('AFR206', 30, 'Spring'), ('ECON233', 30, 'Spring'),\n",
    "           ('MUS112', 10), ('STAT200', 50), ('PSYC 201', 90)]"
   ]
  },
  {
   "cell_type": "code",
   "execution_count": 58,
   "metadata": {},
   "outputs": [
    {
     "data": {
      "text/plain": [
       "[('AFR206', 30, 'Spring'),\n",
       " ('CS134', 74, 'Fall'),\n",
       " ('CS136', 60, 'Fall'),\n",
       " ('ECON233', 30, 'Spring'),\n",
       " ('MUS112', 10),\n",
       " ('PSYC 201', 90),\n",
       " ('STAT200', 50)]"
      ]
     },
     "execution_count": 58,
     "metadata": {},
     "output_type": "execute_result"
    }
   ],
   "source": [
    "sorted(courses) # how will it get sorted?"
   ]
  },
  {
   "cell_type": "code",
   "execution_count": 59,
   "metadata": {},
   "outputs": [],
   "source": [
    "courses = [('CS134', 74, 'Fall'), ('CS136', 60, 'Fall'),\n",
    "           ('AFR206', 30, 'Spring'), ('ECON233', 30, 'Fall'),\n",
    "           ('MUS112', 10, 'Fall'), ('STAT200', 50, 'Spring'), \n",
    "           ('PSYC201', 50, 'Fall'), ('MATH110', 74, 'Spring')]"
   ]
  },
  {
   "cell_type": "code",
   "execution_count": 60,
   "metadata": {},
   "outputs": [],
   "source": [
    "def capacity(courseTuple):\n",
    "    '''Takes a sequence and returns item at index 1'''\n",
    "    return courseTuple[1]"
   ]
  },
  {
   "cell_type": "code",
   "execution_count": 61,
   "metadata": {},
   "outputs": [
    {
     "data": {
      "text/plain": [
       "[('MUS112', 10, 'Fall'),\n",
       " ('AFR206', 30, 'Spring'),\n",
       " ('ECON233', 30, 'Fall'),\n",
       " ('STAT200', 50, 'Spring'),\n",
       " ('PSYC201', 50, 'Fall'),\n",
       " ('CS136', 60, 'Fall'),\n",
       " ('CS134', 74, 'Fall'),\n",
       " ('MATH110', 74, 'Spring')]"
      ]
     },
     "execution_count": 61,
     "metadata": {},
     "output_type": "execute_result"
    }
   ],
   "source": [
    "# can tell sorted to sort by capacity instead\n",
    "sorted(courses, key=capacity)"
   ]
  },
  {
   "cell_type": "code",
   "execution_count": 62,
   "metadata": {},
   "outputs": [
    {
     "data": {
      "text/plain": [
       "[('CS134', 74, 'Fall'),\n",
       " ('MATH110', 74, 'Spring'),\n",
       " ('CS136', 60, 'Fall'),\n",
       " ('STAT200', 50, 'Spring'),\n",
       " ('PSYC201', 50, 'Fall'),\n",
       " ('AFR206', 30, 'Spring'),\n",
       " ('ECON233', 30, 'Fall'),\n",
       " ('MUS112', 10, 'Fall')]"
      ]
     },
     "execution_count": 62,
     "metadata": {},
     "output_type": "execute_result"
    }
   ],
   "source": [
    "sorted(courses, key=capacity, reverse=True)"
   ]
  },
  {
   "cell_type": "markdown",
   "metadata": {},
   "source": [
    "###  Stable Sorting\n",
    "\n",
    "Python's sorting functions are stable, which means that items that are equal according to the sorting key have the same relative order as in the original sequence.  To see an example, let us sort the course tuples by the term they are offered by defining a new key function."
   ]
  },
  {
   "cell_type": "code",
   "execution_count": 63,
   "metadata": {},
   "outputs": [],
   "source": [
    "courses = [('CS134', 74, 'Fall'), ('CS136', 60, 'Fall'),\n",
    "           ('AFR206', 30, 'Spring'), ('ECON233', 30, 'Fall'),\n",
    "           ('MUS112', 10, 'Fall'), ('STAT200', 50, 'Spring'), \n",
    "           ('PSYC201', 50, 'Fall'), ('MATH110', 74, 'Spring')]"
   ]
  },
  {
   "cell_type": "code",
   "execution_count": 64,
   "metadata": {},
   "outputs": [],
   "source": [
    "def term(courseTuple):\n",
    "    '''Takes a sequence and returns item at index 2'''\n",
    "    return courseTuple[2]"
   ]
  },
  {
   "cell_type": "code",
   "execution_count": 65,
   "metadata": {},
   "outputs": [
    {
     "data": {
      "text/plain": [
       "[('CS134', 74, 'Fall'),\n",
       " ('CS136', 60, 'Fall'),\n",
       " ('ECON233', 30, 'Fall'),\n",
       " ('MUS112', 10, 'Fall'),\n",
       " ('PSYC201', 50, 'Fall'),\n",
       " ('AFR206', 30, 'Spring'),\n",
       " ('STAT200', 50, 'Spring'),\n",
       " ('MATH110', 74, 'Spring')]"
      ]
     },
     "execution_count": 65,
     "metadata": {},
     "output_type": "execute_result"
    }
   ],
   "source": [
    "sorted(courses, key=term)"
   ]
  },
  {
   "cell_type": "code",
   "execution_count": 66,
   "metadata": {},
   "outputs": [],
   "source": [
    "def termAndCap(courseTuple):\n",
    "    return courseTuple[2], courseTuple[1]"
   ]
  },
  {
   "cell_type": "code",
   "execution_count": 67,
   "metadata": {},
   "outputs": [
    {
     "data": {
      "text/plain": [
       "[('MUS112', 10, 'Fall'),\n",
       " ('ECON233', 30, 'Fall'),\n",
       " ('PSYC201', 50, 'Fall'),\n",
       " ('CS136', 60, 'Fall'),\n",
       " ('CS134', 74, 'Fall'),\n",
       " ('AFR206', 30, 'Spring'),\n",
       " ('STAT200', 50, 'Spring'),\n",
       " ('MATH110', 74, 'Spring')]"
      ]
     },
     "execution_count": 67,
     "metadata": {},
     "output_type": "execute_result"
    }
   ],
   "source": [
    "sorted(courses, key=termAndCap)"
   ]
  },
  {
   "cell_type": "markdown",
   "metadata": {},
   "source": [
    "## Lambda Notation\n",
    "\n",
    "\n",
    "It is often inconvenient or unnecessary to define a named function just in order to pass it as the functional argument to higher-order functions like sorted.\n",
    "\n",
    "Python provides lambda notation for creating anonymous functions (a function with no name that cannot be called elsewhere) that can be used directly in functions like sorted\n"
   ]
  },
  {
   "cell_type": "code",
   "execution_count": 68,
   "metadata": {},
   "outputs": [],
   "source": [
    "def square(x):\n",
    "    return x*x"
   ]
  },
  {
   "cell_type": "code",
   "execution_count": 69,
   "metadata": {},
   "outputs": [
    {
     "data": {
      "text/plain": [
       "25"
      ]
     },
     "execution_count": 69,
     "metadata": {},
     "output_type": "execute_result"
    }
   ],
   "source": [
    "square(5)"
   ]
  },
  {
   "cell_type": "code",
   "execution_count": 70,
   "metadata": {},
   "outputs": [
    {
     "data": {
      "text/plain": [
       "25"
      ]
     },
     "execution_count": 70,
     "metadata": {},
     "output_type": "execute_result"
    }
   ],
   "source": [
    "(lambda x: x*x)(5)"
   ]
  },
  {
   "cell_type": "code",
   "execution_count": 71,
   "metadata": {},
   "outputs": [
    {
     "data": {
      "text/plain": [
       "'z'"
      ]
     },
     "execution_count": 71,
     "metadata": {},
     "output_type": "execute_result"
    }
   ],
   "source": [
    "def first(seq):\n",
    "    return seq[0]\n",
    "\n",
    "first('zorp')"
   ]
  },
  {
   "cell_type": "code",
   "execution_count": 72,
   "metadata": {},
   "outputs": [
    {
     "data": {
      "text/plain": [
       "'z'"
      ]
     },
     "execution_count": 72,
     "metadata": {},
     "output_type": "execute_result"
    }
   ],
   "source": [
    "(lambda seq: seq[0])('zorp')"
   ]
  },
  {
   "cell_type": "code",
   "execution_count": 73,
   "metadata": {},
   "outputs": [
    {
     "data": {
      "text/plain": [
       "function"
      ]
     },
     "execution_count": 73,
     "metadata": {},
     "output_type": "execute_result"
    }
   ],
   "source": [
    "type(lambda x: x*x)"
   ]
  },
  {
   "cell_type": "code",
   "execution_count": 74,
   "metadata": {},
   "outputs": [],
   "source": [
    "# back to our example\n",
    "courses = [('CS134', 74, 'Fall'), ('CS136', 60, 'Fall'),\n",
    "           ('AFR206', 30, 'Spring'), ('ECON233', 30, 'Fall'),\n",
    "           ('MUS112', 10, 'Fall'), ('STAT200', 50, 'Spring'), \n",
    "           ('PSYC201', 50, 'Fall'), ('MATH110', 74, 'Spring')]"
   ]
  },
  {
   "cell_type": "code",
   "execution_count": 75,
   "metadata": {},
   "outputs": [
    {
     "data": {
      "text/plain": [
       "[('MUS112', 10, 'Fall'),\n",
       " ('AFR206', 30, 'Spring'),\n",
       " ('ECON233', 30, 'Fall'),\n",
       " ('STAT200', 50, 'Spring'),\n",
       " ('PSYC201', 50, 'Fall'),\n",
       " ('CS136', 60, 'Fall'),\n",
       " ('CS134', 74, 'Fall'),\n",
       " ('MATH110', 74, 'Spring')]"
      ]
     },
     "execution_count": 75,
     "metadata": {},
     "output_type": "execute_result"
    }
   ],
   "source": [
    "# sort by capacity\n",
    "sorted(courses, key=lambda course: course[1]) "
   ]
  },
  {
   "cell_type": "code",
   "execution_count": 76,
   "metadata": {},
   "outputs": [
    {
     "data": {
      "text/plain": [
       "[('MUS112', 10, 'Fall'),\n",
       " ('ECON233', 30, 'Fall'),\n",
       " ('PSYC201', 50, 'Fall'),\n",
       " ('CS136', 60, 'Fall'),\n",
       " ('CS134', 74, 'Fall'),\n",
       " ('AFR206', 30, 'Spring'),\n",
       " ('STAT200', 50, 'Spring'),\n",
       " ('MATH110', 74, 'Spring')]"
      ]
     },
     "execution_count": 76,
     "metadata": {},
     "output_type": "execute_result"
    }
   ],
   "source": [
    "# sort by term followed by capacity\n",
    "sorted(courses, key=lambda c: (c[2], c[1]))"
   ]
  }
 ],
 "metadata": {
  "kernelspec": {
   "display_name": "Python 3 (ipykernel)",
   "language": "python",
   "name": "python3"
  },
  "language_info": {
   "codemirror_mode": {
    "name": "ipython",
    "version": 3
   },
   "file_extension": ".py",
   "mimetype": "text/x-python",
   "name": "python",
   "nbconvert_exporter": "python",
   "pygments_lexer": "ipython3",
   "version": "3.9.7"
  }
 },
 "nbformat": 4,
 "nbformat_minor": 1
}
