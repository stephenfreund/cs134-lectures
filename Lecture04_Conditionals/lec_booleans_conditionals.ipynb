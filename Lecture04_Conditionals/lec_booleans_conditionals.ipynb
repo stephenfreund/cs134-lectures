{
 "cells": [
  {
   "cell_type": "markdown",
   "metadata": {},
   "source": [
    "# CS134 Lecture 4:  Booleans and Conditions\n",
    "### Jeannie Albrecht and Shikha Singh\n",
    "\n",
    "\n",
    "In this lecture, we will exlore the boolean types `True` and `False` in Python, relational and logical operators and how they help making decisions using the `if`- `else` conditional blocks.\n",
    "\n",
    "First, we review the notion of variable scope when calling functions."
   ]
  },
  {
   "cell_type": "markdown",
   "metadata": {},
   "source": [
    "## Variable Scope\n",
    "\n",
    "**Local variables.**  An assignment to a variable within a function definition creates/changes a local variable. Local variables exist only within a function's body, and cannot be referred to outside of it. *Parameters* are also local variables that are assigned a value when the function is invoked."
   ]
  },
  {
   "cell_type": "code",
   "execution_count": null,
   "metadata": {},
   "outputs": [],
   "source": [
    "def myfunc (val):\n",
    "    val = val + 1\n",
    "    print('local val = ', val)\n",
    "    return val "
   ]
  },
  {
   "cell_type": "code",
   "execution_count": null,
   "metadata": {},
   "outputs": [],
   "source": [
    "val = 3\n",
    "newVal = myfunc(val)"
   ]
  },
  {
   "cell_type": "code",
   "execution_count": null,
   "metadata": {},
   "outputs": [],
   "source": [
    "newVal"
   ]
  },
  {
   "cell_type": "code",
   "execution_count": null,
   "metadata": {},
   "outputs": [],
   "source": [
    "print('global val =', val)"
   ]
  },
  {
   "cell_type": "markdown",
   "metadata": {},
   "source": [
    "## Boolean Type and Relational Operators\n",
    "\n",
    "`True` and `False` are of type `bool` in Python and naturally occur as a result of relational operators."
   ]
  },
  {
   "cell_type": "code",
   "execution_count": null,
   "metadata": {},
   "outputs": [],
   "source": [
    "4 < 5 "
   ]
  },
  {
   "cell_type": "code",
   "execution_count": null,
   "metadata": {},
   "outputs": [],
   "source": [
    "10 == 10"
   ]
  },
  {
   "cell_type": "code",
   "execution_count": null,
   "metadata": {},
   "outputs": [],
   "source": [
    "'a' == 'b'"
   ]
  },
  {
   "cell_type": "code",
   "execution_count": null,
   "metadata": {},
   "outputs": [],
   "source": [
    "True == 1"
   ]
  },
  {
   "cell_type": "code",
   "execution_count": null,
   "metadata": {},
   "outputs": [],
   "source": [
    "False == 0"
   ]
  },
  {
   "cell_type": "code",
   "execution_count": null,
   "metadata": {},
   "outputs": [],
   "source": [
    "1000/3 < 300"
   ]
  },
  {
   "cell_type": "code",
   "execution_count": null,
   "metadata": {
    "scrolled": true
   },
   "outputs": [],
   "source": [
    "num1 = int(input(\"Enter first number: \"))\n",
    "num2 = int(input(\"Enter second number: \"))\n",
    "num1 <= num2"
   ]
  },
  {
   "cell_type": "code",
   "execution_count": null,
   "metadata": {},
   "outputs": [],
   "source": [
    "num1 != num2"
   ]
  },
  {
   "cell_type": "code",
   "execution_count": null,
   "metadata": {},
   "outputs": [],
   "source": [
    "num1 % 3 == 1"
   ]
  },
  {
   "cell_type": "markdown",
   "metadata": {},
   "source": [
    "## Conditional Statement:  If Else\n",
    "\n",
    "We can ensure that some statements in the program are evaluated conditionally only if the result of a Boolean expression evaluates to `True` using the `if` statement.  If the Boolean expression evalautes to `False`, then the control flow **skips** statements under the `if` block and evaluates the statements under the `else` block.\n",
    "\n",
    "### If Else Statement Syntax\n",
    "\n",
    "statement 1 <br> \n",
    "statement 2  \n",
    "`if` (boolean expression):  \n",
    "   &nbsp;&nbsp;&nbsp;&nbsp;&nbsp;&nbsp; statement 3  \n",
    "   &nbsp;&nbsp;&nbsp;&nbsp;&nbsp;&nbsp; statement 4  \n",
    "   &nbsp;&nbsp;&nbsp;&nbsp;&nbsp;&nbsp;...  \n",
    "`else`:  <br>\n",
    "   &nbsp;&nbsp;&nbsp;&nbsp;&nbsp;&nbsp; statement 5   \n",
    "   &nbsp;&nbsp;&nbsp;&nbsp;&nbsp;&nbsp; statement 6  \n",
    "   &nbsp;&nbsp;&nbsp;&nbsp;&nbsp;&nbsp;...  \n",
    "statement 7  \n",
    "\n",
    "#### Indentation matters in Python  \n",
    "Indented statemnets form a **logical block** of code in Python:\n",
    "* If the boolean expression next to the `if` statement evaluates to `True`, then statements `3, 4,...` in the `if` block  are executed, after which the control flow will **skip over** all of the statements under the `else` block, and go straight to statement `7`\n",
    "* If the boolean expression next to the `if` statement evaluates to `False`, then the control flow **skips over**  statements `3, 4,..` and exectutes statements `5, 6,...` in the `else` block, after which the control flow goes to statement `7`.\n",
    "\n",
    "\n"
   ]
  },
  {
   "cell_type": "markdown",
   "metadata": {},
   "source": [
    "### Checking if Number is Even\n",
    "\n",
    "Let us write a function `printEven` that takes a number as input.  If the number is even, it prints \"Even\", else it prints \"Odd\".\n",
    "\n",
    "**Question.** How can we check if a number is even?"
   ]
  },
  {
   "cell_type": "code",
   "execution_count": null,
   "metadata": {},
   "outputs": [],
   "source": [
    "3 % 2"
   ]
  },
  {
   "cell_type": "code",
   "execution_count": null,
   "metadata": {},
   "outputs": [],
   "source": [
    "10 % 2"
   ]
  },
  {
   "cell_type": "code",
   "execution_count": null,
   "metadata": {},
   "outputs": [],
   "source": [
    "17 % 2"
   ]
  },
  {
   "cell_type": "code",
   "execution_count": null,
   "metadata": {},
   "outputs": [],
   "source": [
    "9 % 2 == 0"
   ]
  },
  {
   "cell_type": "markdown",
   "metadata": {},
   "source": [
    "**Exercise.** Let us write the function `isEven(num)` below."
   ]
  },
  {
   "cell_type": "code",
   "execution_count": null,
   "metadata": {},
   "outputs": [],
   "source": [
    "def printEven(num):\n",
    "    \"\"\"Takes a number as input, prints Even if\n",
    "    it is even, else prints Odd\"\"\"\n",
    "    if num % 2 == 0: # if even\n",
    "        print(\"Even\")\n",
    "    else:\n",
    "        print(\"Odd\")"
   ]
  },
  {
   "cell_type": "code",
   "execution_count": null,
   "metadata": {},
   "outputs": [],
   "source": [
    "printEven(16)"
   ]
  },
  {
   "cell_type": "code",
   "execution_count": null,
   "metadata": {},
   "outputs": [],
   "source": [
    "printEven(77)"
   ]
  },
  {
   "cell_type": "markdown",
   "metadata": {},
   "source": [
    "**Exercise.** Suppose instead of printing, we want to return `True` if number is Even, and `False` if number is Odd.    \n",
    "Let us define an `isEven(num)` that does this."
   ]
  },
  {
   "cell_type": "code",
   "execution_count": null,
   "metadata": {},
   "outputs": [],
   "source": [
    "def isEven(num):\n",
    "    \"\"\"Takes a number as input, returns True if\n",
    "    it is even, else returns False\"\"\"\n",
    "    if num % 2 == 0: # if even\n",
    "        return True\n",
    "    else:\n",
    "        return False"
   ]
  },
  {
   "cell_type": "code",
   "execution_count": null,
   "metadata": {},
   "outputs": [],
   "source": [
    "isEven(8)"
   ]
  },
  {
   "cell_type": "code",
   "execution_count": null,
   "metadata": {},
   "outputs": [],
   "source": [
    "isEven(75)"
   ]
  },
  {
   "cell_type": "markdown",
   "metadata": {},
   "source": [
    "## Else block is optional \n",
    "\n",
    "An `if` statement does not need an `else`, and there are often times when removing the `else` block makes the program simpler.\n",
    "\n",
    "**Simplify.** We can simplify the `isEven` function by removing the `else` block, and return `False` if the `if` condition fails."
   ]
  },
  {
   "cell_type": "code",
   "execution_count": null,
   "metadata": {},
   "outputs": [],
   "source": [
    "def isEven(num):\n",
    "    \"\"\"Takes a number as input, returns True if\n",
    "    it is even, else returns False\"\"\"\n",
    "    if num % 2 == 0: # if even\n",
    "        return True\n",
    "    return False"
   ]
  },
  {
   "cell_type": "markdown",
   "metadata": {},
   "source": [
    "**Simplify further.** We can shorten it even further if we want and just return the result of the Boolean expression."
   ]
  },
  {
   "cell_type": "code",
   "execution_count": null,
   "metadata": {},
   "outputs": [],
   "source": [
    "def isEven(num):\n",
    "    \"\"\"Takes a number as input, returns True if\n",
    "    it is even, else returns False\"\"\"\n",
    "    return num % 2 == 0"
   ]
  },
  {
   "cell_type": "markdown",
   "metadata": {},
   "source": [
    "\n",
    "### Tracing Control Flow Through Conditionals\n",
    "\n",
    "\n",
    "Let us look at the following example of a function `zeroToOne` that takes a number `num` as input, if the number is equal to zero, it adds one to `num` and returns it.  Otherwise it just returns `num`.  \n",
    "\n",
    "Let us trace the control flow when the function is called with different values of `num` and see which statements are printed.\n",
    "\n",
    "In situations like this function, it is a good idea to have a single return statement, rather than a return statement in each conditional block."
   ]
  },
  {
   "cell_type": "markdown",
   "metadata": {},
   "source": [
    "**Notice:** Statements above the `if` block and after the `else` block are always executed.\n"
   ]
  },
  {
   "cell_type": "code",
   "execution_count": null,
   "metadata": {},
   "outputs": [],
   "source": [
    "# adding more prints and return\n",
    "def zeroToOne(num):\n",
    "    \"\"\"If input number num is 0, adds one and returns,\n",
    "    else returns num itself\"\"\"\n",
    "    print(\"You called this function with num =\", num)\n",
    "    if num == 0:\n",
    "        print(\"Incrementing to 1\")\n",
    "        num += 1 # update to 1\n",
    "    else:\n",
    "        print(\"No need to increment.\")\n",
    "    print(\"Just before return\")\n",
    "    return num\n",
    "    print(\"Just after return\")  # will this ever get printed?"
   ]
  },
  {
   "cell_type": "code",
   "execution_count": null,
   "metadata": {
    "scrolled": true
   },
   "outputs": [],
   "source": [
    "zeroToOne(5)"
   ]
  },
  {
   "cell_type": "code",
   "execution_count": null,
   "metadata": {
    "scrolled": true
   },
   "outputs": [],
   "source": [
    "zeroToOne(0)"
   ]
  },
  {
   "cell_type": "markdown",
   "metadata": {},
   "source": [
    "## Logical operators:  `and`, `or`, `not`\n",
    "\n",
    "\n",
    "The logical operators `and`, `or` and `not` in Python are used to combine Boolean values and write more complex Booleans expressions. \n",
    "\n",
    "### `and`\n",
    "*boolExp1* **and** *boolExp2* evaluates to `True` iff **both** *boolExp1* and *boolExp2* evaluate to `True`.\n",
    "\n",
    "### `or`\n",
    "\n",
    "*boolExp1* **or** *bool Exp2* evaluates to `True` iff **at least one** of *boolExp1* and *boolExp2* evaluate to `True`.\n",
    "\n",
    "### `not`\n",
    "not *boolExp* evaluates to True iff *boolExp* evaluates to False.\n",
    "\n",
    "Let us try these out.\n",
    "\n"
   ]
  },
  {
   "cell_type": "code",
   "execution_count": null,
   "metadata": {},
   "outputs": [],
   "source": [
    "20 < 13 and 6 == 6"
   ]
  },
  {
   "cell_type": "code",
   "execution_count": null,
   "metadata": {},
   "outputs": [],
   "source": [
    "20 < 13 or 6 == 6"
   ]
  },
  {
   "cell_type": "code",
   "execution_count": null,
   "metadata": {},
   "outputs": [],
   "source": [
    "not 20 < 13"
   ]
  },
  {
   "cell_type": "code",
   "execution_count": null,
   "metadata": {},
   "outputs": [],
   "source": [
    "not 6 == 6"
   ]
  },
  {
   "cell_type": "markdown",
   "metadata": {},
   "source": [
    "**Example 1.** Check if a number is divisible by 5 and is odd. "
   ]
  },
  {
   "cell_type": "code",
   "execution_count": null,
   "metadata": {},
   "outputs": [],
   "source": [
    "def oddMultipleFive(num):\n",
    "    \"Returns true if num is divisible by 5 and odd\"\n",
    "    return num % 5 == 0 and num % 2 == 1 "
   ]
  },
  {
   "cell_type": "code",
   "execution_count": null,
   "metadata": {},
   "outputs": [],
   "source": [
    "oddMultipleFive(55)"
   ]
  },
  {
   "cell_type": "code",
   "execution_count": null,
   "metadata": {
    "scrolled": true
   },
   "outputs": [],
   "source": [
    "oddMultipleFive(80)"
   ]
  },
  {
   "cell_type": "markdown",
   "metadata": {},
   "source": [
    "**Example 2.** Ask the user to enter a lowercase letter. Check if it is a vowel or consonent."
   ]
  },
  {
   "cell_type": "code",
   "execution_count": null,
   "metadata": {},
   "outputs": [],
   "source": [
    "def isVowel(letter):\n",
    "    \"\"\"Takes lowercase letter as input and returns True if it is a vowel,\n",
    "    else returns False\"\"\"\n",
    "    pass "
   ]
  },
  {
   "cell_type": "code",
   "execution_count": null,
   "metadata": {},
   "outputs": [],
   "source": [
    "isVowel('b')"
   ]
  },
  {
   "cell_type": "code",
   "execution_count": null,
   "metadata": {},
   "outputs": [],
   "source": [
    "isVowel('a')"
   ]
  },
  {
   "cell_type": "code",
   "execution_count": null,
   "metadata": {},
   "outputs": [],
   "source": [
    "isVowel('z')"
   ]
  },
  {
   "cell_type": "markdown",
   "metadata": {},
   "source": [
    "**Some takeways.** \n",
    "* We can chain together a bunch of boolean expressions (not just two).\n",
    "* It does not make sense to write `letter == 'a' or 'e' or 'i' or 'o' 'u'`:  logical operators take `bool` type operands, not strings."
   ]
  },
  {
   "cell_type": "markdown",
   "metadata": {},
   "source": [
    "**Example 3.**  Write a function divide that takes two numbers `num1` and `num2` as input, and returns\n",
    "the result of `num1/num2` as long as `num2`  is not zero.  If `num2` is zero, it returns None."
   ]
  },
  {
   "cell_type": "code",
   "execution_count": null,
   "metadata": {},
   "outputs": [],
   "source": [
    "def divide(num1, num2):\n",
    "    if not (num2 == 0):  # can also write num2 != 0\n",
    "        return num1/num2\n",
    "    # do we need to say anything after this?"
   ]
  },
  {
   "cell_type": "code",
   "execution_count": null,
   "metadata": {},
   "outputs": [],
   "source": [
    "divide(7, 3)"
   ]
  },
  {
   "cell_type": "code",
   "execution_count": null,
   "metadata": {},
   "outputs": [],
   "source": [
    "divide(9, 0)"
   ]
  },
  {
   "cell_type": "markdown",
   "metadata": {},
   "source": [
    "## Nested Conditionals\n",
    "\n",
    "\n",
    "Sometimes, we may encounter a more complicated conditional structure.  Consider the following example.\n",
    "\n",
    "Write a function `weather` that takes as input a temperature `temp` value in Fahrenheit \n",
    "* If temp is above 80, print \"It is a hot one out there.\"\n",
    "* If temp is between 60 and 80, print \"Nice day out, enjoy!\"\n",
    "* If temp is below 60 and above 40, print \"Chilly day, wear a sweater.\"\n",
    "* If temp is below 40, print \"Its freezing out, bring a winter jacket!\"\n",
    "\n",
    "**Question.** How can we organize this using if-else statements?"
   ]
  },
  {
   "cell_type": "markdown",
   "metadata": {},
   "source": [
    "### Attempt 1:  Nested If Else\n",
    "\n",
    "Does the following work?"
   ]
  },
  {
   "cell_type": "code",
   "execution_count": null,
   "metadata": {
    "scrolled": true
   },
   "outputs": [],
   "source": [
    "def weather1(temp):\n",
    "    if temp > 80:\n",
    "        print(\"It is a hot one out there.\")\n",
    "    else:\n",
    "        if temp >= 60:\n",
    "            print(\"Nice day out, enjoy!\")\n",
    "        else:\n",
    "            if temp >= 40:\n",
    "                print(\"Chilly day, wear a sweater.\")\n",
    "            else:\n",
    "                print(\"Its freezing out, bring a winter jacket!\")"
   ]
  },
  {
   "cell_type": "code",
   "execution_count": null,
   "metadata": {},
   "outputs": [],
   "source": [
    "weather1(89)"
   ]
  },
  {
   "cell_type": "code",
   "execution_count": null,
   "metadata": {
    "scrolled": true
   },
   "outputs": [],
   "source": [
    "weather1(72)"
   ]
  },
  {
   "cell_type": "code",
   "execution_count": null,
   "metadata": {},
   "outputs": [],
   "source": [
    "weather1(55)"
   ]
  },
  {
   "cell_type": "code",
   "execution_count": null,
   "metadata": {},
   "outputs": [],
   "source": [
    "weather1(33)"
   ]
  },
  {
   "cell_type": "markdown",
   "metadata": {},
   "source": [
    "###  Attempt 2: Only Ifs\n",
    "\n",
    "The above function looks like a mess with so many indented blocks.  What if we used only `if`s?  What is the trade off?"
   ]
  },
  {
   "cell_type": "code",
   "execution_count": null,
   "metadata": {},
   "outputs": [],
   "source": [
    "def weather2(temp):\n",
    "    if temp > 80:\n",
    "        print(\"It is a hot one out there.\")\n",
    "    if temp >= 60 and temp <= 80:\n",
    "        print(\"Nice day out, enjoy!\")\n",
    "    if temp <60 and temp >= 40:\n",
    "        print(\"Chilly day, wear a sweater\")\n",
    "    if temp < 40:\n",
    "        print(\"Its freezing out, bring a winter jacket!\")"
   ]
  },
  {
   "cell_type": "code",
   "execution_count": null,
   "metadata": {
    "scrolled": true
   },
   "outputs": [],
   "source": [
    "weather2(89)"
   ]
  },
  {
   "cell_type": "code",
   "execution_count": null,
   "metadata": {
    "scrolled": true
   },
   "outputs": [],
   "source": [
    "weather2(72)"
   ]
  },
  {
   "cell_type": "code",
   "execution_count": null,
   "metadata": {},
   "outputs": [],
   "source": [
    "weather2(55)"
   ]
  },
  {
   "cell_type": "code",
   "execution_count": null,
   "metadata": {},
   "outputs": [],
   "source": [
    "weather2(33)"
   ]
  },
  {
   "cell_type": "markdown",
   "metadata": {},
   "source": [
    "###  Class Discussion\n",
    "\n",
    "* What is the difference between Attempt 1 and Attempt 2?   Can we trace the control flow through each?\n",
    "* What are the pros, cons of each?"
   ]
  },
  {
   "cell_type": "markdown",
   "metadata": {},
   "source": [
    "## Chained `if, elif, else` Conditionals\n",
    "\n",
    "If we only need to execute one out of several conditional branches, we can use **chained** (**multibranch**) conditionals with `if`, `elif`s, and `else` to execute exactly one of several branches.  \n",
    "\n",
    "\n",
    "### If Else Statement Syntax\n",
    "\n",
    "\n",
    "`if` (boolean expression a):  \n",
    "   &nbsp;&nbsp;&nbsp;&nbsp;&nbsp;&nbsp; statement 1  \n",
    "   &nbsp;&nbsp;&nbsp;&nbsp;&nbsp;&nbsp;...  \n",
    "`elif` (boolean epression b):  \n",
    "   &nbsp;&nbsp;&nbsp;&nbsp;&nbsp;&nbsp; statement 2\n",
    "   &nbsp;&nbsp;&nbsp;&nbsp;&nbsp;&nbsp;...   \n",
    "`else`:  \n",
    "   &nbsp;&nbsp;&nbsp;&nbsp;&nbsp;&nbsp; statement 3     \n",
    "statement 4\n",
    "\n",
    "* If bool expression a is True: only statement 1 and 4 are executed, regardless of the boolean exp b\n",
    "* If bool expression a is False and b is True: only statement 2 and 4 are executed\n",
    "* If bool expression a and b are both False: only statement 3 and 4 are executed\n",
    "     \n"
   ]
  },
  {
   "cell_type": "code",
   "execution_count": null,
   "metadata": {
    "scrolled": true
   },
   "outputs": [],
   "source": [
    "def weather3(temp):\n",
    "    if temp > 80:\n",
    "        print(\"It is a hot one out there.\")\n",
    "    elif temp >= 60:\n",
    "        print(\"Nice day out, enjoy!\")\n",
    "    elif temp >= 40:\n",
    "        print(\"Chilly day, wear a sweater.\")\n",
    "    else:\n",
    "        print(\"Its freezing out, bring a winter jacket!\")"
   ]
  },
  {
   "cell_type": "code",
   "execution_count": null,
   "metadata": {
    "scrolled": true
   },
   "outputs": [],
   "source": [
    "weather3(89)"
   ]
  },
  {
   "cell_type": "code",
   "execution_count": null,
   "metadata": {
    "scrolled": true
   },
   "outputs": [],
   "source": [
    "weather3(72)"
   ]
  },
  {
   "cell_type": "code",
   "execution_count": null,
   "metadata": {},
   "outputs": [],
   "source": [
    "weather3(55)"
   ]
  },
  {
   "cell_type": "code",
   "execution_count": null,
   "metadata": {},
   "outputs": [],
   "source": [
    "weather3(33)"
   ]
  },
  {
   "cell_type": "markdown",
   "metadata": {},
   "source": [
    "###  Takeway\n",
    "\n",
    "* Chained conditonals can avoid having to nest conditionals, which improves readability\n",
    "* Since only one of the brances in a chained `if, elif, else` conditionals evaluates to `True`, using them avoids unnecessary checks incurred by a chained `if` statements one after the other."
   ]
  }
 ],
 "metadata": {
  "kernelspec": {
   "display_name": "Python 3 (ipykernel)",
   "language": "python",
   "name": "python3"
  },
  "language_info": {
   "codemirror_mode": {
    "name": "ipython",
    "version": 3
   },
   "file_extension": ".py",
   "mimetype": "text/x-python",
   "name": "python",
   "nbconvert_exporter": "python",
   "pygments_lexer": "ipython3",
   "version": "3.9.7"
  }
 },
 "nbformat": 4,
 "nbformat_minor": 4
}
