{
 "cells": [
  {
   "cell_type": "markdown",
   "metadata": {},
   "source": [
    "# Lecture 11: List Methods and Mutability\n",
    "\n",
    "### Jeannie Albrecht and Shikha Singh\n",
    "\n",
    "Today, we will discuss the following:\n",
    "  * Writing and appending to files\n",
    "  * Review useful list methods:\n",
    "        - Methods that don't modify lists:  .index(), .count()\n",
    "        - Methods that do modify lists:  .append(), .extend(), .insert(), .remove(), .pop(), .sort()\n",
    "  * Discuss sorted() function\n",
    "  * Sorting of strings and their ASCII values\n",
    "  * Discuss mutability and aliasing in Python"
   ]
  },
  {
   "cell_type": "markdown",
   "metadata": {},
   "source": [
    "## Wrapping Up Files\n",
    "\n",
    "We will rerun some examples from last class to wrap up our discussion of file reading and writing."
   ]
  },
  {
   "cell_type": "code",
   "execution_count": null,
   "metadata": {},
   "outputs": [],
   "source": [
    "from sequenceTools import *"
   ]
  },
  {
   "cell_type": "code",
   "execution_count": null,
   "metadata": {},
   "outputs": [],
   "source": [
    "filename = 'csv/roster02.csv' # 9 am section\n",
    "# filename = 'csv/roster01.csv' # 10 am section\n",
    "# list comprehension version\n",
    "with open(filename) as roster:\n",
    "    allStudents = [line.strip().split(',') for line in roster]"
   ]
  },
  {
   "cell_type": "code",
   "execution_count": null,
   "metadata": {},
   "outputs": [],
   "source": [
    "firstNames = [s[1].split()[0] for s in allStudents]"
   ]
  },
  {
   "cell_type": "code",
   "execution_count": null,
   "metadata": {},
   "outputs": [],
   "source": [
    "def yearList(rosterList, year):\n",
    "    \"\"\"Takes the student info as a list of lists and a year (22-25)\n",
    "    and returns a list of students graduating that year\"\"\"\n",
    "    \n",
    "    return [s[1] for s in rosterList if s[-1][:2] == str(year)]"
   ]
  },
  {
   "cell_type": "code",
   "execution_count": null,
   "metadata": {},
   "outputs": [],
   "source": [
    "def mostVowels(wordList):\n",
    "    '''Takes a list of strings wordList and returns a list\n",
    "    of strings from wordList that contain the most # vowels'''\n",
    "    \n",
    "    maxSoFar = 0 # initialize counter\n",
    "    result = []\n",
    "    for word in wordList:\n",
    "        count = countVowels(word)\n",
    "        if count > maxSoFar:\n",
    "            # update: found a better word\n",
    "            maxSoFar = count\n",
    "            result = [word] \n",
    "        # why do we need this?\n",
    "        elif count == maxSoFar:  \n",
    "            result.append(word)\n",
    "    return result"
   ]
  },
  {
   "cell_type": "markdown",
   "metadata": {},
   "source": [
    "## Writing to Files\n",
    "\n",
    "We can write all the results that we are computing into a file (a persistent structure).  To open a file for writing, we use `open` with the mode 'w'. \n",
    "\n",
    "The following code will create a new file named `studentFacts.txt` in the current working directory and write in it results of our function calls."
   ]
  },
  {
   "cell_type": "code",
   "execution_count": null,
   "metadata": {},
   "outputs": [],
   "source": [
    "fYears = len(yearList(allStudents, 25))\n",
    "sophYears = len(yearList(allStudents, 24))\n",
    "jYears = len(yearList(allStudents, 23))\n",
    "sYears = len(yearList(allStudents, 22))\n",
    "mostVowelNames = ', '.join(mostVowels(firstNames))\n",
    "with open('studentFacts.txt', 'w') as sFile:\n",
    "    sFile.write('Fun facts about CS134 students:\\n')# need newlines\n",
    "    sFile.write('Students with most vowels in their name: {}.\\n'.format(mostVowelNames))\n",
    "    sFile.write('No. of first years in CS134: {}.\\n'.format(fYears))\n",
    "    sFile.write('No. of sophmores in CS134: {}.\\n'.format(sophYears))\n",
    "    sFile.write('No. of juniors in CS134: {}\\n'.format(jYears))\n",
    "    sFile.write('No. of seniors in CS134: {}\\n'.format(sYears))"
   ]
  },
  {
   "cell_type": "markdown",
   "metadata": {},
   "source": [
    "We can use `ls -l` to see that a new file `studentFacts.txt` has been created:"
   ]
  },
  {
   "cell_type": "code",
   "execution_count": null,
   "metadata": {},
   "outputs": [],
   "source": [
    "ls -l"
   ]
  },
  {
   "cell_type": "markdown",
   "metadata": {},
   "source": [
    "Use the OS command `cat` to view the contents of the file:"
   ]
  },
  {
   "cell_type": "code",
   "execution_count": null,
   "metadata": {},
   "outputs": [],
   "source": [
    "cat studentFacts.txt"
   ]
  },
  {
   "cell_type": "markdown",
   "metadata": {},
   "source": [
    "## Appending to Files\n",
    "\n",
    "If a file already has something in it, opening it in `w` mode again will erase all its past contents.  If we need to append something to a file, we open it in append `a` mode. \n",
    "\n",
    "For example, let us append a sentence to `studentFacts.txt`."
   ]
  },
  {
   "cell_type": "code",
   "execution_count": null,
   "metadata": {},
   "outputs": [],
   "source": [
    "with open('studentFacts.txt', 'a') as sFile:\n",
    "    sFile.write('Goodbye.\\n')"
   ]
  },
  {
   "cell_type": "code",
   "execution_count": null,
   "metadata": {},
   "outputs": [],
   "source": [
    "cat studentFacts.txt "
   ]
  },
  {
   "cell_type": "markdown",
   "metadata": {},
   "source": [
    "## List Methods:  Do not change the List\n",
    "\n",
    "We have seen several list methods already.  \n",
    "\n",
    "Here we summarize the list methods that do not modify the list, and others that do modify the list they are called on.\n",
    "\n",
    "Useful methods that **do not modify the list** they are called on:\n",
    "   * `.count()`\n",
    "   * `.index()`\n",
    "   \n",
    "The descriptions of these are in the lecture slides.  Examples below.\n",
    "   "
   ]
  },
  {
   "cell_type": "code",
   "execution_count": null,
   "metadata": {},
   "outputs": [],
   "source": [
    "myList = list(\"Hello World!\")\n",
    "\n",
    "myList.index('l') # gives first index "
   ]
  },
  {
   "cell_type": "code",
   "execution_count": null,
   "metadata": {},
   "outputs": [],
   "source": [
    "myList.index('z')  # gives error if item not present"
   ]
  },
  {
   "cell_type": "code",
   "execution_count": null,
   "metadata": {},
   "outputs": [],
   "source": [
    "newList = ['a', 'a', 'a', 'a', 'b', 'b', 'c', 'c']\n",
    "newList.count('a')"
   ]
  },
  {
   "cell_type": "code",
   "execution_count": null,
   "metadata": {},
   "outputs": [],
   "source": [
    "newList.count('z')"
   ]
  },
  {
   "cell_type": "markdown",
   "metadata": {},
   "source": [
    "## List Methods:  Modify the List\n",
    "\n",
    "Unlike integers, strings, floats, which are immutable, lists are a mutable objects and can be changed in place. \n",
    "\n",
    "This has several implications which we will discuss in this and coming lectures.\n",
    "\n",
    "Useful methods that **do modify the list** they are called on:\n",
    "   * `.append()`\n",
    "   * `.extend()`\n",
    "   * `.insert()`\n",
    "   * `.remove()`\n",
    "   * `.pop()`   \n",
    "   \n",
    "Other ways to modify a list in place:\n",
    "  * direct assignment to a list element\n",
    "  * sorting a list in place using `.sort()`\n",
    "\n",
    "Let us work through these with examples. "
   ]
  },
  {
   "cell_type": "code",
   "execution_count": null,
   "metadata": {},
   "outputs": [],
   "source": [
    "myList = [1, 2, 3, 4]  # fresh assignment: creates a new list with the name myList"
   ]
  },
  {
   "cell_type": "code",
   "execution_count": null,
   "metadata": {},
   "outputs": [],
   "source": [
    "myList[1] = 7   # changing the value by direct assignment"
   ]
  },
  {
   "cell_type": "code",
   "execution_count": null,
   "metadata": {},
   "outputs": [],
   "source": [
    "myList.append(5)  # appending an item at the end\n",
    "myList"
   ]
  },
  {
   "cell_type": "code",
   "execution_count": null,
   "metadata": {},
   "outputs": [],
   "source": [
    "myList.extend([6, 8])  # extend method lets you append multiple items\n",
    "\n",
    "myList "
   ]
  },
  {
   "cell_type": "code",
   "execution_count": null,
   "metadata": {},
   "outputs": [],
   "source": [
    "myList"
   ]
  },
  {
   "cell_type": "code",
   "execution_count": null,
   "metadata": {},
   "outputs": [],
   "source": [
    "myList.pop(3)  # removes the item at index 3 and returns it"
   ]
  },
  {
   "cell_type": "code",
   "execution_count": null,
   "metadata": {},
   "outputs": [],
   "source": [
    "myList"
   ]
  },
  {
   "cell_type": "code",
   "execution_count": null,
   "metadata": {},
   "outputs": [],
   "source": [
    "myList.pop() # remove the last item and returns it"
   ]
  },
  {
   "cell_type": "code",
   "execution_count": null,
   "metadata": {},
   "outputs": [],
   "source": [
    "myList"
   ]
  },
  {
   "cell_type": "code",
   "execution_count": null,
   "metadata": {},
   "outputs": [],
   "source": [
    "myList.insert(0, 11)  # insert 11 at index 0, shift everything over"
   ]
  },
  {
   "cell_type": "code",
   "execution_count": null,
   "metadata": {},
   "outputs": [],
   "source": [
    "myList"
   ]
  },
  {
   "cell_type": "code",
   "execution_count": null,
   "metadata": {},
   "outputs": [],
   "source": [
    "myList.insert(10, 12)  # out of range index"
   ]
  },
  {
   "cell_type": "code",
   "execution_count": null,
   "metadata": {},
   "outputs": [],
   "source": [
    "myList"
   ]
  },
  {
   "cell_type": "code",
   "execution_count": null,
   "metadata": {},
   "outputs": [],
   "source": [
    "myList.remove(12)   # remove(item) removes the item from the list"
   ]
  },
  {
   "cell_type": "code",
   "execution_count": null,
   "metadata": {},
   "outputs": [],
   "source": [
    "myList"
   ]
  },
  {
   "cell_type": "code",
   "execution_count": null,
   "metadata": {},
   "outputs": [],
   "source": [
    "myList.remove(13) # gives a value error"
   ]
  },
  {
   "cell_type": "code",
   "execution_count": null,
   "metadata": {},
   "outputs": [],
   "source": [
    "myList.sort()\n",
    "myList"
   ]
  },
  {
   "cell_type": "markdown",
   "metadata": {},
   "source": [
    "## Sort vs Sorted\n",
    "\n",
    "\n",
    "* `.sort()` method is only for lists and sorts by mutating the list in place \n",
    "* Python provides a built in function `sorted` that can be used to sort any sequence (strings, lists, tuples).  It returns a new sorted sequence, and does NOT modify the original sequence"
   ]
  },
  {
   "cell_type": "code",
   "execution_count": null,
   "metadata": {},
   "outputs": [],
   "source": [
    "list1 = [6, 3, 4];  list2 = [6, 3, 4]"
   ]
  },
  {
   "cell_type": "code",
   "execution_count": null,
   "metadata": {},
   "outputs": [],
   "source": [
    "list1.sort() # sort by mutating list1"
   ]
  },
  {
   "cell_type": "code",
   "execution_count": null,
   "metadata": {},
   "outputs": [],
   "source": [
    "sorted(list2) # returns a new sorted list"
   ]
  },
  {
   "cell_type": "code",
   "execution_count": null,
   "metadata": {},
   "outputs": [],
   "source": [
    "print(list1, list2)"
   ]
  },
  {
   "cell_type": "markdown",
   "metadata": {},
   "source": [
    "## Aside: Sorting Strings\n",
    "\n",
    "We can also sort strings (alphabetically) using the `sorted()` function.  Notice that the function still returns a `list`, not a `string`.\n"
   ]
  },
  {
   "cell_type": "code",
   "execution_count": null,
   "metadata": {},
   "outputs": [],
   "source": [
    "sorted('shikha')"
   ]
  },
  {
   "cell_type": "code",
   "execution_count": null,
   "metadata": {},
   "outputs": [],
   "source": [
    "sorted('jeannie')"
   ]
  },
  {
   "cell_type": "code",
   "execution_count": null,
   "metadata": {},
   "outputs": [],
   "source": [
    "sorted('Hello World')"
   ]
  },
  {
   "cell_type": "code",
   "execution_count": null,
   "metadata": {},
   "outputs": [],
   "source": [
    "sorted('aaAAbbBBccCCddDD')"
   ]
  },
  {
   "cell_type": "markdown",
   "metadata": {},
   "source": [
    "### Aside: Sorted by ASCII values\n",
    "\n",
    "Notice that capital letters come before lower case in default sorting.  Similarly, special characters come before either.  These orderings are decided by the ASCII values of the symbols.\n",
    "\n",
    "The built-in functions `ord()` and `chr()` let us access the ASCII value of characters and vice versa."
   ]
  },
  {
   "cell_type": "code",
   "execution_count": null,
   "metadata": {},
   "outputs": [],
   "source": [
    "ord('A')"
   ]
  },
  {
   "cell_type": "code",
   "execution_count": null,
   "metadata": {},
   "outputs": [],
   "source": [
    "ord('Z')"
   ]
  },
  {
   "cell_type": "code",
   "execution_count": null,
   "metadata": {},
   "outputs": [],
   "source": [
    "ord('a')"
   ]
  },
  {
   "cell_type": "code",
   "execution_count": null,
   "metadata": {},
   "outputs": [],
   "source": [
    "ord('z')"
   ]
  },
  {
   "cell_type": "code",
   "execution_count": null,
   "metadata": {},
   "outputs": [],
   "source": [
    "chr(111)"
   ]
  },
  {
   "cell_type": "code",
   "execution_count": null,
   "metadata": {},
   "outputs": [],
   "source": [
    "chr(33)"
   ]
  },
  {
   "cell_type": "markdown",
   "metadata": {},
   "source": [
    "## Value vs Identity \n",
    "\n",
    "* An objects identity never changes in Python once it has been created, you may think of it as the object’s address in memory\n",
    "* On the other hand, the value of some objects can change.  \n",
    "* Objects whose values can change are called **mutable**; objects whose values cannot change are called **immutable**\n",
    "\n",
    "\n",
    "* The `is` operator compares the identity of two objects, and the `==` operator compares the value (contents) of an object\n",
    "* The `id()` function returns an integer representing its identity"
   ]
  },
  {
   "cell_type": "code",
   "execution_count": null,
   "metadata": {},
   "outputs": [],
   "source": [
    "myList = [1, 2, 3]\n",
    "newList = [1, 2, 3]\n",
    "list2 = myList"
   ]
  },
  {
   "cell_type": "code",
   "execution_count": null,
   "metadata": {},
   "outputs": [],
   "source": [
    "myList == newList # same values"
   ]
  },
  {
   "cell_type": "code",
   "execution_count": null,
   "metadata": {},
   "outputs": [],
   "source": [
    "myList is newList # different identities"
   ]
  },
  {
   "cell_type": "code",
   "execution_count": null,
   "metadata": {},
   "outputs": [],
   "source": [
    "myList == list2"
   ]
  },
  {
   "cell_type": "code",
   "execution_count": null,
   "metadata": {},
   "outputs": [],
   "source": [
    "myList is list2"
   ]
  },
  {
   "cell_type": "code",
   "execution_count": null,
   "metadata": {},
   "outputs": [],
   "source": [
    "myList.append(4)"
   ]
  },
  {
   "cell_type": "code",
   "execution_count": null,
   "metadata": {},
   "outputs": [],
   "source": [
    "list2 # does this change?"
   ]
  },
  {
   "cell_type": "code",
   "execution_count": null,
   "metadata": {},
   "outputs": [],
   "source": [
    "name = 'gryffindor'\n",
    "id(name)"
   ]
  },
  {
   "cell_type": "code",
   "execution_count": null,
   "metadata": {},
   "outputs": [],
   "source": [
    "name = name[4:8] # slicing returns a new string"
   ]
  },
  {
   "cell_type": "code",
   "execution_count": null,
   "metadata": {},
   "outputs": [],
   "source": [
    "id(name)"
   ]
  },
  {
   "cell_type": "markdown",
   "metadata": {},
   "source": [
    "## Understanding Aliasing \n",
    "\n",
    "Let us try out some examples that illustrate how aliasing manifests itself in Python."
   ]
  },
  {
   "cell_type": "code",
   "execution_count": null,
   "metadata": {},
   "outputs": [],
   "source": [
    "nums = [23, 19]\n",
    "words = ['hello', 'world']\n",
    "mixed = [12, nums, 'nice', words]"
   ]
  },
  {
   "cell_type": "code",
   "execution_count": null,
   "metadata": {},
   "outputs": [],
   "source": [
    "words.append('sky')"
   ]
  },
  {
   "cell_type": "code",
   "execution_count": null,
   "metadata": {},
   "outputs": [],
   "source": [
    "mixed"
   ]
  },
  {
   "cell_type": "code",
   "execution_count": null,
   "metadata": {},
   "outputs": [],
   "source": [
    "mixed[1].append(27)"
   ]
  },
  {
   "cell_type": "code",
   "execution_count": null,
   "metadata": {},
   "outputs": [],
   "source": [
    "nums"
   ]
  },
  {
   "cell_type": "code",
   "execution_count": null,
   "metadata": {},
   "outputs": [],
   "source": [
    "mixed"
   ]
  },
  {
   "cell_type": "code",
   "execution_count": null,
   "metadata": {},
   "outputs": [],
   "source": [
    "def foo(someList):\n",
    "    someList.append('*')\n",
    "    \n",
    "    \n",
    "newList = ['#']\n",
    "bar = foo(newList)"
   ]
  },
  {
   "cell_type": "code",
   "execution_count": null,
   "metadata": {},
   "outputs": [],
   "source": [
    "newList"
   ]
  },
  {
   "cell_type": "code",
   "execution_count": null,
   "metadata": {},
   "outputs": [],
   "source": [
    "someList # will this work?"
   ]
  },
  {
   "cell_type": "code",
   "execution_count": null,
   "metadata": {},
   "outputs": [],
   "source": [
    "def foo(someList):\n",
    "    print(id(someList))\n",
    "    someList.append('*')\n",
    "    \n",
    "    \n",
    "newList = ['#']\n",
    "print(id(newList))\n",
    "bar = foo(newList)"
   ]
  }
 ],
 "metadata": {
  "kernelspec": {
   "display_name": "Python 3 (ipykernel)",
   "language": "python",
   "name": "python3"
  },
  "language_info": {
   "codemirror_mode": {
    "name": "ipython",
    "version": 3
   },
   "file_extension": ".py",
   "mimetype": "text/x-python",
   "name": "python",
   "nbconvert_exporter": "python",
   "pygments_lexer": "ipython3",
   "version": "3.9.7"
  }
 },
 "nbformat": 4,
 "nbformat_minor": 1
}
