{
 "cells": [
  {
   "cell_type": "markdown",
   "metadata": {},
   "source": [
    "# Lecture 11: List Methods and Mutability\n",
    "\n",
    "### Jeannie Albrecht and Shikha Singh\n",
    "\n",
    "Today, we will discuss the following:\n",
    "  * Writing and appending to files\n",
    "  * Review useful list methods:\n",
    "        - Methods that don't modify lists:  .index(), .count()\n",
    "        - Methods that do modify lists:  .append(), .extend(), .insert(), .remove(), .pop(), .sort()\n",
    "  * Discuss sorted() function\n",
    "  * Sorting of strings and their ASCII values\n",
    "  * Discuss mutability and aliasing in Python"
   ]
  },
  {
   "cell_type": "markdown",
   "metadata": {},
   "source": [
    "## Wrapping Up Files\n",
    "\n",
    "We will rerun some examples from last class to wrap up our discussion of file reading and writing."
   ]
  },
  {
   "cell_type": "code",
   "execution_count": 1,
   "metadata": {},
   "outputs": [],
   "source": [
    "from sequenceTools import *"
   ]
  },
  {
   "cell_type": "code",
   "execution_count": 2,
   "metadata": {},
   "outputs": [],
   "source": [
    "filename = 'csv/roster02.csv' # 9 am section\n",
    "# filename = 'csv/roster01.csv' # 10 am section\n",
    "# list comprehension version\n",
    "with open(filename) as roster:\n",
    "    allStudents = [line.strip().split(',') for line in roster]"
   ]
  },
  {
   "cell_type": "code",
   "execution_count": 3,
   "metadata": {},
   "outputs": [],
   "source": [
    "firstNames = [s[1].split()[0] for s in allStudents]"
   ]
  },
  {
   "cell_type": "code",
   "execution_count": 4,
   "metadata": {},
   "outputs": [],
   "source": [
    "def yearList(rosterList, year):\n",
    "    \"\"\"Takes the student info as a list of lists and a year (22-25)\n",
    "    and returns a list of students graduating that year\"\"\"\n",
    "    \n",
    "    return [s[1] for s in rosterList if s[-1][:2] == str(year)]"
   ]
  },
  {
   "cell_type": "code",
   "execution_count": 5,
   "metadata": {},
   "outputs": [],
   "source": [
    "def mostVowels(wordList):\n",
    "    '''Takes a list of strings wordList and returns a list\n",
    "    of strings from wordList that contain the most # vowels'''\n",
    "    \n",
    "    maxSoFar = 0 # initialize counter\n",
    "    result = []\n",
    "    for word in wordList:\n",
    "        count = countVowels(word)\n",
    "        if count > maxSoFar:\n",
    "            # update: found a better word\n",
    "            maxSoFar = count\n",
    "            result = [word] \n",
    "        # why do we need this?\n",
    "        elif count == maxSoFar:  \n",
    "            result.append(word)\n",
    "    return result"
   ]
  },
  {
   "cell_type": "markdown",
   "metadata": {},
   "source": [
    "## Writing to Files\n",
    "\n",
    "We can write all the results that we are computing into a file (a persistent structure).  To open a file for writing, we use `open` with the mode 'w'. \n",
    "\n",
    "The following code will create a new file named `studentFacts.txt` in the current working directory and write in it results of our function calls."
   ]
  },
  {
   "cell_type": "code",
   "execution_count": 6,
   "metadata": {},
   "outputs": [],
   "source": [
    "fYears = len(yearList(allStudents, 25))\n",
    "sophYears = len(yearList(allStudents, 24))\n",
    "jYears = len(yearList(allStudents, 23))\n",
    "sYears = len(yearList(allStudents, 22))\n",
    "mostVowelNames = ', '.join(mostVowels(firstNames))\n",
    "with open('studentFacts.txt', 'w') as sFile:\n",
    "    sFile.write('Fun facts about CS134 students:\\n')# need newlines\n",
    "    sFile.write('Students with most vowels in their name: {}.\\n'.format(mostVowelNames))\n",
    "    sFile.write('No. of first years in CS134: {}.\\n'.format(fYears))\n",
    "    sFile.write('No. of sophmores in CS134: {}.\\n'.format(sophYears))\n",
    "    sFile.write('No. of juniors in CS134: {}\\n'.format(jYears))\n",
    "    sFile.write('No. of seniors in CS134: {}\\n'.format(sYears))"
   ]
  },
  {
   "cell_type": "markdown",
   "metadata": {},
   "source": [
    "We can use `ls -l` to see that a new file `studentFacts.txt` has been created:"
   ]
  },
  {
   "cell_type": "code",
   "execution_count": 7,
   "metadata": {},
   "outputs": [
    {
     "name": "stdout",
     "output_type": "stream",
     "text": [
      "total 21856\r\n",
      "-rw-r--r--  1 shikhasingh  staff  11145593 Oct  6 11:36 134-Lecture11.key\r\n",
      "drwxr-xr-x  3 shikhasingh  staff        96 Oct  4 15:43 \u001b[34m__pycache__\u001b[m\u001b[m/\r\n",
      "drwxr-xr-x  7 shikhasingh  staff       224 Oct  1 16:34 \u001b[34mcsv\u001b[m\u001b[m/\r\n",
      "-rw-r--r--  1 shikhasingh  staff     28944 Oct  6 11:36 lecture11.ipynb\r\n",
      "-rw-r--r--  1 shikhasingh  staff      2083 Sep 29 08:33 sequenceTools.py\r\n",
      "-rw-r--r--  1 shikhasingh  staff       229 Oct  6 11:37 studentFacts.txt\r\n",
      "drwxr-xr-x  7 shikhasingh  staff       224 Oct  1 16:34 \u001b[34mtextfiles\u001b[m\u001b[m/\r\n"
     ]
    }
   ],
   "source": [
    "ls -l"
   ]
  },
  {
   "cell_type": "markdown",
   "metadata": {},
   "source": [
    "Use the OS command `cat` to view the contents of the file:"
   ]
  },
  {
   "cell_type": "code",
   "execution_count": 8,
   "metadata": {},
   "outputs": [
    {
     "name": "stdout",
     "output_type": "stream",
     "text": [
      "Fun facts about CS134 students:\r\n",
      "Students with most vowels in their name: Yaoyue, Olivia, Aleksander, Madeline.\r\n",
      "No. of first years in CS134: 18.\r\n",
      "No. of sophmores in CS134: 13.\r\n",
      "No. of juniors in CS134: 5\r\n",
      "No. of seniors in CS134: 0\r\n"
     ]
    }
   ],
   "source": [
    "cat studentFacts.txt"
   ]
  },
  {
   "cell_type": "markdown",
   "metadata": {},
   "source": [
    "## Appending to Files\n",
    "\n",
    "If a file already has something in it, opening it in `w` mode again will erase all its past contents.  If we need to append something to a file, we open it in append `a` mode. \n",
    "\n",
    "For example, let us append a sentence to `studentFacts.txt`."
   ]
  },
  {
   "cell_type": "code",
   "execution_count": 9,
   "metadata": {},
   "outputs": [],
   "source": [
    "with open('studentFacts.txt', 'a') as sFile:\n",
    "    sFile.write('Goodbye.\\n')"
   ]
  },
  {
   "cell_type": "code",
   "execution_count": 10,
   "metadata": {},
   "outputs": [
    {
     "name": "stdout",
     "output_type": "stream",
     "text": [
      "Fun facts about CS134 students:\r\n",
      "Students with most vowels in their name: Yaoyue, Olivia, Aleksander, Madeline.\r\n",
      "No. of first years in CS134: 18.\r\n",
      "No. of sophmores in CS134: 13.\r\n",
      "No. of juniors in CS134: 5\r\n",
      "No. of seniors in CS134: 0\r\n",
      "Goodbye.\r\n"
     ]
    }
   ],
   "source": [
    "cat studentFacts.txt "
   ]
  },
  {
   "cell_type": "markdown",
   "metadata": {},
   "source": [
    "## List Methods:  Do not change the List\n",
    "\n",
    "We have seen several list methods already.  \n",
    "\n",
    "Here we summarize the list methods that do not modify the list, and others that do modify the list they are called on.\n",
    "\n",
    "Useful methods that **do not modify the list** they are called on:\n",
    "   * `.count()`\n",
    "   * `.index()`\n",
    "   \n",
    "The descriptions of these are in the lecture slides.  Examples below.\n",
    "   "
   ]
  },
  {
   "cell_type": "code",
   "execution_count": 11,
   "metadata": {},
   "outputs": [
    {
     "data": {
      "text/plain": [
       "2"
      ]
     },
     "execution_count": 11,
     "metadata": {},
     "output_type": "execute_result"
    }
   ],
   "source": [
    "myList = list(\"Hello World!\")\n",
    "\n",
    "myList.index('l') # gives first index "
   ]
  },
  {
   "cell_type": "code",
   "execution_count": 12,
   "metadata": {},
   "outputs": [
    {
     "ename": "ValueError",
     "evalue": "'z' is not in list",
     "output_type": "error",
     "traceback": [
      "\u001b[0;31m---------------------------------------------------------------------------\u001b[0m",
      "\u001b[0;31mValueError\u001b[0m                                Traceback (most recent call last)",
      "\u001b[0;32m/var/folders/h8/n5myy3jd1d7cfv42cw42flt80000gn/T/ipykernel_29135/2661724328.py\u001b[0m in \u001b[0;36m<module>\u001b[0;34m\u001b[0m\n\u001b[0;32m----> 1\u001b[0;31m \u001b[0mmyList\u001b[0m\u001b[0;34m.\u001b[0m\u001b[0mindex\u001b[0m\u001b[0;34m(\u001b[0m\u001b[0;34m'z'\u001b[0m\u001b[0;34m)\u001b[0m  \u001b[0;31m# gives error if item not present\u001b[0m\u001b[0;34m\u001b[0m\u001b[0;34m\u001b[0m\u001b[0m\n\u001b[0m",
      "\u001b[0;31mValueError\u001b[0m: 'z' is not in list"
     ]
    }
   ],
   "source": [
    "myList.index('z')  # gives error if item not present"
   ]
  },
  {
   "cell_type": "code",
   "execution_count": 13,
   "metadata": {},
   "outputs": [
    {
     "data": {
      "text/plain": [
       "4"
      ]
     },
     "execution_count": 13,
     "metadata": {},
     "output_type": "execute_result"
    }
   ],
   "source": [
    "newList = ['a', 'a', 'a', 'a', 'b', 'b', 'c', 'c']\n",
    "newList.count('a')"
   ]
  },
  {
   "cell_type": "code",
   "execution_count": 14,
   "metadata": {},
   "outputs": [
    {
     "data": {
      "text/plain": [
       "0"
      ]
     },
     "execution_count": 14,
     "metadata": {},
     "output_type": "execute_result"
    }
   ],
   "source": [
    "newList.count('z')"
   ]
  },
  {
   "cell_type": "markdown",
   "metadata": {},
   "source": [
    "## List Methods:  Modify the List\n",
    "\n",
    "Unlike integers, strings, floats, which are immutable, lists are a mutable objects and can be changed in place. \n",
    "\n",
    "This has several implications which we will discuss in this and coming lectures.\n",
    "\n",
    "Useful methods that **do modify the list** they are called on:\n",
    "   * `.append()`\n",
    "   * `.extend()`\n",
    "   * `.insert()`\n",
    "   * `.remove()`\n",
    "   * `.pop()`   \n",
    "   \n",
    "Other ways to modify a list in place:\n",
    "  * direct assignment to a list element\n",
    "  * sorting a list in place using `.sort()`\n",
    "\n",
    "Let us work through these with examples. "
   ]
  },
  {
   "cell_type": "code",
   "execution_count": 15,
   "metadata": {},
   "outputs": [],
   "source": [
    "myList = [1, 2, 3, 4]  # fresh assignment: creates a new list with the name myList"
   ]
  },
  {
   "cell_type": "code",
   "execution_count": 16,
   "metadata": {},
   "outputs": [],
   "source": [
    "myList[1] = 7   # changing the value by direct assignment"
   ]
  },
  {
   "cell_type": "code",
   "execution_count": 17,
   "metadata": {},
   "outputs": [
    {
     "data": {
      "text/plain": [
       "[1, 7, 3, 4, 5]"
      ]
     },
     "execution_count": 17,
     "metadata": {},
     "output_type": "execute_result"
    }
   ],
   "source": [
    "myList.append(5)  # appending an item at the end\n",
    "myList"
   ]
  },
  {
   "cell_type": "code",
   "execution_count": 18,
   "metadata": {},
   "outputs": [
    {
     "data": {
      "text/plain": [
       "[1, 7, 3, 4, 5, 6, 8]"
      ]
     },
     "execution_count": 18,
     "metadata": {},
     "output_type": "execute_result"
    }
   ],
   "source": [
    "myList.extend([6, 8])  # extend method lets you append multiple items\n",
    "\n",
    "myList "
   ]
  },
  {
   "cell_type": "code",
   "execution_count": 19,
   "metadata": {},
   "outputs": [
    {
     "data": {
      "text/plain": [
       "[1, 7, 3, 4, 5, 6, 8]"
      ]
     },
     "execution_count": 19,
     "metadata": {},
     "output_type": "execute_result"
    }
   ],
   "source": [
    "myList"
   ]
  },
  {
   "cell_type": "code",
   "execution_count": 20,
   "metadata": {},
   "outputs": [
    {
     "data": {
      "text/plain": [
       "4"
      ]
     },
     "execution_count": 20,
     "metadata": {},
     "output_type": "execute_result"
    }
   ],
   "source": [
    "myList.pop(3)  # removes the item at index 3 and returns it"
   ]
  },
  {
   "cell_type": "code",
   "execution_count": 21,
   "metadata": {},
   "outputs": [
    {
     "data": {
      "text/plain": [
       "[1, 7, 3, 5, 6, 8]"
      ]
     },
     "execution_count": 21,
     "metadata": {},
     "output_type": "execute_result"
    }
   ],
   "source": [
    "myList"
   ]
  },
  {
   "cell_type": "code",
   "execution_count": 22,
   "metadata": {},
   "outputs": [
    {
     "data": {
      "text/plain": [
       "8"
      ]
     },
     "execution_count": 22,
     "metadata": {},
     "output_type": "execute_result"
    }
   ],
   "source": [
    "myList.pop() # remove the last item and returns it"
   ]
  },
  {
   "cell_type": "code",
   "execution_count": 23,
   "metadata": {},
   "outputs": [
    {
     "data": {
      "text/plain": [
       "[1, 7, 3, 5, 6]"
      ]
     },
     "execution_count": 23,
     "metadata": {},
     "output_type": "execute_result"
    }
   ],
   "source": [
    "myList"
   ]
  },
  {
   "cell_type": "code",
   "execution_count": 24,
   "metadata": {},
   "outputs": [],
   "source": [
    "myList.insert(0, 11)  # insert 11 at index 0, shift everything over"
   ]
  },
  {
   "cell_type": "code",
   "execution_count": 25,
   "metadata": {},
   "outputs": [
    {
     "data": {
      "text/plain": [
       "[11, 1, 7, 3, 5, 6]"
      ]
     },
     "execution_count": 25,
     "metadata": {},
     "output_type": "execute_result"
    }
   ],
   "source": [
    "myList"
   ]
  },
  {
   "cell_type": "code",
   "execution_count": 26,
   "metadata": {},
   "outputs": [],
   "source": [
    "myList.insert(10, 12)  # out of range index"
   ]
  },
  {
   "cell_type": "code",
   "execution_count": 27,
   "metadata": {},
   "outputs": [
    {
     "data": {
      "text/plain": [
       "[11, 1, 7, 3, 5, 6, 12]"
      ]
     },
     "execution_count": 27,
     "metadata": {},
     "output_type": "execute_result"
    }
   ],
   "source": [
    "myList"
   ]
  },
  {
   "cell_type": "code",
   "execution_count": 28,
   "metadata": {},
   "outputs": [],
   "source": [
    "myList.remove(12)   # remove(item) removes the item from the list"
   ]
  },
  {
   "cell_type": "code",
   "execution_count": 29,
   "metadata": {},
   "outputs": [
    {
     "data": {
      "text/plain": [
       "[11, 1, 7, 3, 5, 6]"
      ]
     },
     "execution_count": 29,
     "metadata": {},
     "output_type": "execute_result"
    }
   ],
   "source": [
    "myList"
   ]
  },
  {
   "cell_type": "code",
   "execution_count": 30,
   "metadata": {},
   "outputs": [
    {
     "ename": "ValueError",
     "evalue": "list.remove(x): x not in list",
     "output_type": "error",
     "traceback": [
      "\u001b[0;31m---------------------------------------------------------------------------\u001b[0m",
      "\u001b[0;31mValueError\u001b[0m                                Traceback (most recent call last)",
      "\u001b[0;32m/var/folders/h8/n5myy3jd1d7cfv42cw42flt80000gn/T/ipykernel_29135/3535185275.py\u001b[0m in \u001b[0;36m<module>\u001b[0;34m\u001b[0m\n\u001b[0;32m----> 1\u001b[0;31m \u001b[0mmyList\u001b[0m\u001b[0;34m.\u001b[0m\u001b[0mremove\u001b[0m\u001b[0;34m(\u001b[0m\u001b[0;36m13\u001b[0m\u001b[0;34m)\u001b[0m \u001b[0;31m# gives a value error\u001b[0m\u001b[0;34m\u001b[0m\u001b[0;34m\u001b[0m\u001b[0m\n\u001b[0m",
      "\u001b[0;31mValueError\u001b[0m: list.remove(x): x not in list"
     ]
    }
   ],
   "source": [
    "myList.remove(13) # gives a value error"
   ]
  },
  {
   "cell_type": "code",
   "execution_count": 31,
   "metadata": {},
   "outputs": [
    {
     "data": {
      "text/plain": [
       "[1, 3, 5, 6, 7, 11]"
      ]
     },
     "execution_count": 31,
     "metadata": {},
     "output_type": "execute_result"
    }
   ],
   "source": [
    "myList.sort()\n",
    "myList"
   ]
  },
  {
   "cell_type": "markdown",
   "metadata": {},
   "source": [
    "## Sort vs Sorted\n",
    "\n",
    "\n",
    "* `.sort()` method is only for lists and sorts by mutating the list in place \n",
    "* Python provides a built in function `sorted` that can be used to sort any sequence (strings, lists, tuples).  It returns a new sorted sequence, and does NOT modify the original sequence"
   ]
  },
  {
   "cell_type": "code",
   "execution_count": 61,
   "metadata": {},
   "outputs": [],
   "source": [
    "list1 = [6, 3, 4];  list2 = [6, 3, 4]"
   ]
  },
  {
   "cell_type": "code",
   "execution_count": 62,
   "metadata": {},
   "outputs": [],
   "source": [
    "list1.sort() # sort by mutating list1"
   ]
  },
  {
   "cell_type": "code",
   "execution_count": 63,
   "metadata": {},
   "outputs": [
    {
     "data": {
      "text/plain": [
       "[3, 4, 6]"
      ]
     },
     "execution_count": 63,
     "metadata": {},
     "output_type": "execute_result"
    }
   ],
   "source": [
    "sorted(list2) # returns a new sorted list"
   ]
  },
  {
   "cell_type": "code",
   "execution_count": 64,
   "metadata": {
    "scrolled": true
   },
   "outputs": [
    {
     "name": "stdout",
     "output_type": "stream",
     "text": [
      "[3, 4, 6] [6, 3, 4]\n"
     ]
    }
   ],
   "source": [
    "print(list1, list2)"
   ]
  },
  {
   "cell_type": "markdown",
   "metadata": {},
   "source": [
    "## Aside: Sorting Strings\n",
    "\n",
    "We can also sort strings (alphabetically) using the `sorted()` function.  Notice that the function still returns a `list`, not a `string`.\n"
   ]
  },
  {
   "cell_type": "code",
   "execution_count": 65,
   "metadata": {
    "scrolled": true
   },
   "outputs": [
    {
     "data": {
      "text/plain": [
       "['a', 'h', 'h', 'i', 'k', 's']"
      ]
     },
     "execution_count": 65,
     "metadata": {},
     "output_type": "execute_result"
    }
   ],
   "source": [
    "sorted('shikha')"
   ]
  },
  {
   "cell_type": "code",
   "execution_count": 66,
   "metadata": {},
   "outputs": [
    {
     "data": {
      "text/plain": [
       "['a', 'e', 'e', 'i', 'j', 'n', 'n']"
      ]
     },
     "execution_count": 66,
     "metadata": {},
     "output_type": "execute_result"
    }
   ],
   "source": [
    "sorted('jeannie')"
   ]
  },
  {
   "cell_type": "code",
   "execution_count": 67,
   "metadata": {},
   "outputs": [
    {
     "data": {
      "text/plain": [
       "[' ', 'H', 'W', 'd', 'e', 'l', 'l', 'l', 'o', 'o', 'r']"
      ]
     },
     "execution_count": 67,
     "metadata": {},
     "output_type": "execute_result"
    }
   ],
   "source": [
    "sorted('Hello World')"
   ]
  },
  {
   "cell_type": "code",
   "execution_count": 68,
   "metadata": {
    "scrolled": true
   },
   "outputs": [
    {
     "data": {
      "text/plain": [
       "['A',\n",
       " 'A',\n",
       " 'B',\n",
       " 'B',\n",
       " 'C',\n",
       " 'C',\n",
       " 'D',\n",
       " 'D',\n",
       " 'a',\n",
       " 'a',\n",
       " 'b',\n",
       " 'b',\n",
       " 'c',\n",
       " 'c',\n",
       " 'd',\n",
       " 'd']"
      ]
     },
     "execution_count": 68,
     "metadata": {},
     "output_type": "execute_result"
    }
   ],
   "source": [
    "sorted('aaAAbbBBccCCddDD')"
   ]
  },
  {
   "cell_type": "markdown",
   "metadata": {},
   "source": [
    "### Aside: Sorted by ASCII values\n",
    "\n",
    "Notice that capital letters come before lower case in default sorting.  Similarly, special characters come before either.  These orderings are decided by the ASCII values of the symbols.\n",
    "\n",
    "The built-in functions `ord()` and `chr()` let us access the ASCII value of characters and vice versa."
   ]
  },
  {
   "cell_type": "code",
   "execution_count": 40,
   "metadata": {},
   "outputs": [
    {
     "data": {
      "text/plain": [
       "65"
      ]
     },
     "execution_count": 40,
     "metadata": {},
     "output_type": "execute_result"
    }
   ],
   "source": [
    "ord('A')"
   ]
  },
  {
   "cell_type": "code",
   "execution_count": 41,
   "metadata": {},
   "outputs": [
    {
     "data": {
      "text/plain": [
       "90"
      ]
     },
     "execution_count": 41,
     "metadata": {},
     "output_type": "execute_result"
    }
   ],
   "source": [
    "ord('Z')"
   ]
  },
  {
   "cell_type": "code",
   "execution_count": 42,
   "metadata": {},
   "outputs": [
    {
     "data": {
      "text/plain": [
       "97"
      ]
     },
     "execution_count": 42,
     "metadata": {},
     "output_type": "execute_result"
    }
   ],
   "source": [
    "ord('a')"
   ]
  },
  {
   "cell_type": "code",
   "execution_count": 43,
   "metadata": {},
   "outputs": [
    {
     "data": {
      "text/plain": [
       "122"
      ]
     },
     "execution_count": 43,
     "metadata": {},
     "output_type": "execute_result"
    }
   ],
   "source": [
    "ord('z')"
   ]
  },
  {
   "cell_type": "code",
   "execution_count": 44,
   "metadata": {},
   "outputs": [
    {
     "data": {
      "text/plain": [
       "'o'"
      ]
     },
     "execution_count": 44,
     "metadata": {},
     "output_type": "execute_result"
    }
   ],
   "source": [
    "chr(111)"
   ]
  },
  {
   "cell_type": "code",
   "execution_count": 45,
   "metadata": {},
   "outputs": [
    {
     "data": {
      "text/plain": [
       "'!'"
      ]
     },
     "execution_count": 45,
     "metadata": {},
     "output_type": "execute_result"
    }
   ],
   "source": [
    "chr(33)"
   ]
  },
  {
   "cell_type": "markdown",
   "metadata": {},
   "source": [
    "## Value vs Identity \n",
    "\n",
    "* An objects identity never changes in Python once it has been created, you may think of it as the object’s address in memory\n",
    "* On the other hand, the value of some objects can change.  \n",
    "* Objects whose values can change are called **mutable**; objects whose values cannot change are called **immutable**\n",
    "\n",
    "\n",
    "* The `is` operator compares the identity of two objects, and the `==` operator compares the value (contents) of an object\n",
    "* The `id()` function returns an integer representing its identity"
   ]
  },
  {
   "cell_type": "code",
   "execution_count": 46,
   "metadata": {},
   "outputs": [],
   "source": [
    "myList = [1, 2, 3]\n",
    "newList = [1, 2, 3]\n",
    "list2 = myList"
   ]
  },
  {
   "cell_type": "code",
   "execution_count": 47,
   "metadata": {},
   "outputs": [
    {
     "data": {
      "text/plain": [
       "True"
      ]
     },
     "execution_count": 47,
     "metadata": {},
     "output_type": "execute_result"
    }
   ],
   "source": [
    "myList == newList # same values"
   ]
  },
  {
   "cell_type": "code",
   "execution_count": 48,
   "metadata": {},
   "outputs": [
    {
     "data": {
      "text/plain": [
       "False"
      ]
     },
     "execution_count": 48,
     "metadata": {},
     "output_type": "execute_result"
    }
   ],
   "source": [
    "myList is newList # different identities"
   ]
  },
  {
   "cell_type": "code",
   "execution_count": 49,
   "metadata": {},
   "outputs": [
    {
     "data": {
      "text/plain": [
       "True"
      ]
     },
     "execution_count": 49,
     "metadata": {},
     "output_type": "execute_result"
    }
   ],
   "source": [
    "myList == list2"
   ]
  },
  {
   "cell_type": "code",
   "execution_count": 50,
   "metadata": {},
   "outputs": [
    {
     "data": {
      "text/plain": [
       "True"
      ]
     },
     "execution_count": 50,
     "metadata": {},
     "output_type": "execute_result"
    }
   ],
   "source": [
    "myList is list2"
   ]
  },
  {
   "cell_type": "code",
   "execution_count": 51,
   "metadata": {},
   "outputs": [],
   "source": [
    "myList.append(4)"
   ]
  },
  {
   "cell_type": "code",
   "execution_count": 52,
   "metadata": {},
   "outputs": [
    {
     "data": {
      "text/plain": [
       "[1, 2, 3, 4]"
      ]
     },
     "execution_count": 52,
     "metadata": {},
     "output_type": "execute_result"
    }
   ],
   "source": [
    "list2 # does this change?"
   ]
  },
  {
   "cell_type": "code",
   "execution_count": 53,
   "metadata": {},
   "outputs": [
    {
     "data": {
      "text/plain": [
       "4381053552"
      ]
     },
     "execution_count": 53,
     "metadata": {},
     "output_type": "execute_result"
    }
   ],
   "source": [
    "name = 'gryffindor'\n",
    "id(name)"
   ]
  },
  {
   "cell_type": "code",
   "execution_count": 54,
   "metadata": {},
   "outputs": [],
   "source": [
    "name = name[4:8] # slicing returns a new string"
   ]
  },
  {
   "cell_type": "code",
   "execution_count": 55,
   "metadata": {
    "scrolled": true
   },
   "outputs": [
    {
     "data": {
      "text/plain": [
       "4381021168"
      ]
     },
     "execution_count": 55,
     "metadata": {},
     "output_type": "execute_result"
    }
   ],
   "source": [
    "id(name)"
   ]
  },
  {
   "cell_type": "markdown",
   "metadata": {},
   "source": [
    "## Understanding Aliasing \n",
    "\n",
    "Let us try out some examples that illustrate how aliasing manifests itself in Python."
   ]
  },
  {
   "cell_type": "code",
   "execution_count": 56,
   "metadata": {},
   "outputs": [],
   "source": [
    "nums = [23, 19]\n",
    "words = ['hello', 'world']\n",
    "mixed = [12, nums, 'nice', words]"
   ]
  },
  {
   "cell_type": "code",
   "execution_count": 57,
   "metadata": {},
   "outputs": [],
   "source": [
    "words.append('sky')"
   ]
  },
  {
   "cell_type": "code",
   "execution_count": 58,
   "metadata": {},
   "outputs": [
    {
     "data": {
      "text/plain": [
       "[12, [23, 19], 'nice', ['hello', 'world', 'sky']]"
      ]
     },
     "execution_count": 58,
     "metadata": {},
     "output_type": "execute_result"
    }
   ],
   "source": [
    "mixed"
   ]
  },
  {
   "cell_type": "code",
   "execution_count": 59,
   "metadata": {},
   "outputs": [],
   "source": [
    "mixed[1].append(27)"
   ]
  },
  {
   "cell_type": "code",
   "execution_count": 60,
   "metadata": {},
   "outputs": [
    {
     "data": {
      "text/plain": [
       "[23, 19, 27]"
      ]
     },
     "execution_count": 60,
     "metadata": {},
     "output_type": "execute_result"
    }
   ],
   "source": [
    "nums"
   ]
  },
  {
   "cell_type": "code",
   "execution_count": 69,
   "metadata": {},
   "outputs": [
    {
     "data": {
      "text/plain": [
       "[12, [23, 19, 27], 'nice', ['hello', 'world', 'sky']]"
      ]
     },
     "execution_count": 69,
     "metadata": {},
     "output_type": "execute_result"
    }
   ],
   "source": [
    "mixed"
   ]
  },
  {
   "cell_type": "code",
   "execution_count": 70,
   "metadata": {},
   "outputs": [],
   "source": [
    "def foo(someList):\n",
    "    someList.append('*')\n",
    "    \n",
    "    \n",
    "newList = ['#']\n",
    "bar = foo(newList)"
   ]
  },
  {
   "cell_type": "code",
   "execution_count": 71,
   "metadata": {},
   "outputs": [
    {
     "data": {
      "text/plain": [
       "['#', '*']"
      ]
     },
     "execution_count": 71,
     "metadata": {},
     "output_type": "execute_result"
    }
   ],
   "source": [
    "newList"
   ]
  },
  {
   "cell_type": "code",
   "execution_count": 72,
   "metadata": {},
   "outputs": [
    {
     "ename": "NameError",
     "evalue": "name 'someList' is not defined",
     "output_type": "error",
     "traceback": [
      "\u001b[0;31m---------------------------------------------------------------------------\u001b[0m",
      "\u001b[0;31mNameError\u001b[0m                                 Traceback (most recent call last)",
      "\u001b[0;32m/var/folders/h8/n5myy3jd1d7cfv42cw42flt80000gn/T/ipykernel_29135/1305130735.py\u001b[0m in \u001b[0;36m<module>\u001b[0;34m\u001b[0m\n\u001b[0;32m----> 1\u001b[0;31m \u001b[0msomeList\u001b[0m \u001b[0;31m# will this work?\u001b[0m\u001b[0;34m\u001b[0m\u001b[0;34m\u001b[0m\u001b[0m\n\u001b[0m",
      "\u001b[0;31mNameError\u001b[0m: name 'someList' is not defined"
     ]
    }
   ],
   "source": [
    "someList # will this work?"
   ]
  },
  {
   "cell_type": "code",
   "execution_count": 73,
   "metadata": {
    "scrolled": false
   },
   "outputs": [
    {
     "name": "stdout",
     "output_type": "stream",
     "text": [
      "4380939776\n",
      "4380939776\n"
     ]
    }
   ],
   "source": [
    "def foo(someList):\n",
    "    print(id(someList))\n",
    "    someList.append('*')\n",
    "    \n",
    "    \n",
    "newList = ['#']\n",
    "print(id(newList))\n",
    "bar = foo(newList)"
   ]
  }
 ],
 "metadata": {
  "kernelspec": {
   "display_name": "Python 3 (ipykernel)",
   "language": "python",
   "name": "python3"
  },
  "language_info": {
   "codemirror_mode": {
    "name": "ipython",
    "version": 3
   },
   "file_extension": ".py",
   "mimetype": "text/x-python",
   "name": "python",
   "nbconvert_exporter": "python",
   "pygments_lexer": "ipython3",
   "version": "3.9.7"
  }
 },
 "nbformat": 4,
 "nbformat_minor": 1
}
