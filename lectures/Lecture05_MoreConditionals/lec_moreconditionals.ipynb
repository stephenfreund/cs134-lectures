{
 "cells": [
  {
   "cell_type": "markdown",
   "metadata": {},
   "source": [
    "# CS134 Lecture 5:  Chained Conditionals\n",
    "### Jeannie Albrecht and Shikha Singh\n",
    "\n",
    "\n",
    "In this lecture, we will continue our discussion of conditionals in Python.\n",
    "\n",
    "[Last lecture](http://cs.williams.edu/~cs134/notebook/lec_booleans_conditionals.html), we looked at some simple `if-else` conditional statements.  We also discussed how the `else` block is optional.\n",
    "\n",
    "Today we will discuss the logical operators `and`, `or`, and `not` in Python to construct more complicated Boolean expressions, in addition to **nested conditionals**.\n",
    "\n",
    "* [Logical Operators](#sec1)\n",
    "* [Nested and Chained Conditionals](#sec2)"
   ]
  },
  {
   "cell_type": "markdown",
   "metadata": {},
   "source": [
    "<a id=\"sec1\"></a>"
   ]
  },
  {
   "cell_type": "markdown",
   "metadata": {},
   "source": [
    "## Logical operators:  `and`, `or`, `not` \n",
    "\n",
    "\n",
    "The logical operators `and`, `or` and `not` in Python are used to combine Boolean values and write more complex Booleans expressions. \n",
    "\n",
    "### `and`\n",
    "*boolExp1* **and** *boolExp2* evaluates to `True` iff **both** *boolExp1* and *boolExp2* evaluate to `True`.\n",
    "\n",
    "### `or`\n",
    "\n",
    "*boolExp1* **or** *bool Exp2* evaluates to `True` iff **at least one** of *boolExp1* and *boolExp2* evaluate to `True`.\n",
    "\n",
    "### `not`\n",
    "not *boolExp* evaluates to True iff *boolExp* evaluates to False.\n",
    "\n",
    "Let us try these out.\n",
    "\n"
   ]
  },
  {
   "cell_type": "code",
   "execution_count": null,
   "metadata": {},
   "outputs": [],
   "source": [
    "20 < 13 and 6 == 6"
   ]
  },
  {
   "cell_type": "code",
   "execution_count": null,
   "metadata": {},
   "outputs": [],
   "source": [
    "20 < 13 or 6 == 6"
   ]
  },
  {
   "cell_type": "code",
   "execution_count": null,
   "metadata": {},
   "outputs": [],
   "source": [
    "not 20 < 13"
   ]
  },
  {
   "cell_type": "code",
   "execution_count": null,
   "metadata": {},
   "outputs": [],
   "source": [
    "not 6 == 6"
   ]
  },
  {
   "cell_type": "markdown",
   "metadata": {},
   "source": [
    "**Example 1.** Check if a number is divisible by 5 and is odd. "
   ]
  },
  {
   "cell_type": "code",
   "execution_count": null,
   "metadata": {},
   "outputs": [],
   "source": [
    "def oddMultipleFive(num):\n",
    "    \"Returns true if num is divisible by 5 and odd\"\n",
    "    return num % 5 == 0 and num % 2 == 1 "
   ]
  },
  {
   "cell_type": "code",
   "execution_count": null,
   "metadata": {},
   "outputs": [],
   "source": [
    "oddMultipleFive(55)"
   ]
  },
  {
   "cell_type": "code",
   "execution_count": null,
   "metadata": {
    "scrolled": true
   },
   "outputs": [],
   "source": [
    "oddMultipleFive(80)"
   ]
  },
  {
   "cell_type": "markdown",
   "metadata": {},
   "source": [
    "**Example 2.** Ask the user to enter a lowercase letter. Check if it is a vowel or consonent."
   ]
  },
  {
   "cell_type": "code",
   "execution_count": 1,
   "metadata": {},
   "outputs": [],
   "source": [
    "def isVowel(letter):\n",
    "    \"\"\"Takes lowercase letter as input and returns True if it is a vowel,\n",
    "    else returns False\"\"\"\n",
    "    # can do an if else or since we are \n",
    "    # returning the truth value of expression, can directly return\n",
    "    return (letter == 'a' or letter == 'e' or letter == 'i' or letter == 'o' or letter == 'u') "
   ]
  },
  {
   "cell_type": "code",
   "execution_count": 2,
   "metadata": {},
   "outputs": [
    {
     "data": {
      "text/plain": [
       "False"
      ]
     },
     "execution_count": 2,
     "metadata": {},
     "output_type": "execute_result"
    }
   ],
   "source": [
    "isVowel('b')"
   ]
  },
  {
   "cell_type": "code",
   "execution_count": 3,
   "metadata": {},
   "outputs": [
    {
     "data": {
      "text/plain": [
       "True"
      ]
     },
     "execution_count": 3,
     "metadata": {},
     "output_type": "execute_result"
    }
   ],
   "source": [
    "isVowel('a')"
   ]
  },
  {
   "cell_type": "code",
   "execution_count": 4,
   "metadata": {},
   "outputs": [
    {
     "data": {
      "text/plain": [
       "False"
      ]
     },
     "execution_count": 4,
     "metadata": {},
     "output_type": "execute_result"
    }
   ],
   "source": [
    "isVowel('z')"
   ]
  },
  {
   "cell_type": "markdown",
   "metadata": {},
   "source": [
    "**Some takeways.** \n",
    "* We can chain together a bunch of boolean expressions (not just two).\n",
    "* It does not make sense to write `letter == 'a' or 'e' or 'i' or 'o' 'u'`:  logical operators take `bool` type operands, not strings."
   ]
  },
  {
   "cell_type": "markdown",
   "metadata": {},
   "source": [
    "**Example 3.**  Write a function `divide` that takes two numbers `num1` and `num2` as input, and returns\n",
    "the result of `num1/num2` as long as `num2`  is not zero.  If `num2` is zero, print \"Cannot divide by zero\"\n",
    "and return None."
   ]
  },
  {
   "cell_type": "code",
   "execution_count": 8,
   "metadata": {},
   "outputs": [],
   "source": [
    "def divide(num1, num2):\n",
    "    if not (num2 == 0):  # can also write num2 != 0\n",
    "        return num1/num2\n",
    "    else:\n",
    "        print(\"Cannot divide by Zero\")\n",
    "    # do we need to say anything after this?\n",
    "    # if we get to here need to return Non\n",
    "    # which happens implicitly"
   ]
  },
  {
   "cell_type": "code",
   "execution_count": 9,
   "metadata": {},
   "outputs": [
    {
     "data": {
      "text/plain": [
       "2.3333333333333335"
      ]
     },
     "execution_count": 9,
     "metadata": {},
     "output_type": "execute_result"
    }
   ],
   "source": [
    "divide(7, 3)"
   ]
  },
  {
   "cell_type": "code",
   "execution_count": 10,
   "metadata": {},
   "outputs": [
    {
     "name": "stdout",
     "output_type": "stream",
     "text": [
      "Cannot divide by Zero\n"
     ]
    }
   ],
   "source": [
    "divide(9, 0)"
   ]
  },
  {
   "cell_type": "markdown",
   "metadata": {},
   "source": [
    "<a id=\"sec2\"></a>"
   ]
  },
  {
   "cell_type": "markdown",
   "metadata": {},
   "source": [
    "## Nested Conditionals\n",
    "\n",
    "\n",
    "Sometimes, we may encounter a more complicated conditional structure.  Consider the following example.\n",
    "\n",
    "Write a function `weather` that takes as input a temperature `temp` value in Fahrenheit. \n",
    "* If temp is above 80, print \"It is a hot one out there.\"\n",
    "* If temp is between 60 and 80, print \"Nice day out, enjoy!\"\n",
    "* If temp is below 60 and above 40, print \"Chilly day, wear a sweater.\"\n",
    "* If temp is below 40, print \"Its freezing out, bring a winter jacket!\"\n",
    "\n",
    "**Question.** How can we organize this using if-else statements?"
   ]
  },
  {
   "cell_type": "markdown",
   "metadata": {},
   "source": [
    "### Attempt 1:  Nested If Else\n",
    "\n",
    "Does the following work?"
   ]
  },
  {
   "cell_type": "code",
   "execution_count": 11,
   "metadata": {
    "scrolled": true
   },
   "outputs": [],
   "source": [
    "def weather1(temp):\n",
    "    if temp > 80:\n",
    "        print(\"It is a hot one out there.\")\n",
    "    else:\n",
    "        if temp >= 60:\n",
    "            print(\"Nice day out, enjoy!\")\n",
    "        else:\n",
    "            if temp >= 40:\n",
    "                print(\"Chilly day, wear a sweater.\")\n",
    "            else:\n",
    "                print(\"Its freezing out, bring a winter jacket!\")"
   ]
  },
  {
   "cell_type": "code",
   "execution_count": 12,
   "metadata": {},
   "outputs": [
    {
     "name": "stdout",
     "output_type": "stream",
     "text": [
      "It is a hot one out there.\n"
     ]
    }
   ],
   "source": [
    "weather1(89)"
   ]
  },
  {
   "cell_type": "code",
   "execution_count": 13,
   "metadata": {
    "scrolled": true
   },
   "outputs": [
    {
     "name": "stdout",
     "output_type": "stream",
     "text": [
      "Nice day out, enjoy!\n"
     ]
    }
   ],
   "source": [
    "weather1(72)"
   ]
  },
  {
   "cell_type": "code",
   "execution_count": 14,
   "metadata": {},
   "outputs": [
    {
     "name": "stdout",
     "output_type": "stream",
     "text": [
      "Chilly day, wear a sweater.\n"
     ]
    }
   ],
   "source": [
    "weather1(55)"
   ]
  },
  {
   "cell_type": "code",
   "execution_count": 15,
   "metadata": {},
   "outputs": [
    {
     "name": "stdout",
     "output_type": "stream",
     "text": [
      "Its freezing out, bring a winter jacket!\n"
     ]
    }
   ],
   "source": [
    "weather1(33)"
   ]
  },
  {
   "cell_type": "markdown",
   "metadata": {},
   "source": [
    "###  Attempt 2: Only Ifs\n",
    "\n",
    "The above function looks like a mess with so many indented blocks.  What if we used only `if`s?  What is the trade off?"
   ]
  },
  {
   "cell_type": "code",
   "execution_count": 16,
   "metadata": {},
   "outputs": [],
   "source": [
    "def weather2(temp):\n",
    "    if temp > 80:\n",
    "        print(\"It is a hot one out there.\")\n",
    "    if temp >= 60 and temp <= 80:\n",
    "        print(\"Nice day out, enjoy!\")\n",
    "    if temp <60 and temp >= 40:\n",
    "        print(\"Chilly day, wear a sweater\")\n",
    "    if temp < 40:\n",
    "        print(\"Its freezing out, bring a winter jacket!\")"
   ]
  },
  {
   "cell_type": "code",
   "execution_count": 17,
   "metadata": {
    "scrolled": true
   },
   "outputs": [
    {
     "name": "stdout",
     "output_type": "stream",
     "text": [
      "It is a hot one out there.\n"
     ]
    }
   ],
   "source": [
    "weather2(89)"
   ]
  },
  {
   "cell_type": "code",
   "execution_count": 18,
   "metadata": {
    "scrolled": true
   },
   "outputs": [
    {
     "name": "stdout",
     "output_type": "stream",
     "text": [
      "Nice day out, enjoy!\n"
     ]
    }
   ],
   "source": [
    "weather2(72)"
   ]
  },
  {
   "cell_type": "code",
   "execution_count": 19,
   "metadata": {},
   "outputs": [
    {
     "name": "stdout",
     "output_type": "stream",
     "text": [
      "Chilly day, wear a sweater\n"
     ]
    }
   ],
   "source": [
    "weather2(55)"
   ]
  },
  {
   "cell_type": "code",
   "execution_count": 20,
   "metadata": {},
   "outputs": [
    {
     "name": "stdout",
     "output_type": "stream",
     "text": [
      "Its freezing out, bring a winter jacket!\n"
     ]
    }
   ],
   "source": [
    "weather2(33)"
   ]
  },
  {
   "cell_type": "markdown",
   "metadata": {},
   "source": [
    "###  Class Discussion\n",
    "\n",
    "* What is the difference between Attempt 1 and Attempt 2?   Can we trace the control flow through each?\n",
    "* What are the pros, cons of each?"
   ]
  },
  {
   "cell_type": "markdown",
   "metadata": {},
   "source": [
    "## Chained `if, elif, else` Conditionals\n",
    "\n",
    "If we only need to execute one out of several conditional branches, we can use **chained** (**multibranch**) conditionals with `if`, `elif`s, and `else` to execute exactly one of several branches.  \n",
    "\n",
    "\n",
    "### If Else Statement Syntax\n",
    "\n",
    "\n",
    "`if` (boolean expression a):  \n",
    "   &nbsp;&nbsp;&nbsp;&nbsp;&nbsp;&nbsp; statement 1  <br>\n",
    "   &nbsp;&nbsp;&nbsp;&nbsp;&nbsp;&nbsp;...  \n",
    "`elif` (boolean epression b):  \n",
    "   &nbsp;&nbsp;&nbsp;&nbsp;&nbsp;&nbsp; statement 2<br>\n",
    "   &nbsp;&nbsp;&nbsp;&nbsp;&nbsp;&nbsp;...   \n",
    "`else`:  <br>\n",
    "   &nbsp;&nbsp;&nbsp;&nbsp;&nbsp;&nbsp; statement 3     \n",
    "statement 4\n",
    "\n",
    "* If bool expression a is True: only statement 1 and 4 are executed, regardless of the boolean exp b\n",
    "* If bool expression a is False and b is True: only statement 2 and 4 are executed\n",
    "* If bool expression a and b are both False: only statement 3 and 4 are executed\n",
    "     \n"
   ]
  },
  {
   "cell_type": "code",
   "execution_count": 21,
   "metadata": {
    "scrolled": true
   },
   "outputs": [],
   "source": [
    "def weather3(temp):\n",
    "    if temp > 80:\n",
    "        print(\"It is a hot one out there.\")\n",
    "    elif temp >= 60:\n",
    "        print(\"Nice day out, enjoy!\")\n",
    "    elif temp >= 40:\n",
    "        print(\"Chilly day, wear a sweater.\")\n",
    "    else:\n",
    "        print(\"Its freezing out, bring a winter jacket!\")"
   ]
  },
  {
   "cell_type": "code",
   "execution_count": 22,
   "metadata": {
    "scrolled": true
   },
   "outputs": [
    {
     "name": "stdout",
     "output_type": "stream",
     "text": [
      "It is a hot one out there.\n"
     ]
    }
   ],
   "source": [
    "weather3(89)"
   ]
  },
  {
   "cell_type": "code",
   "execution_count": 23,
   "metadata": {
    "scrolled": true
   },
   "outputs": [
    {
     "name": "stdout",
     "output_type": "stream",
     "text": [
      "Nice day out, enjoy!\n"
     ]
    }
   ],
   "source": [
    "weather3(72)"
   ]
  },
  {
   "cell_type": "code",
   "execution_count": 24,
   "metadata": {},
   "outputs": [
    {
     "name": "stdout",
     "output_type": "stream",
     "text": [
      "Chilly day, wear a sweater.\n"
     ]
    }
   ],
   "source": [
    "weather3(55)"
   ]
  },
  {
   "cell_type": "code",
   "execution_count": 25,
   "metadata": {},
   "outputs": [
    {
     "name": "stdout",
     "output_type": "stream",
     "text": [
      "Its freezing out, bring a winter jacket!\n"
     ]
    }
   ],
   "source": [
    "weather3(33)"
   ]
  },
  {
   "cell_type": "markdown",
   "metadata": {},
   "source": [
    "###  Takeway\n",
    "\n",
    "* Chained conditionals can avoid having to nest conditionals, which improves readability\n",
    "* Since only one of the branches in a chained `if, elif, else` conditionals evaluates to `True`, using them avoids unnecessary checks incurred by chaining `if` statements one after the other."
   ]
  }
 ],
 "metadata": {
  "kernelspec": {
   "display_name": "Python 3 (ipykernel)",
   "language": "python",
   "name": "python3"
  },
  "language_info": {
   "codemirror_mode": {
    "name": "ipython",
    "version": 3
   },
   "file_extension": ".py",
   "mimetype": "text/x-python",
   "name": "python",
   "nbconvert_exporter": "python",
   "pygments_lexer": "ipython3",
   "version": "3.9.7"
  }
 },
 "nbformat": 4,
 "nbformat_minor": 4
}
