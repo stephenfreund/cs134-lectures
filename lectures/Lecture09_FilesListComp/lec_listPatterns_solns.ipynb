{
 "cells": [
  {
   "cell_type": "markdown",
   "metadata": {},
   "source": [
    "# Lecture 9: List Processing Patterns & Files Writing\n",
    "\n",
    "\n",
    "So far in the course, we have learnt how we can read from a text file and turn it into a Python data structure (such as a list of words).  Today we will look at how to read from a *CSV* (comma separated file), process the entries and write/append to a different text file. \n",
    "\n",
    "In the process, we will look at some code patterns involving lists, strings and counters that are useful when analyzing data. \n",
    "\n",
    "**Acknowlegement.** This notebook has been adapted from the Wellesley CS111 Spring 2019 course materials (http://cs111.wellesley.edu/spring19)."
   ]
  },
  {
   "cell_type": "markdown",
   "metadata": {},
   "source": [
    "## Reading in a CSV File\n",
    "\n",
    "\n",
    "**CSV Format.** A CSV (Comma Separated Values) file is a type of plain text file that stores `tabula` data.  Each row of a table is a line in the text file, with each column on the row separated by commas.  This format is the most common import and export format for spreadsheets and databases.  \n",
    "\n",
    "\n",
    "For example a simple table such as the following with columns names and ages would be represented in a CSV as:\n",
    "\n",
    "Table:\n",
    "\n",
    "| Name     | Age  |\n",
    "|:----------|:------|\n",
    "| Harry    |  14  |\n",
    "| Hermoine |  14 | \n",
    "| Dumbledor| 60  |\n",
    "\n",
    "CSV:\n",
    "\n",
    "Name,Age  \n",
    "Harry,14  \n",
    "Hermoine,14  \n",
    "Dumbledor,60  \n",
    "\n",
    "Python's `csv` module provides an easy way to read and iterate over a CSV file."
   ]
  },
  {
   "cell_type": "code",
   "execution_count": null,
   "metadata": {},
   "outputs": [],
   "source": [
    "import csv # the module must be explicitly imported"
   ]
  },
  {
   "cell_type": "code",
   "execution_count": null,
   "metadata": {},
   "outputs": [],
   "source": [
    "with open('roster.csv') as myFile:\n",
    "    csvf = csv.reader(myFile)\n",
    "    print(csvf)\n",
    "# implicitly closes file\n",
    "# csvf is a  file object that can be iterated over"
   ]
  },
  {
   "cell_type": "markdown",
   "metadata": {},
   "source": [
    "### Iterating over a CSV object\n",
    "\n",
    "When we iterate over a regular text file, the loop variable is a string and takes the role of each line in the file one by one in order. When we iterate over a CSV object, the loop variable is a list and takes the value of each row one by one in order.  "
   ]
  },
  {
   "cell_type": "code",
   "execution_count": null,
   "metadata": {},
   "outputs": [],
   "source": [
    "with open('roster.csv') as myFile:\n",
    "    csvf = csv.reader(myFile)\n",
    "    for row in csvf:\n",
    "        print(row)\n",
    "        "
   ]
  },
  {
   "cell_type": "markdown",
   "metadata": {},
   "source": [
    "### Accumulating the rows of the CSV as a Nested List\n",
    "\n",
    "We can iterate over a CSV file and accumulate all rows (each of which is a list) into a mega list.  "
   ]
  },
  {
   "cell_type": "code",
   "execution_count": null,
   "metadata": {},
   "outputs": [],
   "source": [
    "rosterList = []\n",
    "with open('roster.csv') as myFile:\n",
    "    csvf = csv.reader(myFile)\n",
    "    for row in csvf:\n",
    "        rosterList.append(row)"
   ]
  },
  {
   "cell_type": "code",
   "execution_count": null,
   "metadata": {},
   "outputs": [],
   "source": [
    "rosterList # lets see what is in the rosterList"
   ]
  },
  {
   "cell_type": "markdown",
   "metadata": {},
   "source": [
    "**List of lists format.** Notice that each item in the list is a row in the original file (in order) and the overall list is a list of rowLists.  How can we access the information of a particular student from this nested list?"
   ]
  },
  {
   "cell_type": "code",
   "execution_count": null,
   "metadata": {},
   "outputs": [],
   "source": [
    "len(rosterList)  # number of students in class"
   ]
  },
  {
   "cell_type": "markdown",
   "metadata": {},
   "source": [
    "**Generating random indices.** Remember Homework 1 where you were asked to design an algorithm for generating random numbers?  Let's play a game where we generated random numbers between 0 and 31 and index our list with that number to see whose name comes up."
   ]
  },
  {
   "cell_type": "code",
   "execution_count": null,
   "metadata": {},
   "outputs": [],
   "source": [
    "import random # import module to help generate random numbers"
   ]
  },
  {
   "cell_type": "code",
   "execution_count": null,
   "metadata": {},
   "outputs": [],
   "source": [
    "randomIndex = random.randint(0, 31)  \n",
    "# generates a random integer between 0 and 31"
   ]
  },
  {
   "cell_type": "code",
   "execution_count": null,
   "metadata": {},
   "outputs": [],
   "source": [
    "rosterList[randomIndex]"
   ]
  },
  {
   "cell_type": "code",
   "execution_count": null,
   "metadata": {},
   "outputs": [],
   "source": [
    "randomIndex = random.randint(0, 31)"
   ]
  },
  {
   "cell_type": "code",
   "execution_count": null,
   "metadata": {},
   "outputs": [],
   "source": [
    "rosterList[randomIndex]  # great way of cold calling in lectures !"
   ]
  },
  {
   "cell_type": "code",
   "execution_count": null,
   "metadata": {},
   "outputs": [],
   "source": [
    "rosterList[random.randint(0,31)][0]   \n",
    "# Accessing just the name"
   ]
  },
  {
   "cell_type": "markdown",
   "metadata": {},
   "source": [
    "### Reorganizing Data\n",
    "\n",
    "Sometimes your CSV may have unnecessary data that you want to discard (such as the last column in our class roster).  Additionally your rows might have integer values stored as a string (such as class year) that you may want to convert to an integer.  Let us write some helper functions that take as input a list (which is a row of the CSV file) and output a cleaned row as a tuple.  The returned tuple must have three items:\n",
    "\n",
    "* First item of the returned tuple must be the student first name as a string\n",
    "* Second index of the returned tuple must be the student last name as a string\n",
    "* Third index of the returned tuple must represent the graduation year (23, 22, 21, 20) as an int"
   ]
  },
  {
   "cell_type": "code",
   "execution_count": null,
   "metadata": {},
   "outputs": [],
   "source": [
    "def reorgData(rowList):\n",
    "    \"\"\"Takes a row of a CSV (as a list) and returns\n",
    "    a tuple of student information\"\"\"\n",
    "    # tuple assignment, splitting last name\n",
    "    # and first(with middle) name\n",
    "    lName, fmName = rowList[0].split(',')  \n",
    "    fName = fmName.split()[0]\n",
    "    year = rowList[1]  # takes the form '23AAA'\n",
    "    yy = int(year[:2])\n",
    "    return fName, lName, yy"
   ]
  },
  {
   "cell_type": "markdown",
   "metadata": {},
   "source": [
    "Let us test our `reorgData` function on a particular random `rowList` from the `rosterList`."
   ]
  },
  {
   "cell_type": "code",
   "execution_count": null,
   "metadata": {},
   "outputs": [],
   "source": [
    "randomIndex = random.randint(0, 31)"
   ]
  },
  {
   "cell_type": "code",
   "execution_count": null,
   "metadata": {},
   "outputs": [],
   "source": [
    "reorgData(rosterList[randomIndex])"
   ]
  },
  {
   "cell_type": "markdown",
   "metadata": {},
   "source": [
    "## Accumulation with Lists\n",
    "\n",
    "In previous lectures we have seen that it is common to use loops in conjunction with accumulation variables that collect results from processing elements within the loop. Let us write some funtions that exercise commonly seen accumulation patterns using lists.\n",
    "\n"
   ]
  },
  {
   "cell_type": "markdown",
   "metadata": {},
   "source": [
    "### Exercise:  Number of Students by Year\n",
    "\n",
    "Let's get to know our class better!  We will write a function `yearList` which takes in two arguments `rosterList` (list of lists) and `year` (int) and returns the list of students in the class with that graduating year.\n",
    " \n",
    "\n"
   ]
  },
  {
   "cell_type": "code",
   "execution_count": null,
   "metadata": {},
   "outputs": [],
   "source": [
    "def yearList(classList, year):\n",
    "    result = []\n",
    "    for sList in rosterList:\n",
    "        # tuple assignment:\n",
    "        fName, lName, yy = reorgData(sList) \n",
    "        if yy == year:\n",
    "            result.append(fName + ' ' +lName)\n",
    "    return result"
   ]
  },
  {
   "cell_type": "code",
   "execution_count": null,
   "metadata": {},
   "outputs": [],
   "source": [
    "len(yearList(rosterList, 23)) # how many first years in class?"
   ]
  },
  {
   "cell_type": "code",
   "execution_count": null,
   "metadata": {},
   "outputs": [],
   "source": [
    "yearList(rosterList, 23)  # Names of first years"
   ]
  },
  {
   "cell_type": "code",
   "execution_count": null,
   "metadata": {},
   "outputs": [],
   "source": [
    "len(yearList(rosterList, 22)) # how many second sophmores"
   ]
  },
  {
   "cell_type": "code",
   "execution_count": null,
   "metadata": {},
   "outputs": [],
   "source": [
    "yearList(rosterList, 22)  # Names of sophmores "
   ]
  },
  {
   "cell_type": "code",
   "execution_count": null,
   "metadata": {},
   "outputs": [],
   "source": [
    "len(yearList(rosterList, 21))  # how many juniors?"
   ]
  },
  {
   "cell_type": "code",
   "execution_count": null,
   "metadata": {},
   "outputs": [],
   "source": [
    "yearList(rosterList, 21) # names of juniors"
   ]
  },
  {
   "cell_type": "code",
   "execution_count": null,
   "metadata": {},
   "outputs": [],
   "source": [
    "len(yearList(rosterList, 20))  # how many seniors"
   ]
  },
  {
   "cell_type": "code",
   "execution_count": null,
   "metadata": {},
   "outputs": [],
   "source": [
    "yearList(rosterList, 20)  # name of seniors"
   ]
  },
  {
   "cell_type": "markdown",
   "metadata": {},
   "source": [
    "### Exercise:  Use our sequenceTools \n",
    "\n",
    "We built an assortment functions last week as part of our sequences toolkit. Lets use some of those functions now to find out fun facts about the class.  Function names in the `__all__` variable of our toolkit:\n",
    "\n",
    "* isVowel\n",
    "* countAllVowels\n",
    "* countChar\n",
    "* wordStartEndCount\n",
    "* wordStartEndList\n",
    "* isPalindrome\n",
    "\n",
    "We can import these functions from our module into our current interactive python session, using the import command."
   ]
  },
  {
   "cell_type": "code",
   "execution_count": null,
   "metadata": {},
   "outputs": [],
   "source": [
    "from sequenceTools import *"
   ]
  },
  {
   "cell_type": "code",
   "execution_count": null,
   "metadata": {},
   "outputs": [],
   "source": [
    "help(countAllVowels)"
   ]
  },
  {
   "cell_type": "code",
   "execution_count": null,
   "metadata": {},
   "outputs": [],
   "source": [
    "countAllVowels('onomatopoeia')  # test if import work"
   ]
  },
  {
   "cell_type": "markdown",
   "metadata": {},
   "source": [
    "**Another helper function.**  As we will be analyzing student names, lets create helper functions which extract names out of the CVS rows (lists)."
   ]
  },
  {
   "cell_type": "code",
   "execution_count": null,
   "metadata": {},
   "outputs": [],
   "source": [
    "def getName(sInfo):\n",
    "    \"\"\"Takes in a tuple consisting of first name, last name, year \n",
    "    and returns the string first name concatenated with last name\"\"\"\n",
    "    fName, lName, yy = reorgData(sInfo)\n",
    "    return fName + ' ' + lName"
   ]
  },
  {
   "cell_type": "code",
   "execution_count": null,
   "metadata": {},
   "outputs": [],
   "source": [
    "getName(rosterList[random.randint(0, 31)])  # test on a random student!"
   ]
  },
  {
   "cell_type": "markdown",
   "metadata": {},
   "source": [
    "**Fun Facts.** Who has the most number of vowels in their name?  "
   ]
  },
  {
   "cell_type": "code",
   "execution_count": null,
   "metadata": {},
   "outputs": [],
   "source": [
    "def mostVowelName(classList):\n",
    "    currentMax = 0 # initialize max value\n",
    "    persons = []  # initialize list for names\n",
    "    for sInfo in classList:\n",
    "        name = getName(sInfo)\n",
    "        numVowels = countAllVowels(name)\n",
    "        if numVowels > currentMax:\n",
    "            # found someone whose name as more vowels\n",
    "            # than current max update person, currentMax\n",
    "            currentMax = numVowels \n",
    "            persons = [name] # reupdate\n",
    "        elif numVowels == currentMax:\n",
    "            # is someone's name as long as currentMax?\n",
    "            persons.append(name)\n",
    "    return persons, currentMax"
   ]
  },
  {
   "cell_type": "code",
   "execution_count": null,
   "metadata": {},
   "outputs": [],
   "source": [
    "mostVowelName(rosterList)  # which student has most vowels in their name?"
   ]
  },
  {
   "cell_type": "markdown",
   "metadata": {},
   "source": [
    "**Fun Facts.** How about the least number of vowels? Since we will need to extract student names again, lets just write a little helper function to do it for us."
   ]
  },
  {
   "cell_type": "code",
   "execution_count": null,
   "metadata": {},
   "outputs": [],
   "source": [
    "def leastVowelName(classList):\n",
    "    currentMin = 20 # initialize min value\n",
    "    persons = []  # initialize placeholder for name\n",
    "    for sInfo in classList:\n",
    "        name = getName(sInfo)\n",
    "        numVowels = countAllVowels(name)\n",
    "        if numVowels < currentMin:\n",
    "            currentMin = numVowels # update state of current max\n",
    "            person = [name]\n",
    "        elif numVowels == currentMin:\n",
    "            persons.append(name)\n",
    "    return person, currentMin"
   ]
  },
  {
   "cell_type": "code",
   "execution_count": null,
   "metadata": {},
   "outputs": [],
   "source": [
    "leastVowelName(rosterList)  # which student has most vowels in their name?"
   ]
  },
  {
   "cell_type": "markdown",
   "metadata": {},
   "source": [
    "## Writing to Files  \n",
    "\n",
    "We can write all the results that we are computing into a file (a persitent structure).  To open a file for writing, we use `open` with the mode 'w'. \n",
    "\n",
    "The following code will create a new file named `studentFacts.txt` in the current working directory and write in it results of our function calls."
   ]
  },
  {
   "cell_type": "code",
   "execution_count": null,
   "metadata": {},
   "outputs": [],
   "source": [
    "with open('studentFacts.txt', 'w') as sFile:\n",
    "    sFile.write('Fun facts about CS134 students.\\n')# need newlines\n",
    "    sFile.write('No. of first years in CS134: {}\\n'.format(len(yearList(rosterList, 23)))) \n",
    "    sFile.write('No. of sophmores in CS134: {}\\n'.format(len(yearList(rosterList, 22))))\n",
    "    sFile.write('No. of juniors in CS134: {}\\n'.format(len(yearList(rosterList, 21))))\n",
    "    sFile.write('No. of seniors in CS134: {}\\n'.format(len(yearList(rosterList, 20))))"
   ]
  },
  {
   "cell_type": "markdown",
   "metadata": {},
   "source": [
    "We can use `ls -l` to see that a new file `studentFacts.txt` has been created:"
   ]
  },
  {
   "cell_type": "code",
   "execution_count": null,
   "metadata": {},
   "outputs": [],
   "source": [
    "ls # new file information"
   ]
  },
  {
   "cell_type": "markdown",
   "metadata": {},
   "source": [
    "Use the OS command `more` to view the contents of the file:"
   ]
  },
  {
   "cell_type": "code",
   "execution_count": null,
   "metadata": {},
   "outputs": [],
   "source": [
    "more studentFacts.txt"
   ]
  },
  {
   "cell_type": "markdown",
   "metadata": {},
   "source": [
    "Alternatively, go to Finder (on a Mac) or Windows Explorer (PC) to view the contents of the file."
   ]
  },
  {
   "cell_type": "markdown",
   "metadata": {},
   "source": [
    "## Appending to files  \n",
    "\n",
    "How do we add lines to the end of an existing file? We can't open the file in write mode (with a 'w'), because that **erases all previous contents** and starts with an empty file. \n",
    "\n",
    "Instead, we open the file in append mode (with an 'a'). Any subsequent writes are made after the existing contents."
   ]
  },
  {
   "cell_type": "code",
   "execution_count": null,
   "metadata": {},
   "outputs": [],
   "source": [
    "with open('studentFacts.txt', 'a') as sFile:\n",
    "    sFile.write('Name with most vowels: {}\\n'.format(mostVowelName(rosterList)))\n",
    "    sFile.write('Name with least vowels: {}\\n'.format(leastVowelName(rosterList)))"
   ]
  },
  {
   "cell_type": "markdown",
   "metadata": {},
   "source": [
    "Open the file `studentFacts.txt` again to view it, or using the OS command more:"
   ]
  },
  {
   "cell_type": "code",
   "execution_count": null,
   "metadata": {},
   "outputs": [],
   "source": [
    "more studentFacts.txt"
   ]
  },
  {
   "cell_type": "markdown",
   "metadata": {},
   "source": [
    "<a id=\"sec7\"></a>"
   ]
  },
  {
   "cell_type": "markdown",
   "metadata": {},
   "source": [
    "# List Accumulation Patterns\n",
    "\n",
    "When iterative over lists there are several accumulation patterns which come up a lot.  In the following questions, the premise is that we have a list we are iterating over and we are returning a new list. There are two common category of tasks:\n",
    "\n",
    "* Mapping patters:  when you want to perform the same action to every item in the list\n",
    "* Filter patterns:  when you want to retain only some items of the list \n",
    "\n",
    "We can simplify the mapping/filtering patterns with a syntactic device called **list comprehension**. Lets take an exampe of each."
   ]
  },
  {
   "cell_type": "markdown",
   "metadata": {
    "collapsed": true
   },
   "source": [
    "### Mapping Patteer via List Comprehension\n",
    "\n",
    "We can generate a new list by performing an operation on every element in a given list.  This is called **mapping**."
   ]
  },
  {
   "cell_type": "code",
   "execution_count": null,
   "metadata": {},
   "outputs": [],
   "source": [
    "def mapDouble(nums):\n",
    "    \"\"\"Given a list of numbers, returns a *new* list,\n",
    "    in which each element is twice the corresponding\n",
    "    element in the input list.\n",
    "    \"\"\"\n",
    "    result = []\n",
    "    for n in nums:\n",
    "        result.append(2*n)\n",
    "    return result"
   ]
  },
  {
   "cell_type": "code",
   "execution_count": null,
   "metadata": {},
   "outputs": [],
   "source": [
    "mapDouble([2, 3, 4, 5])"
   ]
  },
  {
   "cell_type": "markdown",
   "metadata": {
    "collapsed": true
   },
   "source": [
    "**Succint form using list comprehension.**"
   ]
  },
  {
   "cell_type": "code",
   "execution_count": null,
   "metadata": {},
   "outputs": [],
   "source": [
    "def mapDoubleShort(nums):\n",
    "    return [2*n for n in nums]"
   ]
  },
  {
   "cell_type": "code",
   "execution_count": null,
   "metadata": {},
   "outputs": [],
   "source": [
    "mapDoubleShort([6, 7, 8])"
   ]
  },
  {
   "cell_type": "markdown",
   "metadata": {},
   "source": [
    "**List of Names.** Suppose we want to iterate over our nested list `rosterList`, and collect all the student names in a list, we can do that with a simple mapping list comprehension!"
   ]
  },
  {
   "cell_type": "code",
   "execution_count": null,
   "metadata": {},
   "outputs": [],
   "source": [
    "nameList = [getName(sInfo) for sInfo in rosterList]"
   ]
  },
  {
   "cell_type": "code",
   "execution_count": null,
   "metadata": {},
   "outputs": [],
   "source": [
    "nameList"
   ]
  },
  {
   "cell_type": "markdown",
   "metadata": {},
   "source": [
    "**Another example.** Suppose we want to iterate over a list of names and return a list of first names in lower case."
   ]
  },
  {
   "cell_type": "code",
   "execution_count": null,
   "metadata": {},
   "outputs": [],
   "source": [
    "def firstNames(nameList):\n",
    "    \"\"\"Given a list of names as firstName lastname, returns a list of firstNames.\n",
    "    \"\"\"\n",
    "    return [name.split()[0].lower() for name in nameList]  "
   ]
  },
  {
   "cell_type": "code",
   "execution_count": null,
   "metadata": {},
   "outputs": [],
   "source": [
    "firstNames(['Shikha Singh', 'Iris Howley', 'Lida Doret'])"
   ]
  },
  {
   "cell_type": "markdown",
   "metadata": {},
   "source": [
    "### Filtering Pattern via List Comprehensions"
   ]
  },
  {
   "cell_type": "markdown",
   "metadata": {},
   "source": [
    "Another common way to produce a new list is to filter an existing list, keeping only those elements that satisfy a certain predicate. "
   ]
  },
  {
   "cell_type": "code",
   "execution_count": null,
   "metadata": {},
   "outputs": [],
   "source": [
    "def filterNames(nameList):\n",
    "    \"\"\"Given a list of names as first name, returns a *new* list of all\n",
    "    names in the input list that have length >= 6.\n",
    "    \"\"\"\n",
    "    result = []\n",
    "    for name in nameList:\n",
    "        if len(name) >= 9:\n",
    "            result.append(name)\n",
    "    return result"
   ]
  },
  {
   "cell_type": "code",
   "execution_count": null,
   "metadata": {},
   "outputs": [],
   "source": [
    "filterNames(firstNames(nameList))"
   ]
  },
  {
   "cell_type": "markdown",
   "metadata": {},
   "source": [
    "We can also do this filtering pattern very succinctly using list comprehensions!"
   ]
  },
  {
   "cell_type": "code",
   "execution_count": null,
   "metadata": {},
   "outputs": [],
   "source": [
    "def filterNamesShort(nameList):\n",
    "    return [name for name in nameList if len(name) >= 9]"
   ]
  },
  {
   "cell_type": "code",
   "execution_count": null,
   "metadata": {},
   "outputs": [],
   "source": [
    "filterNamesShort(firstNames(nameList))"
   ]
  },
  {
   "cell_type": "markdown",
   "metadata": {},
   "source": [
    "### List Comprehensions Exercises"
   ]
  },
  {
   "cell_type": "code",
   "execution_count": null,
   "metadata": {},
   "outputs": [],
   "source": [
    "# Given a list of numbers numList\n",
    "# Create a list of all numbers that are even\n",
    "nums = [1, 2, 3, 4, 5, 6, 7]\n",
    "result = [n for n in nums if n%2 == 0]\n",
    "print(result)"
   ]
  },
  {
   "cell_type": "code",
   "execution_count": null,
   "metadata": {},
   "outputs": [],
   "source": [
    "# add the ending 'th' to all words in a phrase\n",
    "phrase = \"mine dog ate your shoe\"\n",
    "# expected phrase: [\"mineth\", \"dogth\", \"ateth\", \"yourth\", \"shoeth\"]\n",
    "newPhrase = [word + 'th' for word in phrase.split()]\n",
    "newPhrase"
   ]
  },
  {
   "cell_type": "markdown",
   "metadata": {},
   "source": [
    "## List Comprehensions with Mapping and Filtering\n",
    "\n",
    "It is possible to do both mapping and filtering in a single list comprehension.  Examine the example below which filters a list by even numbers and creates a new list of their squares."
   ]
  },
  {
   "cell_type": "code",
   "execution_count": null,
   "metadata": {},
   "outputs": [],
   "source": [
    "[(x**2) for x in range(10) if x % 2 == 0]"
   ]
  },
  {
   "cell_type": "markdown",
   "metadata": {},
   "source": [
    "Note that our expression for mapping still comes before the \"for\" and our filtering with \"if\" still comes after our sequence.  Below is the equivalent code without list comprehensions."
   ]
  },
  {
   "cell_type": "code",
   "execution_count": null,
   "metadata": {},
   "outputs": [],
   "source": [
    "newList = []\n",
    "for x in range(10):\n",
    "    if x % 2 == 0:\n",
    "        newList.append(x**2)\n",
    "newList"
   ]
  },
  {
   "cell_type": "markdown",
   "metadata": {},
   "source": [
    "**YOUR TURN:** Try to write the following list comprehension examples:"
   ]
  },
  {
   "cell_type": "code",
   "execution_count": null,
   "metadata": {},
   "outputs": [],
   "source": [
    "# Example 1: Write a list comprehension that filters the vowels from a word \n",
    "# such as beauteous and returns a list of its capitalized vowels.\n",
    "word = \"beauteous\"\n",
    "newList = [char.upper() for char in word if isVowel(char)]\n",
    "newList"
   ]
  },
  {
   "cell_type": "code",
   "execution_count": null,
   "metadata": {},
   "outputs": [],
   "source": [
    "# Example 2: Write a list comprehension that filters a list of proper nouns by length.\n",
    "# It should extract nouns of length greater than 4 but less than 8 and return a list\n",
    "# where the first letter is properly capitalized\n",
    "# This is a challenge!\n",
    "properNouns = [\"cher\", \"bjork\", \"sting\", \"beethoven\", \"prince\", \"madonna\"]\n",
    "newList = [word[0].upper() + word[1:] for word in properNouns if len(word)>4 and len(word)<=8]\n",
    "newList"
   ]
  }
 ],
 "metadata": {
  "kernelspec": {
   "display_name": "Python 3",
   "language": "python",
   "name": "python3"
  },
  "language_info": {
   "codemirror_mode": {
    "name": "ipython",
    "version": 3
   },
   "file_extension": ".py",
   "mimetype": "text/x-python",
   "name": "python",
   "nbconvert_exporter": "python",
   "pygments_lexer": "ipython3",
   "version": "3.7.4"
  }
 },
 "nbformat": 4,
 "nbformat_minor": 1
}
