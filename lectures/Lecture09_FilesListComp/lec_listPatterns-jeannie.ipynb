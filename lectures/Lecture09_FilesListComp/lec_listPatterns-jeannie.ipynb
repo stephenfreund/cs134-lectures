{
 "cells": [
  {
   "cell_type": "markdown",
   "metadata": {},
   "source": [
    "# Lecture 9: Files & List Comprehensions\n",
    "\n",
    "### Jeannie Albrecht and Shikha Singh\n",
    "\n",
    "In the last few lectures, we focused on sequences (strings, lists, ranges) and how to iterate over them using loops.  Today we will look at how to read from files, and store the contents as a string or list. \n",
    "\n",
    "We will also look at some code patterns involving lists, strings and counters that are useful when analyzing data. "
   ]
  },
  {
   "cell_type": "markdown",
   "metadata": {},
   "source": [
    "## Reading from a File\n",
    "\n",
    "We can easily read and write to a file using Python commands. Today we will only focus on reading from a file. Next week, we will look at how to write to a file.  \n",
    "\n",
    "### Opening a file\n",
    "A file is an object that is created by the built-in function `open()`."
   ]
  },
  {
   "cell_type": "code",
   "execution_count": null,
   "metadata": {},
   "outputs": [],
   "source": [
    "book = open('textfiles/prideandprejudice.txt', 'r') # 'r' means open the file for reading"
   ]
  },
  {
   "cell_type": "code",
   "execution_count": null,
   "metadata": {},
   "outputs": [],
   "source": [
    "book  "
   ]
  },
  {
   "cell_type": "code",
   "execution_count": null,
   "metadata": {},
   "outputs": [],
   "source": [
    "type(book) "
   ]
  },
  {
   "cell_type": "markdown",
   "metadata": {},
   "source": [
    "**Mode.** The mode `'r'` for reading the file is the default (and optional). So, we can just write:"
   ]
  },
  {
   "cell_type": "code",
   "execution_count": null,
   "metadata": {},
   "outputs": [],
   "source": [
    "book = open('textfiles/prideandprejudice.txt') "
   ]
  },
  {
   "cell_type": "markdown",
   "metadata": {},
   "source": [
    "**Aside.** Python assumes that (by default) our text files are encoded in ASCII.  We will discuss ASCII encodings when we talk about sorting in the coming weeks. "
   ]
  },
  {
   "cell_type": "markdown",
   "metadata": {},
   "source": [
    "### With...as block and iterating over files\n",
    "\n",
    "**With block to open and close files.**   Technically when you open a file, you must also close it to prevent future problems like memory leaks.  To avoid writing code to explicitly open and close, we will use the `with...as` block which keeps the file open within it, and closes the file after exiting the block.\n",
    "\n",
    "Within a `with...as` block, we can iterate over the lines of a file the same way we would iterate over any sequence."
   ]
  },
  {
   "cell_type": "code",
   "execution_count": null,
   "metadata": {},
   "outputs": [],
   "source": [
    "with open('textfiles/prideandprejudice.txt') as book:\n",
    "    for line in book:\n",
    "        print(line)"
   ]
  },
  {
   "cell_type": "code",
   "execution_count": null,
   "metadata": {},
   "outputs": [],
   "source": [
    "with open('textfiles/prideandprejudice.txt') as book: \n",
    "    for line in book:\n",
    "        print(line.split()) "
   ]
  },
  {
   "cell_type": "code",
   "execution_count": null,
   "metadata": {},
   "outputs": [],
   "source": [
    "wordList = []\n",
    "with open('textfiles/prideandprejudice.txt') as book:  \n",
    "    for line in book:\n",
    "        wordList.extend(line.strip().split())\n",
    "len(wordList)"
   ]
  },
  {
   "cell_type": "code",
   "execution_count": null,
   "metadata": {},
   "outputs": [],
   "source": [
    "# number of times a word is in the book?\n",
    "wordList.count('love')"
   ]
  },
  {
   "cell_type": "code",
   "execution_count": null,
   "metadata": {},
   "outputs": [],
   "source": [
    "wordList.count('dear')"
   ]
  },
  {
   "cell_type": "code",
   "execution_count": null,
   "metadata": {},
   "outputs": [],
   "source": [
    "wordList.count('darcy')"
   ]
  },
  {
   "cell_type": "markdown",
   "metadata": {},
   "source": [
    "## Reading in Student Names\n",
    "\n",
    "The name of students in this class are in `classNames.txt` in directory `textfiles`. "
   ]
  },
  {
   "cell_type": "code",
   "execution_count": null,
   "metadata": {},
   "outputs": [],
   "source": [
    "# lets try the same example again with .strip()\n",
    "filename = 'textfiles/classNames01.txt' # 10 am section\n",
    "with open(filename) as roster:  #  roster: name of file object\n",
    "    for line in roster:\n",
    "        print(line.strip())\n",
    "# file is implicitly closed here"
   ]
  },
  {
   "cell_type": "markdown",
   "metadata": {},
   "source": [
    "### Collecting names in a list\n",
    "\n",
    "Suppose we want to create a list of all names, where names appear in `firstName (M.I.) lastName` format.  How do we achieve that?"
   ]
  },
  {
   "cell_type": "code",
   "execution_count": null,
   "metadata": {},
   "outputs": [],
   "source": [
    "students = [] # initialize\n",
    "with open(filename) as roster:  #  roster: name of file object\n",
    "    for line in roster:\n",
    "        fullName = line.strip().split(',')\n",
    "        firstName = fullName[1]\n",
    "        lastName = fullName[0]\n",
    "        # print(firstName lastName)\n",
    "        students.append(firstName + ' ' + lastName)"
   ]
  },
  {
   "cell_type": "code",
   "execution_count": null,
   "metadata": {},
   "outputs": [],
   "source": [
    "students"
   ]
  },
  {
   "cell_type": "markdown",
   "metadata": {},
   "source": [
    "### List Comprehensions to Map and Filter\n",
    "\n",
    "\n",
    "When processing lists, there are common patterns that come up:\n",
    "\n",
    "**Mapping.**  Iterate over a list and return a new list which results from performing an operation on each element of a given list \n",
    "  - E.g., take a list of integers `numList` and return a new list which contains the square of each number in `numList`\n",
    "\n",
    "**Filtering.** Iterate over a list and return a new list that results from keeping those elements of the list that satisfy some condition\n",
    "   - E.g., take a list of integers `numList` and return a new list which contains only the even numbers in `numList`\n",
    "\n",
    "Python allows us to implement these patterns succinctly using list comprehensions "
   ]
  },
  {
   "cell_type": "code",
   "execution_count": null,
   "metadata": {},
   "outputs": [],
   "source": [
    "numList = range(11)\n",
    "\n",
    "# without list comprehension:\n",
    "evens = []\n",
    "for num in numList:\n",
    "    if num % 2 == 0:\n",
    "        evens.append(num)\n",
    "print(evens)"
   ]
  },
  {
   "cell_type": "code",
   "execution_count": null,
   "metadata": {},
   "outputs": [],
   "source": [
    "# with list comprehension\n",
    "evens = [num for num in numList if num % 2 == 0]\n",
    "print(evens)"
   ]
  },
  {
   "cell_type": "code",
   "execution_count": null,
   "metadata": {},
   "outputs": [],
   "source": [
    "# mapping and filtering together\n",
    "evenSquared = [num*num for num in numList if num % 2 == 0]\n",
    "print(evenSquared)"
   ]
  },
  {
   "cell_type": "markdown",
   "metadata": {},
   "source": [
    "### Using Functions We Built\n",
    "\n",
    "We wrote a few helper functions in the last few lectures, which are now in a module called `sequenceTools`.\n",
    "\n",
    "* isVowel()\n",
    "* vowelSeq()\n",
    "* countVowels()\n",
    "* wordStartEnd()\n",
    "* palindromes()\n",
    "\n",
    "We can import these functions from our module into our current interactive python session, using the import command."
   ]
  },
  {
   "cell_type": "code",
   "execution_count": null,
   "metadata": {},
   "outputs": [],
   "source": [
    "from sequenceTools import *"
   ]
  },
  {
   "cell_type": "markdown",
   "metadata": {},
   "source": [
    "**Fun Facts.** What student names start with a vowel? \n",
    "\n",
    "Let us use list comprehensions!"
   ]
  },
  {
   "cell_type": "code",
   "execution_count": null,
   "metadata": {},
   "outputs": [],
   "source": [
    "vowelNames = [name for name in students if isVowel(name[0])]\n",
    "vowelNames"
   ]
  },
  {
   "cell_type": "markdown",
   "metadata": {},
   "source": [
    "**Fun Facts.** Which students have long or short names? "
   ]
  },
  {
   "cell_type": "code",
   "execution_count": null,
   "metadata": {},
   "outputs": [],
   "source": [
    "firstNames = [name.split()[0] for name in students]\n",
    "[name for name in firstNames if len(name) > 8]"
   ]
  },
  {
   "cell_type": "code",
   "execution_count": null,
   "metadata": {},
   "outputs": [],
   "source": [
    "[name for name in firstNames if len(name) < 4]"
   ]
  },
  {
   "cell_type": "markdown",
   "metadata": {},
   "source": [
    "### CSV Files\n",
    "\n",
    "A CSV (Comma Separated Values) file is a type of plain text file that stores `tabula` data.  Each row of a table is a line in the text file, with each column on the row separated by commas.  This format is the most common import and export format for spreadsheets and databases.  \n",
    "\n",
    "\n",
    "For example a simple table such as the following with columns names and ages would be represented in a CSV as:\n",
    "\n",
    "Table:\n",
    "\n",
    "| Name     | Age  |\n",
    "|:----------|:------|\n",
    "| Harry    |  14  |\n",
    "| Hermoine |  14 | \n",
    "| Dumbledore| 60  |\n",
    "\n",
    "CSV:\n",
    "\n",
    "Name,Age  \n",
    "Harry,14  \n",
    "Hermoine,14  \n",
    "Dumbledore,60  \n",
    "\n",
    "We can handle csv files similar to text files and use string/list methods to process the tabular data."
   ]
  },
  {
   "cell_type": "code",
   "execution_count": null,
   "metadata": {},
   "outputs": [],
   "source": [
    "filename = 'csv/roster01.csv' # 10 am section\n",
    "with open(filename) as roster:\n",
    "    allStudents = []\n",
    "    for student in roster:\n",
    "        allStudents.append(student.strip().split(','))"
   ]
  },
  {
   "cell_type": "code",
   "execution_count": null,
   "metadata": {},
   "outputs": [],
   "source": [
    "allStudents"
   ]
  },
  {
   "cell_type": "code",
   "execution_count": null,
   "metadata": {},
   "outputs": [],
   "source": [
    "with open(filename) as roster:\n",
    "    allStudents = [student.strip().split(',') for student in roster] # list comprehension"
   ]
  },
  {
   "cell_type": "code",
   "execution_count": null,
   "metadata": {},
   "outputs": [],
   "source": [
    "allStudents # list of lists"
   ]
  },
  {
   "cell_type": "code",
   "execution_count": null,
   "metadata": {},
   "outputs": [],
   "source": [
    "len(allStudents) # number of students in class"
   ]
  },
  {
   "cell_type": "markdown",
   "metadata": {},
   "source": [
    "## Indexing Lists of Lists\n",
    "\n",
    "We can treat a list of lists just like we would a list of any other sequence (e.g. strings).  \n",
    "\n",
    "To index an element of an inner list (like student info), we'd need two indices:\n",
    " - first (leftmost) index identifies which list we want, and \n",
    " - second (rightmost) index identifies which element within that list we want.\n"
   ]
  },
  {
   "cell_type": "code",
   "execution_count": null,
   "metadata": {},
   "outputs": [],
   "source": [
    "allStudents[0] # list of first student's info"
   ]
  },
  {
   "cell_type": "code",
   "execution_count": null,
   "metadata": {},
   "outputs": [],
   "source": [
    "allStudents[0][1] # how do I index Nicole's first name?"
   ]
  },
  {
   "cell_type": "markdown",
   "metadata": {},
   "source": [
    "**List Comprehension to create a list of Last Names.** How can we create a list of all students' last names?"
   ]
  },
  {
   "cell_type": "code",
   "execution_count": null,
   "metadata": {},
   "outputs": [],
   "source": [
    "lastNames = [s[0] for s in allStudents]\n",
    "lastNames"
   ]
  },
  {
   "cell_type": "markdown",
   "metadata": {},
   "source": [
    "**Generating random indices.** Remember Homework 1 where you were asked to design an algorithm for generating random numbers?  Let's play a game where we generate random numbers between 0 and 35 and index our list with that number to see whose name comes up."
   ]
  },
  {
   "cell_type": "code",
   "execution_count": null,
   "metadata": {},
   "outputs": [],
   "source": [
    "import random # import module to help generate random numbers"
   ]
  },
  {
   "cell_type": "code",
   "execution_count": null,
   "metadata": {},
   "outputs": [],
   "source": [
    "randomIndex = random.randint(0, 35)  \n",
    "# generates a random integer between 0 and 35"
   ]
  },
  {
   "cell_type": "code",
   "execution_count": null,
   "metadata": {},
   "outputs": [],
   "source": [
    "allStudents[randomIndex] # great way to cold call!"
   ]
  },
  {
   "cell_type": "code",
   "execution_count": null,
   "metadata": {},
   "outputs": [],
   "source": [
    "allStudents[random.randint(0,35)][1]   \n",
    "# Accessing just the name"
   ]
  },
  {
   "cell_type": "markdown",
   "metadata": {},
   "source": [
    "### Exercise:  Number of Students by Year\n",
    "\n",
    "Let's get to know our class better!  We will write a function `yearList` which takes in two arguments `rosterList` (list of lists) and `year` (int) and returns the list of students in the class with that graduating year.\n",
    " \n",
    "\n"
   ]
  },
  {
   "cell_type": "code",
   "execution_count": null,
   "metadata": {},
   "outputs": [],
   "source": [
    "def yearList(rosterList, year):\n",
    "    \"\"\"Takes the student info as a list of lists and a year (22-25)\n",
    "    and returns a list of students graduating that year\"\"\"\n",
    "    return [s[1] for s in allStudents if s[-1][:2] == str(year)]"
   ]
  },
  {
   "cell_type": "code",
   "execution_count": null,
   "metadata": {},
   "outputs": [],
   "source": [
    "yearList(allStudents, 22) # seniors?"
   ]
  },
  {
   "cell_type": "code",
   "execution_count": null,
   "metadata": {},
   "outputs": [],
   "source": [
    "yearList(allStudents, 23) # juniors?"
   ]
  },
  {
   "cell_type": "code",
   "execution_count": null,
   "metadata": {},
   "outputs": [],
   "source": [
    "yearList(allStudents, 24) # sophmores?"
   ]
  },
  {
   "cell_type": "code",
   "execution_count": null,
   "metadata": {},
   "outputs": [],
   "source": [
    "len(yearList(allStudents, 25)) # first years?"
   ]
  },
  {
   "cell_type": "markdown",
   "metadata": {},
   "source": [
    "**Student Fun Facts.** Who has the most number of vowels in their name? To be continued! "
   ]
  },
  {
   "cell_type": "markdown",
   "metadata": {},
   "source": [
    "## Lab 4 info"
   ]
  },
  {
   "cell_type": "code",
   "execution_count": null,
   "metadata": {},
   "outputs": [],
   "source": [
    "filename = 'csv/coffee.csv' # types of coffee\n",
    "with open(filename) as coffeeTypes:\n",
    "    allCoffee = []\n",
    "    for coffee in coffeeTypes:\n",
    "        allCoffee.append(coffee.strip().split(','))\n",
    "allCoffee"
   ]
  },
  {
   "cell_type": "code",
   "execution_count": null,
   "metadata": {},
   "outputs": [],
   "source": [
    "allCoffee[0] # access first \"inner\" list"
   ]
  },
  {
   "cell_type": "code",
   "execution_count": null,
   "metadata": {},
   "outputs": [],
   "source": [
    "allCoffee[1] # access second inner list "
   ]
  },
  {
   "cell_type": "code",
   "execution_count": null,
   "metadata": {},
   "outputs": [],
   "source": [
    "allCoffee[0][1] # access second element in first inner list"
   ]
  },
  {
   "cell_type": "code",
   "execution_count": null,
   "metadata": {},
   "outputs": [],
   "source": [
    "# access second character of second element of first inner list \n",
    "allCoffee[0][1][1] "
   ]
  },
  {
   "cell_type": "code",
   "execution_count": null,
   "metadata": {},
   "outputs": [],
   "source": [
    "# create list of only last elements of inner lists\n",
    "lastCoffee = [coffee[-1] for coffee in allCoffee] "
   ]
  },
  {
   "cell_type": "code",
   "execution_count": null,
   "metadata": {},
   "outputs": [],
   "source": [
    "lastCoffee"
   ]
  },
  {
   "cell_type": "code",
   "execution_count": null,
   "metadata": {},
   "outputs": [],
   "source": []
  }
 ],
 "metadata": {
  "kernelspec": {
   "display_name": "Python 3",
   "language": "python",
   "name": "python3"
  },
  "language_info": {
   "codemirror_mode": {
    "name": "ipython",
    "version": 3
   },
   "file_extension": ".py",
   "mimetype": "text/x-python",
   "name": "python",
   "nbconvert_exporter": "python",
   "pygments_lexer": "ipython3",
   "version": "3.9.7"
  }
 },
 "nbformat": 4,
 "nbformat_minor": 1
}
