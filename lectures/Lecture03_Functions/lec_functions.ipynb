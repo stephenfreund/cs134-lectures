{
 "cells": [
  {
   "cell_type": "markdown",
   "metadata": {},
   "source": [
    "# CS134 Lecture 3: Functions\n",
    "\n",
    "### Jeannie Albrecht and Shikha Singh\n",
    "\n",
    "\n",
    "In this notebook, we will discuss built-in and user-defined functions in Python, as shown under the following topics:    \n",
    "[Built-in functions](#sec0)  \n",
    "[Defining your own funcions](#sec1)  \n",
    "[Multiple parameters](#sec2)  \n",
    "[return vs. print](#sec3)   \n",
    "[Variable Scope](#sec4)    "
   ]
  },
  {
   "cell_type": "markdown",
   "metadata": {},
   "source": [
    "<a id=\"sec0\"></a>"
   ]
  },
  {
   "cell_type": "markdown",
   "metadata": {},
   "source": [
    "## Built-in Functions:  `input()`, `print()`, `int()`, `float()`, `str()`   \n",
    "Python comes with several built-in capabilities.  In this section, we will explore some useful built-in functions. \n",
    "\n",
    "\n",
    "### `print()`\n",
    "The `print()` function is used to **display** characters on the screen.  When we print something, notice that there is no output (no Out[] cell).  This is because it does not return a value as an output (like a Python expression).  It simply performs an action.\n",
    "\n",
    "### `input()` \n",
    "\n",
    "The `input()` function is used to take input from the user.  We specify the prompt we want the user to see within the parentheses.  By default, input values are always of type string.\n",
    "\n",
    "### `int()`\n",
    "The `int()` function is used to convert strings of digits to integers.\n"
   ]
  },
  {
   "cell_type": "markdown",
   "metadata": {},
   "source": [
    "### `str()`\n",
    "The `str()` function is used to convert other data types to a string type and return it.\n",
    "\n",
    "### `float()`\n",
    "The `float()` function is used to convert strings of digits that is a valid representation of a floating point number into floating point numbers.\n",
    "\n"
   ]
  },
  {
   "cell_type": "code",
   "execution_count": null,
   "metadata": {},
   "outputs": [],
   "source": [
    "age = input(\"Enter your age: \")"
   ]
  },
  {
   "cell_type": "code",
   "execution_count": null,
   "metadata": {},
   "outputs": [],
   "source": [
    "age  # notice that it is a string"
   ]
  },
  {
   "cell_type": "code",
   "execution_count": null,
   "metadata": {},
   "outputs": [],
   "source": [
    "age = int(age)  # convert to int"
   ]
  },
  {
   "cell_type": "code",
   "execution_count": null,
   "metadata": {},
   "outputs": [],
   "source": [
    "age "
   ]
  },
  {
   "cell_type": "code",
   "execution_count": null,
   "metadata": {},
   "outputs": [],
   "source": [
    "radius = input(\"Enter radius value: \") # radius of circle"
   ]
  },
  {
   "cell_type": "code",
   "execution_count": null,
   "metadata": {},
   "outputs": [],
   "source": [
    "radius # currently a string"
   ]
  },
  {
   "cell_type": "markdown",
   "metadata": {},
   "source": [
    "<a id=\"sec1\"></a>"
   ]
  },
  {
   "cell_type": "code",
   "execution_count": null,
   "metadata": {},
   "outputs": [],
   "source": [
    "radius = float(input(\"Enter radius value: \")) # radius of circle can be a float"
   ]
  },
  {
   "cell_type": "code",
   "execution_count": null,
   "metadata": {},
   "outputs": [],
   "source": [
    "radius  # now it is float"
   ]
  },
  {
   "cell_type": "code",
   "execution_count": null,
   "metadata": {},
   "outputs": [],
   "source": [
    "pi = 3.14159"
   ]
  },
  {
   "cell_type": "code",
   "execution_count": null,
   "metadata": {},
   "outputs": [],
   "source": [
    "print(\"Area of circle with radius\", radius, \"is\", pi * (radius**2)) # comma adds space"
   ]
  },
  {
   "cell_type": "code",
   "execution_count": null,
   "metadata": {},
   "outputs": [],
   "source": [
    "str(199)  # converts value to str type"
   ]
  },
  {
   "cell_type": "code",
   "execution_count": null,
   "metadata": {},
   "outputs": [],
   "source": [
    "str(None) # converts None to str type"
   ]
  },
  {
   "cell_type": "code",
   "execution_count": null,
   "metadata": {},
   "outputs": [],
   "source": [
    "dollars = 10\n",
    "print('The burrito costs $' + str(dollars) + '.') # can also concatenate with + "
   ]
  },
  {
   "cell_type": "markdown",
   "metadata": {},
   "source": [
    "**Question.** Which of the functions among `print()`, `input()`, `int*(` return an explicit value as output?\n",
    "\n",
    "What does the `print()` function return?  `print()` doesn't explicitly return anything and just displays the printed text on the screen.  \n",
    "\n",
    "It turns out that calling `print()` actually returns the special `None` value. Python uses a None return value to indicate the function was called to perform an action when there is no explicit return value. \n",
    "\n",
    "To emphasize that calls to `print()` return `None`, try out the following piece of code:\n",
    "\n"
   ]
  },
  {
   "cell_type": "code",
   "execution_count": null,
   "metadata": {},
   "outputs": [],
   "source": [
    "str(print(\"Hello!\"))"
   ]
  },
  {
   "cell_type": "markdown",
   "metadata": {},
   "source": [
    "<a id=\"sec1\"></a>"
   ]
  },
  {
   "cell_type": "markdown",
   "metadata": {},
   "source": [
    "## Defining your own functions  \n",
    "\n",
    "Functions are a great way of abstracting and reusing useful blocks of code.   We have already used built-in functions like `print()`, `input()` and `int()`.   We can **define our own functions** as shown in the examples below."
   ]
  },
  {
   "cell_type": "code",
   "execution_count": null,
   "metadata": {},
   "outputs": [],
   "source": [
    "def square(num):\n",
    "    '''A simple user-defined function.'''\n",
    "    return num * num"
   ]
  },
  {
   "cell_type": "markdown",
   "metadata": {},
   "source": [
    "**Calling or invoking the function:** We can call a function many times, but we only **define it once**."
   ]
  },
  {
   "cell_type": "code",
   "execution_count": null,
   "metadata": {},
   "outputs": [],
   "source": [
    "square(5)"
   ]
  },
  {
   "cell_type": "code",
   "execution_count": null,
   "metadata": {},
   "outputs": [],
   "source": [
    "square(7)"
   ]
  },
  {
   "cell_type": "markdown",
   "metadata": {},
   "source": [
    "**Parameters**  \n",
    "\n",
    "A parameter names \"holes\" in the body of our function that will be filled in with the argument value for each invocation. \n",
    "\n",
    "The particular name we use for a parameter is irrelevant, as long as we use the name consistently in the body."
   ]
  },
  {
   "cell_type": "code",
   "execution_count": null,
   "metadata": {},
   "outputs": [],
   "source": [
    "def square(someNumber):\n",
    "    return someNumber * someNumber"
   ]
  },
  {
   "cell_type": "markdown",
   "metadata": {},
   "source": [
    "The following function call will generate the same result as the one from the definition of the function with a different parameter name."
   ]
  },
  {
   "cell_type": "code",
   "execution_count": null,
   "metadata": {},
   "outputs": [],
   "source": [
    "square(5)"
   ]
  },
  {
   "cell_type": "markdown",
   "metadata": {},
   "source": [
    "Function parameters only have meaning within the body of the function.  We will come back to this concept, when we discuss variable scope."
   ]
  },
  {
   "cell_type": "code",
   "execution_count": null,
   "metadata": {},
   "outputs": [],
   "source": [
    "someNumber  # what does this return?"
   ]
  },
  {
   "cell_type": "markdown",
   "metadata": {},
   "source": [
    "<a id=\"sec2\"></a>"
   ]
  },
  {
   "cell_type": "markdown",
   "metadata": {},
   "source": [
    "## Multiple parameters\n",
    "\n",
    "A function can take as many parameters as needed. They are listed one by one, separated by commas. \n",
    "\n",
    "**Important (Order matters!)** The order of parameters specifies the order of argument values."
   ]
  },
  {
   "cell_type": "code",
   "execution_count": null,
   "metadata": {},
   "outputs": [],
   "source": [
    "def totalSecs(mins, secs):\n",
    "    '''Given the parameters mins and secs, return total number of seconds''' \n",
    "    return (mins * 60) + secs"
   ]
  },
  {
   "cell_type": "markdown",
   "metadata": {},
   "source": [
    "If we call the function and provide the arguments in the wrong order (seconds first and then minutes), it will not work.  The order of arguments in the function call should be the same as order of the corresponding paramenters in the function definition.\n",
    "\n",
    "**Call the function:**"
   ]
  },
  {
   "cell_type": "code",
   "execution_count": null,
   "metadata": {},
   "outputs": [],
   "source": [
    "totalSecs(3, 67) # 3 minutes, 67 seconds"
   ]
  },
  {
   "cell_type": "markdown",
   "metadata": {},
   "source": [
    "**Why use docstrings?** To help the user of the function understand the intended use.  "
   ]
  },
  {
   "cell_type": "code",
   "execution_count": null,
   "metadata": {},
   "outputs": [],
   "source": [
    "help(totalSecs) # help is another in-built function!"
   ]
  },
  {
   "cell_type": "markdown",
   "metadata": {},
   "source": [
    "<a id=\"sec3\"></a>"
   ]
  },
  {
   "cell_type": "markdown",
   "metadata": {},
   "source": [
    "## Function calling Functions \n",
    "\n",
    "Once you have defined a function, you can call it from within other functions.\n",
    "\n"
   ]
  },
  {
   "cell_type": "code",
   "execution_count": null,
   "metadata": {},
   "outputs": [],
   "source": [
    "def song(action):\n",
    "    return \"If you are happy and you know it, \" + action\n",
    "    \n",
    "    \n",
    "def singsong():\n",
    "    print(song(\"clap your hands\"))\n",
    "    print(song(\"stomp your feet\"))\n",
    "    print(song(\"snap your fingers!\"))"
   ]
  },
  {
   "cell_type": "code",
   "execution_count": null,
   "metadata": {},
   "outputs": [],
   "source": [
    "singsong() # what will happen?"
   ]
  },
  {
   "cell_type": "markdown",
   "metadata": {},
   "source": [
    "In the above example, `singsong()` is a **zero-parameter** function which is calling\n",
    "the function `print()`, which is calling the function ``song()``. \n",
    "\n",
    "**Note** The function `song()` returns a string.  The returned string replaces the function call within the `print()`, which results in it being printed.  \n"
   ]
  },
  {
   "cell_type": "markdown",
   "metadata": {},
   "source": [
    "## Excercise: Write function `average()` \n",
    "\n",
    "Let us define a function named `average()` that takes two numbers and returns the average of the two. "
   ]
  },
  {
   "cell_type": "code",
   "execution_count": null,
   "metadata": {},
   "outputs": [],
   "source": [
    "# Here define the function average\n",
    "def average(x,y):\n",
    "    return (x + y) / 2\n"
   ]
  },
  {
   "cell_type": "markdown",
   "metadata": {},
   "source": [
    "Now try calling your function below:"
   ]
  },
  {
   "cell_type": "code",
   "execution_count": null,
   "metadata": {},
   "outputs": [],
   "source": [
    "average(6, 16)"
   ]
  },
  {
   "cell_type": "code",
   "execution_count": null,
   "metadata": {},
   "outputs": [],
   "source": [
    "average(5, 7)"
   ]
  },
  {
   "cell_type": "markdown",
   "metadata": {},
   "source": [
    "<a id=\"sec4\"></a>"
   ]
  },
  {
   "cell_type": "markdown",
   "metadata": {},
   "source": [
    "##  `return` vs. `print()`"
   ]
  },
  {
   "cell_type": "markdown",
   "metadata": {},
   "source": [
    "* `return` specifies the result of the function invocation\n",
    "* `print()` causes characters to be displayed in the shell.\n",
    "* They are very different!\n"
   ]
  },
  {
   "cell_type": "code",
   "execution_count": null,
   "metadata": {},
   "outputs": [],
   "source": [
    "def exp(num, k):\n",
    "    \"\"\"Return the kth power of given number num\"\"\"\n",
    "    return num**k\n",
    "\n",
    "def printExp(num, k):\n",
    "    \"\"\"Print the kth power of given number num\"\"\"\n",
    "    print(\"{} raised to exponent {} is {}\".format(num, k, num**k))"
   ]
  },
  {
   "cell_type": "markdown",
   "metadata": {},
   "source": [
    "Try out the result of the following expressions:"
   ]
  },
  {
   "cell_type": "code",
   "execution_count": null,
   "metadata": {},
   "outputs": [],
   "source": [
    "exp(3, 2) + exp(2, 3)"
   ]
  },
  {
   "cell_type": "code",
   "execution_count": null,
   "metadata": {},
   "outputs": [],
   "source": [
    "printExp(3, 2)"
   ]
  },
  {
   "cell_type": "markdown",
   "metadata": {},
   "source": [
    "**Question.** Will this work? What does `printExp()` return? "
   ]
  },
  {
   "cell_type": "code",
   "execution_count": null,
   "metadata": {},
   "outputs": [],
   "source": [
    "printExp(3, 1) + printExp(4, 2)"
   ]
  },
  {
   "cell_type": "code",
   "execution_count": null,
   "metadata": {},
   "outputs": [],
   "source": [
    "type(printExp(3, 2))"
   ]
  },
  {
   "cell_type": "code",
   "execution_count": null,
   "metadata": {},
   "outputs": [],
   "source": [
    "print(printExp(3, 2))"
   ]
  },
  {
   "cell_type": "markdown",
   "metadata": {},
   "source": [
    "## Make Change Example"
   ]
  },
  {
   "cell_type": "markdown",
   "metadata": {},
   "source": [
    "**Problem.** Suppose you are a cashier and you need to make change for a given number of cents using only quarters, dimes, nickels, and pennies.\n",
    "\n",
    "Most cashiers use the following greedy strategy to make change using the fewest number of coins:   use as many quarters as possible first, then as many dimes as possible next, and so on, using the fewest number of pennies last.  Assume you have an unlimited supply of each coin."
   ]
  },
  {
   "cell_type": "code",
   "execution_count": null,
   "metadata": {},
   "outputs": [],
   "source": [
    "# simple function to make change\n",
    "def numCoins(cents):\n",
    "  \"\"\"Takes as input cents and returns the fewest number of coins of type\n",
    "  quarter, dimes, nickels and pennies that can make change for cents\"\"\"\n",
    "  pass \n",
    "  # we will write this together in class in Atom"
   ]
  },
  {
   "cell_type": "code",
   "execution_count": null,
   "metadata": {},
   "outputs": [],
   "source": [
    "help(numCoins)"
   ]
  },
  {
   "cell_type": "markdown",
   "metadata": {},
   "source": [
    "<a id=\"sec5\"></a>"
   ]
  },
  {
   "cell_type": "markdown",
   "metadata": {},
   "source": [
    "## Variable Scope"
   ]
  },
  {
   "cell_type": "markdown",
   "metadata": {},
   "source": [
    "**Local variables.**  An assignment to a variable within a function definition creates/changes a local variable. Local variables exist only within a function's body, and cannot be referred outside of it. *Parameters* are also local variables that are assigned a value when the function is invoked."
   ]
  },
  {
   "cell_type": "markdown",
   "metadata": {},
   "source": [
    "<a id=\"sec7\"></a>"
   ]
  },
  {
   "cell_type": "code",
   "execution_count": null,
   "metadata": {},
   "outputs": [],
   "source": [
    "def square(num):  \n",
    "    return num * num"
   ]
  },
  {
   "cell_type": "code",
   "execution_count": null,
   "metadata": {},
   "outputs": [],
   "source": [
    "square(5)"
   ]
  },
  {
   "cell_type": "code",
   "execution_count": null,
   "metadata": {},
   "outputs": [],
   "source": [
    "num # num is not valid outside of square"
   ]
  },
  {
   "cell_type": "code",
   "execution_count": null,
   "metadata": {},
   "outputs": [],
   "source": [
    "def myfunc (val):\n",
    "    val = val + 1\n",
    "    print('local val = ', val)\n",
    "    return val "
   ]
  },
  {
   "cell_type": "code",
   "execution_count": null,
   "metadata": {},
   "outputs": [],
   "source": [
    "val = 3\n",
    "newVal = myfunc(val)"
   ]
  },
  {
   "cell_type": "code",
   "execution_count": null,
   "metadata": {},
   "outputs": [],
   "source": [
    "print('global val =', val)"
   ]
  },
  {
   "cell_type": "code",
   "execution_count": null,
   "metadata": {},
   "outputs": [],
   "source": [
    "newVal"
   ]
  }
 ],
 "metadata": {
  "kernelspec": {
   "display_name": "Python 3 (ipykernel)",
   "language": "python",
   "name": "python3"
  },
  "language_info": {
   "codemirror_mode": {
    "name": "ipython",
    "version": 3
   },
   "file_extension": ".py",
   "mimetype": "text/x-python",
   "name": "python",
   "nbconvert_exporter": "python",
   "pygments_lexer": "ipython3",
   "version": "3.9.7"
  }
 },
 "nbformat": 4,
 "nbformat_minor": 1
}
