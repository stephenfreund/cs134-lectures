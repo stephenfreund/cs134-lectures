{
 "cells": [
  {
   "cell_type": "markdown",
   "metadata": {},
   "source": [
    "# CS134 Lecture 7: Lists and  Loops\n",
    "\n",
    "### Jeannie Albrecht and Shikha Singh\n",
    "\n",
    "\n"
   ]
  },
  {
   "cell_type": "markdown",
   "metadata": {},
   "source": [
    "##  A New Sequence:  Lists\n",
    "\n",
    "Recall that sequences are an abstract type in Python that represent ordered collections of elements:  e.g., strings, lists, range objects, etc.\n",
    "\n",
    "\n",
    "[Last lecture]() we focused on strings, today we will discuss lists.\n",
    "\n",
    "Unlike strings, which are a homogenous sequence of characters, lists can be a collection of heterogenous objects. \n"
   ]
  },
  {
   "cell_type": "code",
   "execution_count": null,
   "metadata": {},
   "outputs": [],
   "source": [
    "# Examples of various lists:\n",
    "    \n",
    "wordList = ['What', 'a', 'beautiful', 'day']\n",
    "numList = [1, 5, 8, 9, 15, 27]\n",
    "charList = ['a', 'e', 'i', 'o', 'u'] \n",
    "mixedList = [3.145, 'hello', 13, True] # lists can be heterogeous"
   ]
  },
  {
   "cell_type": "code",
   "execution_count": null,
   "metadata": {},
   "outputs": [],
   "source": [
    "type(numList)"
   ]
  },
  {
   "cell_type": "markdown",
   "metadata": {},
   "source": [
    "##  Sequence Operators and Functions\n",
    "\n",
    "\n",
    "We saw several operators and functions that apply to sequences when we discussed strings.  They apply to lists as well.\n",
    "\n",
    "* Indexing elements of lists using `[]`\n",
    "* Using `len` function to find length\n",
    "* Slicing lists using [:]\n",
    "* Testing membership using `in` operator\n",
    "* Concatenation using `+`"
   ]
  },
  {
   "cell_type": "code",
   "execution_count": null,
   "metadata": {},
   "outputs": [],
   "source": [
    "wordList = ['What', 'a', 'beautiful', 'day']\n",
    "\n",
    "wordList[3]"
   ]
  },
  {
   "cell_type": "code",
   "execution_count": null,
   "metadata": {},
   "outputs": [],
   "source": [
    "wordList[-1]"
   ]
  },
  {
   "cell_type": "code",
   "execution_count": null,
   "metadata": {},
   "outputs": [],
   "source": [
    "len(wordList)"
   ]
  },
  {
   "cell_type": "code",
   "execution_count": null,
   "metadata": {},
   "outputs": [],
   "source": [
    "nameList = [\"Anna\", \"Beth\", \"Chris\", \"Daxi\", \"Emory\", \"Fatima\"]"
   ]
  },
  {
   "cell_type": "code",
   "execution_count": null,
   "metadata": {},
   "outputs": [],
   "source": [
    "nameList[2:4]"
   ]
  },
  {
   "cell_type": "code",
   "execution_count": null,
   "metadata": {},
   "outputs": [],
   "source": [
    "wordList + nameList # concetenate lists"
   ]
  },
  {
   "cell_type": "code",
   "execution_count": null,
   "metadata": {},
   "outputs": [],
   "source": [
    "wordList[::-1] # what will this do?"
   ]
  },
  {
   "cell_type": "code",
   "execution_count": null,
   "metadata": {},
   "outputs": [],
   "source": [
    "nameList = [\"Aamir\", \"Beth\", \"Chris\", \"Daxi\", \"Emory\"]"
   ]
  },
  {
   "cell_type": "code",
   "execution_count": null,
   "metadata": {},
   "outputs": [],
   "source": [
    "\"Anna\" in nameList # test membership"
   ]
  },
  {
   "cell_type": "code",
   "execution_count": null,
   "metadata": {
    "scrolled": true
   },
   "outputs": [],
   "source": [
    "\"Jeannie\" in nameList"
   ]
  },
  {
   "cell_type": "code",
   "execution_count": null,
   "metadata": {
    "scrolled": true
   },
   "outputs": [],
   "source": [
    "\"Jeannie\" not in nameList # not in returns true if el not in seq"
   ]
  },
  {
   "cell_type": "code",
   "execution_count": null,
   "metadata": {},
   "outputs": [],
   "source": [
    "\"a\" not in \"Chris\""
   ]
  },
  {
   "cell_type": "markdown",
   "metadata": {},
   "source": [
    "### `not in` operator for sequences:\n",
    "\n",
    "The `in` operator tests membership and returns `True` if and only if an element is in a sequence.  On the other hand, the `not in` operator returns `True` if and only if a given element is not in the sequence.  \n",
    "\n",
    "It is preferable and more readable to say `if el not in seq` compared to the (logically equivalent) `if not el in seq`."
   ]
  },
  {
   "cell_type": "markdown",
   "metadata": {},
   "source": [
    "## Strings to Lists and Vice Versa\n",
    "\n",
    "\n",
    "It is often useful to be able to convert strings to lists, and lists to strings.\n",
    "\n",
    "**`.split()` method.** When the `split()` method is called on a string of words, it breaks up the words (by default at blank spaces) and returns a list of the words\n",
    "\n",
    "**`.join()` method.** Given a list of strings, the `.join()` string method, when applied to a character `char`, concatenates the strings in the list together with the character `char` between them and returns a string "
   ]
  },
  {
   "cell_type": "code",
   "execution_count": null,
   "metadata": {},
   "outputs": [],
   "source": [
    "phrase = \"What a lovely day\""
   ]
  },
  {
   "cell_type": "code",
   "execution_count": null,
   "metadata": {},
   "outputs": [],
   "source": [
    "phrase.split()"
   ]
  },
  {
   "cell_type": "code",
   "execution_count": null,
   "metadata": {},
   "outputs": [],
   "source": [
    "newPhrase = \"What a *lovely*     day!\"  # multiple spaces or punctuations dont matter"
   ]
  },
  {
   "cell_type": "code",
   "execution_count": null,
   "metadata": {},
   "outputs": [],
   "source": [
    "newPhrase.split()"
   ]
  },
  {
   "cell_type": "code",
   "execution_count": null,
   "metadata": {},
   "outputs": [],
   "source": [
    "commaSepSpells = \"Impervius, Portus, Lumos, Reducio, Protego\" #comma separated strings"
   ]
  },
  {
   "cell_type": "code",
   "execution_count": null,
   "metadata": {},
   "outputs": [],
   "source": [
    "commaSepSpells.split(',')"
   ]
  },
  {
   "cell_type": "code",
   "execution_count": null,
   "metadata": {},
   "outputs": [],
   "source": [
    "wordList = ['Everybody', 'is', 'looking', 'forward', 'to', 'the', 'weekend']"
   ]
  },
  {
   "cell_type": "code",
   "execution_count": null,
   "metadata": {},
   "outputs": [],
   "source": [
    "'*'.join(wordList)"
   ]
  },
  {
   "cell_type": "code",
   "execution_count": null,
   "metadata": {},
   "outputs": [],
   "source": [
    "'_'.join(wordList)"
   ]
  },
  {
   "cell_type": "code",
   "execution_count": null,
   "metadata": {},
   "outputs": [],
   "source": [
    "' '.join(wordList)"
   ]
  },
  {
   "cell_type": "markdown",
   "metadata": {},
   "source": [
    "## Looping over Lists\n",
    "\n",
    "We can use a `for` loop to iterate over the elements of a list."
   ]
  },
  {
   "cell_type": "code",
   "execution_count": null,
   "metadata": {
    "scrolled": true
   },
   "outputs": [],
   "source": [
    "numList = [0, 2, 4, 6, 8, 10]"
   ]
  },
  {
   "cell_type": "code",
   "execution_count": null,
   "metadata": {
    "scrolled": true
   },
   "outputs": [],
   "source": [
    "for num in numList:\n",
    "    print(num)"
   ]
  },
  {
   "cell_type": "markdown",
   "metadata": {},
   "source": [
    "### Exercise:  `countItem` function\n",
    "\n",
    "Write a function `countItem` that takes as input a sequence `seq` (can be a string or a list), and an element `el` and returns the number of times `el` appears in the sequence `seq`."
   ]
  },
  {
   "cell_type": "code",
   "execution_count": null,
   "metadata": {},
   "outputs": [],
   "source": [
    "def countItem(seq, el):\n",
    "    \"\"\"Takes list of sequence seq, and returns\n",
    "    the number of times el appears\"\"\"\n",
    "    pass\n",
    "\n",
    "\n"
   ]
  },
  {
   "cell_type": "code",
   "execution_count": null,
   "metadata": {},
   "outputs": [],
   "source": [
    "countItem([3, 2, 2, 3, 2, 1, 4], 2)"
   ]
  },
  {
   "cell_type": "code",
   "execution_count": null,
   "metadata": {},
   "outputs": [],
   "source": [
    "countItem(\"onomatopoeia\", \"o\")"
   ]
  },
  {
   "cell_type": "code",
   "execution_count": null,
   "metadata": {},
   "outputs": [],
   "source": [
    "countItem(\"Alabama\", \"a\")"
   ]
  },
  {
   "cell_type": "code",
   "execution_count": null,
   "metadata": {},
   "outputs": [],
   "source": [
    "countItem([\"apple\", \"banana\", \"orange\"], \"kiwi\")"
   ]
  },
  {
   "cell_type": "markdown",
   "metadata": {},
   "source": [
    "## List Accumulations\n",
    "\n",
    "It is often the case that we use loops to iterate over a sequence to **accumulate** certain items from it. For example, we may want to collect all the words from a wordList that begin with a vowel (or have some other interesting property). How would we approach this problem?\n",
    "\n",
    "* First we need to be able to iterate over all words in the original list.\n",
    "* Then, for each word we must check if it has the property we are looking for.\n",
    "* If it does, we want to remember it: by storing it somewhere.\n",
    "* Since we want to store a collection of such words, we can use a list type.  If we were interested in returning a string (e.g., in `vowelSeq`, we would collect the characters in a string accumulation variable.)\n",
    "\n",
    "Such processes where we are accumulating something while iterating over sequences call for the use of an appropriate accumulation variable.  It is important to initialize these accumulation variables **before the loop.** "
   ]
  },
  {
   "cell_type": "markdown",
   "metadata": {},
   "source": [
    "### Exercise: `wordStartEnd`\n",
    "\n",
    "Write a function that iterates over a given list of words `wordList`, returns a (new) list containing all the words in `wordList` that start and end with the same letter (ignoring case).\n",
    "\n",
    "\n",
    "**Expected behavior:**\n",
    "\n",
    "\n",
    "```\n",
    ">>> wordStartEnd(['Anna', 'banana', 'salad', 'Rigor', 'tacit', 'hope'])\n",
    "['Anna', 'Rigor', 'tacit']\n",
    ">>> wordStartEnd(['New York', 'Tokyo', 'Paris'])\n",
    "[]\n",
    ">>> wordStartEnd(['*Hello*', '', 'nope'])\n",
    "['*Hello*']\n",
    "```"
   ]
  },
  {
   "cell_type": "code",
   "execution_count": null,
   "metadata": {},
   "outputs": [],
   "source": [
    "def wordStartEnd(wordList):\n",
    "    '''Takes a list of words and returns the list of words in it\n",
    "    that start and end with the same letter'''\n",
    "    pass \n",
    "\n",
    "\n"
   ]
  },
  {
   "cell_type": "code",
   "execution_count": null,
   "metadata": {},
   "outputs": [],
   "source": [
    "def wordStartEnd(wordList):\n",
    "    '''Takes a list of words and returns the list of words in it\n",
    "    that start and end with the same letter'''\n",
    "    # initialize accumulation variable (of type list)\n",
    "    result = []\n",
    "    for word in wordList: # iterate over list\n",
    "        #check for empty strings before indexing\n",
    "        if len(word) != 0:   \n",
    "            if word[0].lower() == word[-1].lower():\n",
    "                result += [word] # concatenate to resulting list\n",
    "    return result # notice the indentation of return\n",
    "            "
   ]
  },
  {
   "cell_type": "code",
   "execution_count": null,
   "metadata": {},
   "outputs": [],
   "source": [
    "wordStartEnd(['Anna', 'banana', 'salad', 'Rigor', 'tacit', 'hope'])"
   ]
  },
  {
   "cell_type": "code",
   "execution_count": null,
   "metadata": {
    "scrolled": true
   },
   "outputs": [],
   "source": [
    "wordStartEnd(['Scared', 'Sure', 'Sars', 'Viral', 'viv', 'stills'])"
   ]
  },
  {
   "cell_type": "code",
   "execution_count": null,
   "metadata": {
    "scrolled": true
   },
   "outputs": [],
   "source": [
    "wordStartEnd(['New York', 'Tokyo', 'Paris'])"
   ]
  },
  {
   "cell_type": "code",
   "execution_count": null,
   "metadata": {},
   "outputs": [],
   "source": [
    "wordStartEnd(['*Hello*', '', 'nope'])"
   ]
  },
  {
   "cell_type": "code",
   "execution_count": null,
   "metadata": {
    "scrolled": true
   },
   "outputs": [],
   "source": [
    "wordStartEnd(['Exude', 'Eerie', 'Soup', 'knack', 'snack'])"
   ]
  },
  {
   "cell_type": "markdown",
   "metadata": {},
   "source": [
    "### Exercise: `palindromes`\n",
    "\n",
    "Write a function that iterates over a given list of strings `sList`, returns a (new) list containing all the strings in `sList` that are palindromes (read the same backward and forward).\n",
    "\n",
    "\n",
    "**Expected behavior:**\n",
    "\n",
    "\n",
    "```\n",
    ">>> palindromes(['Anna', 'banana', 'kayak', 'rigor', 'tacit', 'hope'])\n",
    "['Anna', 'kayak']\n",
    ">>> palindromes(['1313', '1110111', '0101'])\n",
    "['1110111']\n",
    ">>> wordStartEnd(['Level', 'Stick', 'Gag'])\n",
    "['Level', 'Gag']\n",
    "```"
   ]
  },
  {
   "cell_type": "code",
   "execution_count": null,
   "metadata": {},
   "outputs": [],
   "source": [
    "def palindromes(sList):\n",
    "    '''Takes a list of words and counts the \n",
    "    number of words in it that start and end \n",
    "    with the same letter'''\n",
    "    pass \n",
    "\n",
    "\n"
   ]
  },
  {
   "cell_type": "code",
   "execution_count": null,
   "metadata": {},
   "outputs": [],
   "source": [
    "def palindromes(sList):\n",
    "    '''Takes a list of words and counts the \n",
    "    number of words in it that start and end \n",
    "    with the same letter'''\n",
    "    # initialize accumulation variable (of type list)\n",
    "    result = []\n",
    "    for word in sList: # iterate over list\n",
    "        wLower = word.lower()\n",
    "        if wLower[::-1] == wLower:  \n",
    "            result += [word] # concatenate to resulting list\n",
    "    return result \n",
    "            "
   ]
  },
  {
   "cell_type": "code",
   "execution_count": null,
   "metadata": {},
   "outputs": [],
   "source": [
    "palindromes(['Anna', 'banana', 'kayak', 'rigor', 'tacit', 'hope'])"
   ]
  },
  {
   "cell_type": "code",
   "execution_count": null,
   "metadata": {},
   "outputs": [],
   "source": [
    "palindromes(['1313', '1110111', '0101'])"
   ]
  },
  {
   "cell_type": "code",
   "execution_count": null,
   "metadata": {
    "scrolled": true
   },
   "outputs": [],
   "source": [
    "palindromes(['Level', 'Stick', 'Gag'])"
   ]
  },
  {
   "cell_type": "markdown",
   "metadata": {},
   "source": [
    "## Testing Functions \n",
    "\n",
    "Suppose we want to test a function we have written.  There are several ways to do so.  You can test using interactively python by importing the function from checking to see if it returns the correct output when called on a bunch of different values.  \n",
    "\n",
    "**Testing using doctests.** Python's doctest module allows you to embed your test cases and expected output directly into a functions docstring.  To use the doctest module we must import it.  To make sure the test cases are run when the program is run as a script from the terminal, we need to insert a doctest.testmod().  To make sure that the tests are not run in an interactive shell or when the functions from the module are imported, we should place the command within a guarded if `__name__ == \"__main__\":` block.  See slides for more explanation."
   ]
  },
  {
   "cell_type": "markdown",
   "metadata": {},
   "source": [
    "### Doctests module\n",
    "\n",
    "The `doctest` module searches for pieces of text that look like interactive Python sessions, and then executes those sessions to verify that they work exactly as shown. "
   ]
  },
  {
   "cell_type": "code",
   "execution_count": null,
   "metadata": {},
   "outputs": [],
   "source": [
    "def isVowel(char):\n",
    "    \"\"\"Predicate that returns true only when a letter is a vowel.\n",
    "    >>> isVowel('d')\n",
    "    False\n",
    "    >>> isVowel('e')\n",
    "    True\n",
    "    \"\"\"\n",
    "    return char.lower() in 'aeiou'"
   ]
  },
  {
   "cell_type": "code",
   "execution_count": null,
   "metadata": {},
   "outputs": [],
   "source": [
    "import doctest\n",
    "doctest.testmod(verbose = True)\n",
    "\n",
    "# Task:  try this out as a script and \n",
    "# run from the terminal "
   ]
  },
  {
   "cell_type": "markdown",
   "metadata": {},
   "source": [
    "## Another Sequence:  Range function\n",
    "Python provides an easy way to iterate over common numerical sequences through the `range` function. \n",
    "\n",
    "In Python 3, we don't have an easy way to display the numbers stored in a range object.  If we want to examine the contents of a range object, we may pass the object into the function list() which returns a list of the numbers in the range object. "
   ]
  },
  {
   "cell_type": "code",
   "execution_count": null,
   "metadata": {},
   "outputs": [],
   "source": [
    "range(0,10)"
   ]
  },
  {
   "cell_type": "code",
   "execution_count": null,
   "metadata": {},
   "outputs": [],
   "source": [
    "type(range(0, 10))"
   ]
  },
  {
   "cell_type": "markdown",
   "metadata": {},
   "source": [
    "## List Type\n",
    "\n",
    "Similar to other types that we have seen: *integer*, *float* and *string*, there is a built-in function with the name of the type that generates values of that types by converting from a type to another. \n",
    "\n",
    "**`list()` function on range objects.** \n",
    "\n",
    "The `list()` function when given a range object, returns a list of the elements in that range."
   ]
  },
  {
   "cell_type": "code",
   "execution_count": null,
   "metadata": {},
   "outputs": [],
   "source": [
    "list(range(0, 10))"
   ]
  },
  {
   "cell_type": "markdown",
   "metadata": {},
   "source": [
    "**Notice.** The `range(firNum, secNum)` represents all numbers from `firNum` through `secNum - 1.` If the `firNum` is 0, we can omit. For example: "
   ]
  },
  {
   "cell_type": "code",
   "execution_count": null,
   "metadata": {},
   "outputs": [],
   "source": [
    "list(range(-10, 10))"
   ]
  },
  {
   "cell_type": "markdown",
   "metadata": {},
   "source": [
    "**Using `list()` on strings.** \n",
    "\n",
    "Converts strings to a list of string characters. The `list` function, if given a string, returns a list of all its constituent characters (in order).\n"
   ]
  },
  {
   "cell_type": "code",
   "execution_count": null,
   "metadata": {},
   "outputs": [],
   "source": [
    "spell = \"Avada Kedavra!\""
   ]
  },
  {
   "cell_type": "code",
   "execution_count": null,
   "metadata": {},
   "outputs": [],
   "source": [
    "list(spell) # can turn a string into a list of its characters"
   ]
  },
  {
   "cell_type": "code",
   "execution_count": null,
   "metadata": {},
   "outputs": [],
   "source": [
    "list(str(3.14159265))  "
   ]
  },
  {
   "cell_type": "markdown",
   "metadata": {},
   "source": [
    "## Looping over ranges\n",
    "\n",
    "Range functions provides us with an iterable sequence, which we can loop over, just like we did with strings and list.  \n",
    "\n",
    "What are some reasons we might want to loop over a range of numbers?"
   ]
  },
  {
   "cell_type": "code",
   "execution_count": null,
   "metadata": {},
   "outputs": [],
   "source": [
    "for i in range(1, 11):  # simple for loop that prints numbers 1-10\n",
    "    print(i)"
   ]
  },
  {
   "cell_type": "code",
   "execution_count": null,
   "metadata": {},
   "outputs": [],
   "source": [
    "for i in range(5):  # for loops to print patterns\n",
    "    print('$' * i)\n",
    "for j in range(5):  \n",
    "    print('*' * j)"
   ]
  }
 ],
 "metadata": {
  "kernelspec": {
   "display_name": "Python 3 (ipykernel)",
   "language": "python",
   "name": "python3"
  },
  "language_info": {
   "codemirror_mode": {
    "name": "ipython",
    "version": 3
   },
   "file_extension": ".py",
   "mimetype": "text/x-python",
   "name": "python",
   "nbconvert_exporter": "python",
   "pygments_lexer": "ipython3",
   "version": "3.9.7"
  }
 },
 "nbformat": 4,
 "nbformat_minor": 1
}
