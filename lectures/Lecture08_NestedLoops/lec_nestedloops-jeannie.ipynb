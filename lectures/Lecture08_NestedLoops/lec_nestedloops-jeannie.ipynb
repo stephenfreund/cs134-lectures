{
 "cells": [
  {
   "cell_type": "markdown",
   "metadata": {},
   "source": [
    "# CS134 Lecture 8: Lists and Nested Loops\n",
    "\n",
    "### Jeannie Albrecht and Shikha Singh\n",
    "\n",
    "\n"
   ]
  },
  {
   "cell_type": "markdown",
   "metadata": {},
   "source": [
    "## List Accumulations\n",
    "\n",
    "It is often the case that we use loops to iterate over a sequence to **accumulate** certain items from it. For example, we may want to collect all the words from a wordList that begin with a vowel (or have some other interesting property). How would we approach this problem?\n",
    "\n",
    "* First we need to be able to **iterate** over all words in the original list.\n",
    "* Then, for each word we must **check** to see if it has the property we are looking for.\n",
    "* If it does, we want to remember it: by **storing it** somewhere.\n",
    "* Since we want to store a collection of such words, we can use a list type.  If we were interested in returning a string (e.g., in `vowelSeq`, we would collect the characters in a string accumulation variable.)\n",
    "\n",
    "Such processes where we are accumulating something while iterating over sequences call for the use of an appropriate **accumulation variable**.  It is important to initialize these accumulation variables **before the loop.** "
   ]
  },
  {
   "cell_type": "markdown",
   "metadata": {},
   "source": [
    "### Exercise: `palindromes`\n",
    "\n",
    "Write a function that iterates over a given list of strings `sList`, and returns a (new) list containing all the strings in `sList` that are palindromes (read the same backward and forward).\n",
    "\n",
    "\n",
    "**Expected behavior:**\n",
    "\n",
    "\n",
    "```\n",
    ">>> palindromes(['Anna', 'banana', 'kayak', 'rigor', 'tacit', 'hope'])\n",
    "['Anna', 'kayak']\n",
    ">>> palindromes(['1313', '1110111', '0101'])\n",
    "['1110111']\n",
    ">>> wordStartEnd(['Level', 'Stick', 'Gag'])\n",
    "['Level', 'Gag']\n",
    "```"
   ]
  },
  {
   "cell_type": "code",
   "execution_count": null,
   "metadata": {},
   "outputs": [],
   "source": [
    "def palindromes(sList):\n",
    "    '''Takes a list of words and returns a new list of words comprised\n",
    "    of words from the original list that are palindromes'''\n",
    "    pass \n",
    "\n",
    "\n"
   ]
  },
  {
   "cell_type": "code",
   "execution_count": null,
   "metadata": {},
   "outputs": [],
   "source": [
    "def palindromes(sList):\n",
    "    '''Takes a list of words and returns a new list of words comprised\n",
    "    of words from the original list that are palindromes'''\n",
    "     # initialize accumulation variable (of type list)\n",
    "    result = []\n",
    "    for word in sList: # iterate over list\n",
    "        wLower = word.lower() #ignore case\n",
    "        if wLower[::-1] == wLower: # [::-1] returns wLower in reverse \n",
    "            result += [word] # concatenate to resulting list, notice []\n",
    "    return result \n",
    "            "
   ]
  },
  {
   "cell_type": "code",
   "execution_count": null,
   "metadata": {},
   "outputs": [],
   "source": [
    "palindromes(['Anna', 'banana', 'kayak', 'rigor', 'tacit', 'hope'])"
   ]
  },
  {
   "cell_type": "code",
   "execution_count": null,
   "metadata": {},
   "outputs": [],
   "source": [
    "palindromes(['1313', '1110111', '0101'])"
   ]
  },
  {
   "cell_type": "code",
   "execution_count": null,
   "metadata": {},
   "outputs": [],
   "source": [
    "palindromes(['Level', 'Stick', 'Gag'])"
   ]
  },
  {
   "cell_type": "markdown",
   "metadata": {},
   "source": [
    "## Nested Loops \n",
    "\n",
    "We can put `for loops` inside other for loops:  this is called `nested loops`.\n",
    "\n",
    "\n",
    "Let us see some examples."
   ]
  },
  {
   "cell_type": "code",
   "execution_count": null,
   "metadata": {},
   "outputs": [],
   "source": [
    "# What does this do?\n",
    "\n",
    "def mysteryPrint(word1, word2):\n",
    "    \"\"\"Prints something\"\"\"\n",
    "    for char1 in word1:\n",
    "        for char2 in word2:\n",
    "            print(char1, char2)"
   ]
  },
  {
   "cell_type": "code",
   "execution_count": null,
   "metadata": {},
   "outputs": [],
   "source": [
    "mysteryPrint('123', 'abc')"
   ]
  },
  {
   "cell_type": "code",
   "execution_count": null,
   "metadata": {},
   "outputs": [],
   "source": [
    "# What does this print?\n",
    "\n",
    "for letter in ['b','d','r','s']: \n",
    "    for suffix in ['ad', 'ib', 'ump']:\n",
    "        print(letter + suffix)"
   ]
  },
  {
   "cell_type": "markdown",
   "metadata": {},
   "source": [
    "## Review: Useful String/List methods\n",
    "\n",
    "\n",
    "It is often useful to be able to convert strings to lists, and lists to strings.\n",
    "\n",
    "**`.split()` method.** When the `split()` method is called on a string of words, it breaks up the words (by default at blank spaces) and returns a list of the words\n",
    "\n",
    "**`.join()` method.** Given a list of strings, the `.join()` string method, when applied to a character `char`, concatenates the strings in the list together with the character `char` between them and returns a string \n",
    "\n",
    "**`.strip()` method.** `strip()` remove leading and trailing whitespace characters (including blank spaces and new lines) from a string and returns a new string"
   ]
  },
  {
   "cell_type": "code",
   "execution_count": null,
   "metadata": {},
   "outputs": [],
   "source": [
    "phrase = \"What a lovely day\""
   ]
  },
  {
   "cell_type": "code",
   "execution_count": null,
   "metadata": {},
   "outputs": [],
   "source": [
    "phrase.split()"
   ]
  },
  {
   "cell_type": "code",
   "execution_count": null,
   "metadata": {},
   "outputs": [],
   "source": [
    "newPhrase = \"What a *lovely*     day!\"  # multiple spaces or punctuations dont matter"
   ]
  },
  {
   "cell_type": "code",
   "execution_count": null,
   "metadata": {},
   "outputs": [],
   "source": [
    "newPhrase.split()"
   ]
  },
  {
   "cell_type": "code",
   "execution_count": null,
   "metadata": {},
   "outputs": [],
   "source": [
    "commaSepSpells = \"Impervius, Portus, Lumos, Reducio, Protego\" #comma separated strings"
   ]
  },
  {
   "cell_type": "code",
   "execution_count": null,
   "metadata": {},
   "outputs": [],
   "source": [
    "commaSepSpells.split(',')"
   ]
  },
  {
   "cell_type": "code",
   "execution_count": null,
   "metadata": {},
   "outputs": [],
   "source": [
    "wordList = ['Everybody', 'is', 'looking', 'forward', 'to', 'the', 'weekend']"
   ]
  },
  {
   "cell_type": "code",
   "execution_count": null,
   "metadata": {},
   "outputs": [],
   "source": [
    "'*'.join(wordList)"
   ]
  },
  {
   "cell_type": "code",
   "execution_count": null,
   "metadata": {},
   "outputs": [],
   "source": [
    "'_'.join(wordList)"
   ]
  },
  {
   "cell_type": "code",
   "execution_count": null,
   "metadata": {},
   "outputs": [],
   "source": [
    "' '.join(wordList)"
   ]
  },
  {
   "cell_type": "code",
   "execution_count": null,
   "metadata": {},
   "outputs": [],
   "source": [
    "word = \"  ****Snowy Winters**  \""
   ]
  },
  {
   "cell_type": "code",
   "execution_count": null,
   "metadata": {},
   "outputs": [],
   "source": [
    "word.strip()"
   ]
  },
  {
   "cell_type": "code",
   "execution_count": null,
   "metadata": {},
   "outputs": [],
   "source": [
    "word = '\\nHello world\\n'"
   ]
  },
  {
   "cell_type": "code",
   "execution_count": null,
   "metadata": {},
   "outputs": [],
   "source": [
    "word"
   ]
  },
  {
   "cell_type": "code",
   "execution_count": null,
   "metadata": {},
   "outputs": [],
   "source": [
    "word.strip()"
   ]
  },
  {
   "cell_type": "markdown",
   "metadata": {},
   "source": [
    "## Range sequences\n",
    "Python provides an easy way to iterate over common numerical sequences through the `range` data type. We create ranges using the `range()` function."
   ]
  },
  {
   "cell_type": "code",
   "execution_count": null,
   "metadata": {},
   "outputs": [],
   "source": [
    "range(0,10)"
   ]
  },
  {
   "cell_type": "code",
   "execution_count": null,
   "metadata": {},
   "outputs": [],
   "source": [
    "type(range(0, 10))"
   ]
  },
  {
   "cell_type": "markdown",
   "metadata": {},
   "source": [
    "In Python 3, we don't have an easy way to display the numbers **stored** in a range object.  If we want to examine the contents of a range object, we can pass the object into the function `list()` which returns a list of the numbers in the range object. \n",
    "\n",
    "Similar to other types that we have seen, such as *integers*, *floats* and *strings*, the built-in function *list()* converts values and other data types into a list. \n",
    "\n",
    "**Using `list()` on range objects:** \n",
    "\n",
    "The `list()` function, when given a range object, returns a list of the elements in that range.  This is convenient for see what a range object actually consists of."
   ]
  },
  {
   "cell_type": "code",
   "execution_count": null,
   "metadata": {},
   "outputs": [],
   "source": [
    "list(range(0, 10))"
   ]
  },
  {
   "cell_type": "markdown",
   "metadata": {},
   "source": [
    "**Notice.** The `range(firNum, secNum)` represents all numbers from `firNum` through `secNum - 1.` If the `firNum` is 0, we can omit. For example: "
   ]
  },
  {
   "cell_type": "code",
   "execution_count": null,
   "metadata": {},
   "outputs": [],
   "source": [
    "list(range(-10, 10))"
   ]
  },
  {
   "cell_type": "code",
   "execution_count": null,
   "metadata": {},
   "outputs": [],
   "source": [
    "list(range(3))"
   ]
  },
  {
   "cell_type": "markdown",
   "metadata": {},
   "source": [
    "**Using `list()` on strings:** \n",
    "\n",
    "When applied to a string, `list()` converts the string into a list of string its constituent string characters (in order).\n"
   ]
  },
  {
   "cell_type": "code",
   "execution_count": null,
   "metadata": {},
   "outputs": [],
   "source": [
    "spell = \"Avada Kedavra!\""
   ]
  },
  {
   "cell_type": "code",
   "execution_count": null,
   "metadata": {},
   "outputs": [],
   "source": [
    "list(spell) # can turn a string into a list of its characters"
   ]
  },
  {
   "cell_type": "code",
   "execution_count": null,
   "metadata": {},
   "outputs": [],
   "source": [
    "list(str(3.14159265))  "
   ]
  },
  {
   "cell_type": "markdown",
   "metadata": {},
   "source": [
    "## Appending to Lists\n",
    "\n",
    "There are two ways to add items to a list.  We have already seen how we can concatenate with the + operator.  This actually creates a new list and returns it, similar to string concatenation.  Unlike strings, however, lists are mutable, which means they can be modified.  To add an item to an existing list, we can use the list `append()` method."
   ]
  },
  {
   "cell_type": "code",
   "execution_count": null,
   "metadata": {},
   "outputs": [],
   "source": [
    "numList = [1, 2, 3, 4, 5]"
   ]
  },
  {
   "cell_type": "code",
   "execution_count": null,
   "metadata": {},
   "outputs": [],
   "source": [
    "numList + [6]"
   ]
  },
  {
   "cell_type": "code",
   "execution_count": null,
   "metadata": {},
   "outputs": [],
   "source": [
    "numList # numList has not changed"
   ]
  },
  {
   "cell_type": "code",
   "execution_count": null,
   "metadata": {},
   "outputs": [],
   "source": [
    "numList.append(6)"
   ]
  },
  {
   "cell_type": "code",
   "execution_count": null,
   "metadata": {},
   "outputs": [],
   "source": [
    "numList # numList has been updated to include 6"
   ]
  },
  {
   "cell_type": "markdown",
   "metadata": {},
   "source": [
    "## Looping over ranges\n",
    "\n",
    "Range functions provide us with an iterable sequence, which we can loop over, just like we did with strings and list.  \n",
    "\n",
    "What are some reasons why we might want to loop over a range of numbers?"
   ]
  },
  {
   "cell_type": "code",
   "execution_count": null,
   "metadata": {},
   "outputs": [],
   "source": [
    "for i in range(1, 11):  # simple for loop that prints numbers 1-10\n",
    "    print(i)"
   ]
  },
  {
   "cell_type": "code",
   "execution_count": null,
   "metadata": {},
   "outputs": [],
   "source": [
    "# what does this print?\n",
    "\n",
    "for i in range(5):  \n",
    "    print('$' * i)\n",
    "for j in range(5):  \n",
    "    print('*' * j)"
   ]
  },
  {
   "cell_type": "code",
   "execution_count": null,
   "metadata": {},
   "outputs": [],
   "source": [
    "# what does this print?\n",
    "\n",
    "for i in range(5):\n",
    "    print('$' * i)\n",
    "    for j in range(i):\n",
    "        print('*' * i)      "
   ]
  },
  {
   "cell_type": "code",
   "execution_count": null,
   "metadata": {},
   "outputs": [],
   "source": [
    "for _ in range(10):\n",
    "    print('Hello World!')"
   ]
  },
  {
   "cell_type": "markdown",
   "metadata": {},
   "source": [
    "## Testing Functions \n",
    "\n",
    "Suppose we want to test a function we have written.  There are several ways to do so.  You can test using interactive Python by importing the function and checking to see if it returns the correct output when called on a bunch of different values.  \n",
    "\n",
    "**Testing using doctests.** Python's doctest module allows you to embed your test cases and expected output directly into a function's docstring.  To use the doctest module, we must import the doctest module, and invoke the doctests using doctest.testmod().  To make sure that the tests are *not* run in an interactive shell or when the functions from the module are imported, we should place the aforementioned command within a guarded if `__name__ == \"__main__\":` block.  See slides for more explanation."
   ]
  },
  {
   "cell_type": "markdown",
   "metadata": {},
   "source": [
    "### Doctests module\n",
    "\n",
    "The `doctest` module searches for pieces of text that look like interactive Python sessions inside of docstrings, and then executes those tests to verify that the output matches. "
   ]
  },
  {
   "cell_type": "code",
   "execution_count": null,
   "metadata": {},
   "outputs": [],
   "source": [
    "def isVowel(char):\n",
    "    \"\"\"Predicate that returns true only when a letter is a vowel.\n",
    "    >>> isVowel('d')\n",
    "    False\n",
    "    >>> isVowel('e')\n",
    "    True\n",
    "    \"\"\"\n",
    "    return char.lower() in 'aeiou'"
   ]
  },
  {
   "cell_type": "code",
   "execution_count": null,
   "metadata": {},
   "outputs": [],
   "source": [
    "import doctest\n",
    "doctest.testmod(verbose = True)\n",
    "\n",
    "# Task:  try this out as a script and \n",
    "# run from the terminal "
   ]
  }
 ],
 "metadata": {
  "kernelspec": {
   "display_name": "Python 3 (ipykernel)",
   "language": "python",
   "name": "python3"
  },
  "language_info": {
   "codemirror_mode": {
    "name": "ipython",
    "version": 3
   },
   "file_extension": ".py",
   "mimetype": "text/x-python",
   "name": "python",
   "nbconvert_exporter": "python",
   "pygments_lexer": "ipython3",
   "version": "3.9.7"
  }
 },
 "nbformat": 4,
 "nbformat_minor": 1
}
