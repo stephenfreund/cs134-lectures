{
 "cells": [
  {
   "cell_type": "markdown",
   "metadata": {},
   "source": [
    "# CS134 Lecture 6: Sequences and Simple Loops\n",
    "\n",
    "### Jeannie Albrecht and Shikha Singh\n",
    "\n",
    "\n",
    "* [Strings as a sequence](#sec1)\n",
    "     * [Accessing elements of a sequence using `[]` operator](#sec1)\n",
    "     * [Length of a Sequence](#sec1a)\n",
    "     * [Negative Indexing](#sec1b)\n",
    "     * [Slicing Sequences](#sec1c)\n",
    "     * [Testing Membership: `in` operator](#sec1d)\n",
    "     * [`lower()`, `upper()` string methods](#sec1e) \n",
    "* [Towards Iteration:  Counting Vowels](#sec2)\n",
    "* [Iteration over Sequences: for loops](#sec3)\n",
    "* [Putting it all together](#sec4)"
   ]
  },
  {
   "cell_type": "markdown",
   "metadata": {},
   "source": [
    "<a id=\"sec1\"></a>"
   ]
  },
  {
   "cell_type": "markdown",
   "metadata": {},
   "source": [
    "##  Strings as a Sequence\n",
    "\n",
    "Sequences are an abstract type in Python that represent ordered collection of elements:  e.g., strings, lists, range objects, etc.\n",
    "\n",
    "\n",
    "Today we will focus on strings which are an ordered sequence of individual characters (also of type `str`)\n",
    "\n",
    "\n",
    "* Consider for example:  `word = \"Hello\"`\n",
    "   * `'H'` is the first character of word, `'e'` is the second character, and so on.\n",
    "   * In Computer Science, it is convention to use zero-indexing, so we say fact `'H'` is the zeroth character of word, `'e'` is the first character, and so on.\n",
    "   \n",
    "We can access each character of a string using indices in Python.\n",
    "\n",
    "### Accessing elements of a sequence using `[]` operator"
   ]
  },
  {
   "cell_type": "code",
   "execution_count": null,
   "metadata": {},
   "outputs": [],
   "source": [
    "word = 'Williams'"
   ]
  },
  {
   "cell_type": "code",
   "execution_count": null,
   "metadata": {},
   "outputs": [],
   "source": [
    "word[0]  # character at 0th index?"
   ]
  },
  {
   "cell_type": "code",
   "execution_count": null,
   "metadata": {},
   "outputs": [],
   "source": [
    "word[3]  # character at 3rd index?"
   ]
  },
  {
   "cell_type": "code",
   "execution_count": null,
   "metadata": {},
   "outputs": [],
   "source": [
    "word[7] # character at 7th index?"
   ]
  },
  {
   "cell_type": "code",
   "execution_count": null,
   "metadata": {},
   "outputs": [],
   "source": [
    "word[8] # will this work?"
   ]
  },
  {
   "cell_type": "markdown",
   "metadata": {},
   "source": [
    "<a id=\"sec1a\"></a>"
   ]
  },
  {
   "cell_type": "markdown",
   "metadata": {},
   "source": [
    "### Length of a Sequence\n",
    "\n",
    "**`len()` function.** Python has a built-in `len()` function that computes the length of a sequence such as a string (or a list, which we will see in next lecture).\n",
    "\n",
    "* For example, len('Williams') outputs 8\n",
    "\n",
    "Thus, a string `word` has (positive) indices `0, 1, 2, ..., len(word)-1`."
   ]
  },
  {
   "cell_type": "code",
   "execution_count": null,
   "metadata": {},
   "outputs": [],
   "source": [
    "len(\"Williams\")"
   ]
  },
  {
   "cell_type": "code",
   "execution_count": null,
   "metadata": {},
   "outputs": [],
   "source": [
    "len(\"pneumonoultramicroscopicsilicovolcanoconiosis\") # longest word in English"
   ]
  },
  {
   "cell_type": "markdown",
   "metadata": {},
   "source": [
    "<a id=\"sec1b\"></a>"
   ]
  },
  {
   "cell_type": "markdown",
   "metadata": {},
   "source": [
    "### Negative Indexing\n",
    "\n",
    "Python also allows for negative indices, staring at `-1` which is a handy way to refer to the last element of a non-empty sequence (regardless of its length). \n",
    "\n",
    "\n",
    "Thus, a string `word` has (negative) indices `-1, -2, ..., -len(word)`."
   ]
  },
  {
   "cell_type": "code",
   "execution_count": null,
   "metadata": {},
   "outputs": [],
   "source": [
    "place = \"Williamstown\""
   ]
  },
  {
   "cell_type": "code",
   "execution_count": null,
   "metadata": {},
   "outputs": [],
   "source": [
    "place[-1]"
   ]
  },
  {
   "cell_type": "code",
   "execution_count": null,
   "metadata": {},
   "outputs": [],
   "source": [
    "len(place)"
   ]
  },
  {
   "cell_type": "code",
   "execution_count": null,
   "metadata": {},
   "outputs": [],
   "source": [
    "place[-12]"
   ]
  },
  {
   "cell_type": "markdown",
   "metadata": {},
   "source": [
    "<a id=\"sec1c\"></a>"
   ]
  },
  {
   "cell_type": "markdown",
   "metadata": {},
   "source": [
    "### Slicing Sequences\n",
    "\n",
    "Python allows us to extract **subsequences** of a sequence using the slicing operator `[:]`.\n",
    "\n",
    "For example, suppose we want to extract the substring `Williams` from `Williamstown`.  We can use the starting and ending indices of the substring and the slicing operator `[:]`."
   ]
  },
  {
   "cell_type": "code",
   "execution_count": null,
   "metadata": {},
   "outputs": [],
   "source": [
    "place = \"Williamstown\""
   ]
  },
  {
   "cell_type": "code",
   "execution_count": null,
   "metadata": {},
   "outputs": [],
   "source": [
    "# return the sequence from 0th index up to (not including) 8th\n",
    "place[0:8] "
   ]
  },
  {
   "cell_type": "code",
   "execution_count": null,
   "metadata": {},
   "outputs": [],
   "source": [
    "place[5:7] # what will this return?"
   ]
  },
  {
   "cell_type": "code",
   "execution_count": null,
   "metadata": {},
   "outputs": [],
   "source": [
    "place[4:4] # what will this return?"
   ]
  },
  {
   "cell_type": "code",
   "execution_count": null,
   "metadata": {},
   "outputs": [],
   "source": [
    "place[1:] # if second index not provided, defaults to len"
   ]
  },
  {
   "cell_type": "code",
   "execution_count": null,
   "metadata": {},
   "outputs": [],
   "source": [
    "place[:8] # if first index not provided, defaults to 0"
   ]
  },
  {
   "cell_type": "code",
   "execution_count": null,
   "metadata": {},
   "outputs": [],
   "source": [
    "place[:] # what will this do?"
   ]
  },
  {
   "cell_type": "code",
   "execution_count": null,
   "metadata": {},
   "outputs": [],
   "source": [
    "place[8:100]  # notice no indexError"
   ]
  },
  {
   "cell_type": "code",
   "execution_count": null,
   "metadata": {},
   "outputs": [],
   "source": [
    "place[-4:-1]  # can also use negative indices to slice"
   ]
  },
  {
   "cell_type": "markdown",
   "metadata": {},
   "source": [
    "### Slicing Sequences with Optional Step \n",
    "\n",
    "The slicing operator `[:]` optionally takes a third **step** parameter that determines in what direction to traverse, and whether to skip any elements while traversing and creating the subsequence.  \n",
    "\n",
    "By default the step is set to +1 (which means move left to right in increments of one).\n",
    "\n",
    "We can pass other step parameters to obtain new sliced sequences; see examples below."
   ]
  },
  {
   "cell_type": "code",
   "execution_count": null,
   "metadata": {},
   "outputs": [],
   "source": [
    "place = \"Williamstown\""
   ]
  },
  {
   "cell_type": "code",
   "execution_count": null,
   "metadata": {},
   "outputs": [],
   "source": [
    "place[:8:1] # 1 is default"
   ]
  },
  {
   "cell_type": "code",
   "execution_count": null,
   "metadata": {},
   "outputs": [],
   "source": [
    "place[:8:2] # go left to right in increments of 2 "
   ]
  },
  {
   "cell_type": "code",
   "execution_count": null,
   "metadata": {},
   "outputs": [],
   "source": [
    "place[::2] # can you guess the answer?"
   ]
  },
  {
   "cell_type": "markdown",
   "metadata": {},
   "source": [
    "### Nifty Way to Reverse Sequences\n",
    "\n",
    "The optional parameter does not come up too often, but does provide a nifty way to reverse sequences.\n",
    "\n",
    "For example, to reverse a string, we can set the optional step parameter to `-1`."
   ]
  },
  {
   "cell_type": "code",
   "execution_count": null,
   "metadata": {},
   "outputs": [],
   "source": [
    "place[::-1] # reverse the sequence"
   ]
  },
  {
   "cell_type": "markdown",
   "metadata": {},
   "source": [
    "<a id=\"sec1d\"></a>"
   ]
  },
  {
   "cell_type": "markdown",
   "metadata": {},
   "source": [
    "### Testing membership: `in` operator\n",
    "\n",
    "The `in` operator in Python returns `True`/`False` value and is used to test if a given sequence is a subsequence of another sequence.\n",
    "\n",
    "For example, we can use it to test if a string is a **substring** of another string (a **substring** is a contiguous sequence of characters within a string, e.g. `Williams` is a substring of `Williamstown`)"
   ]
  },
  {
   "cell_type": "code",
   "execution_count": null,
   "metadata": {},
   "outputs": [],
   "source": [
    "'Williams' in 'Williamstown'"
   ]
  },
  {
   "cell_type": "code",
   "execution_count": null,
   "metadata": {},
   "outputs": [],
   "source": [
    "'W' in 'Williams'"
   ]
  },
  {
   "cell_type": "code",
   "execution_count": null,
   "metadata": {},
   "outputs": [],
   "source": [
    "'w' in 'Williams' # capitization matters"
   ]
  },
  {
   "cell_type": "code",
   "execution_count": null,
   "metadata": {},
   "outputs": [],
   "source": [
    "'liam' in 'WiLLiams' # will this work?"
   ]
  },
  {
   "cell_type": "markdown",
   "metadata": {},
   "source": [
    "<a id=\"sec1e\"></a>"
   ]
  },
  {
   "cell_type": "markdown",
   "metadata": {},
   "source": [
    "### `lower()` and `upper()` string methods \n",
    "\n",
    "We can ignore or manipulate case of strings, using the `.lower()` and `.upper()` string methods, which return a new string with the appropriate case."
   ]
  },
  {
   "cell_type": "code",
   "execution_count": null,
   "metadata": {},
   "outputs": [],
   "source": [
    "message = \"HELLLOOOO...!!!\""
   ]
  },
  {
   "cell_type": "code",
   "execution_count": null,
   "metadata": {},
   "outputs": [],
   "source": [
    "message.lower() # leaves non-alphabets the same"
   ]
  },
  {
   "cell_type": "code",
   "execution_count": null,
   "metadata": {},
   "outputs": [],
   "source": [
    "song = \"$$ la la la laaa la $$...\""
   ]
  },
  {
   "cell_type": "code",
   "execution_count": null,
   "metadata": {},
   "outputs": [],
   "source": [
    "song.upper()"
   ]
  },
  {
   "cell_type": "markdown",
   "metadata": {},
   "source": [
    "### New `isVowel` function\n",
    "\n",
    "\n",
    "We can rewrite and simplify our `isVowel` function that takes a character as input and returns whether or not it is a vowel."
   ]
  },
  {
   "cell_type": "code",
   "execution_count": null,
   "metadata": {},
   "outputs": [],
   "source": [
    "def oldIsVowel(char):\n",
    "    \"\"\"Old isVowel function\"\"\"\n",
    "    c = char.lower() # convert to lower case first\n",
    "    return (c == 'a' or c == 'e' or \n",
    "            c == 'i' or c == 'o' or c == 'u')"
   ]
  },
  {
   "cell_type": "code",
   "execution_count": null,
   "metadata": {},
   "outputs": [],
   "source": [
    "def isVowel(char):\n",
    "    \"\"\"Simpler isVowel function\"\"\"\n",
    "    c = char.lower() # convert to lower case first\n",
    "    return c in 'aeiou' "
   ]
  },
  {
   "cell_type": "code",
   "execution_count": null,
   "metadata": {},
   "outputs": [],
   "source": [
    "isVowel('A')"
   ]
  },
  {
   "cell_type": "code",
   "execution_count": null,
   "metadata": {},
   "outputs": [],
   "source": [
    "isVowel('z')"
   ]
  },
  {
   "cell_type": "code",
   "execution_count": null,
   "metadata": {},
   "outputs": [],
   "source": [
    "isVowel('u')"
   ]
  },
  {
   "cell_type": "markdown",
   "metadata": {},
   "source": [
    "<a id=\"sec2\"></a>"
   ]
  },
  {
   "cell_type": "markdown",
   "metadata": {},
   "source": [
    "##  Towards Iteration:  Counting Vowels\n",
    "\n",
    "**Problem.**  Write a function countVowels that takes a string word as input, counts and returns the number of vowels in the string.\n",
    "\n",
    "```\n",
    "def countVowels(word):\n",
    "     '''Returns number of vowels in the word'''\n",
    "     pass\n",
    "     \n",
    "```\n",
    "\n",
    "**Expected behavior:**\n",
    "```\n",
    ">>> countVowels('Williamstown')\n",
    "4\n",
    ">>> countVowels('Ephelia')\n",
    "4\n",
    "```\n",
    "\n",
    "**Re-using functions.** Since we have defined `isVowel`, we can use it to test individual characters of the string, rather than starting from scratch.  \n",
    "\n",
    "\n",
    "What do we need to do to solve this problem?\n",
    "  * Test each character of the string to see if it is a vowel \n",
    "  * If we encounter a vowel, we need to remember it (keep a `counter` for all vowels seen so far)"
   ]
  },
  {
   "cell_type": "markdown",
   "metadata": {},
   "source": [
    "### Attempts using Conditionals\n",
    "\n",
    "Suppose we manually check each character of the string and update a counter if it is a vowel."
   ]
  },
  {
   "cell_type": "code",
   "execution_count": null,
   "metadata": {},
   "outputs": [],
   "source": [
    "word = 'Williams'     \n",
    "counter = 0\n",
    "if isVowel(word[0]):\n",
    "    counter += 1\n",
    "if isVowel(word[1]):\n",
    "    counter += 1\n",
    "if isVowel(word[2]):\n",
    "    counter += 1\n",
    "if isVowel(word[3]):\n",
    "    counter += 1\n",
    "if isVowel(word[4]):\n",
    "    counter += 1\n",
    "if isVowel(word[5]):\n",
    "    counter += 1\n",
    "if isVowel(word[6]):\n",
    "    counter += 1\n",
    "if isVowel(word[7]):\n",
    "    counter += 1\n",
    "print(counter)        "
   ]
  },
  {
   "cell_type": "markdown",
   "metadata": {},
   "source": [
    "**Question.** How good is this approach?  Will it work for any word? "
   ]
  },
  {
   "cell_type": "code",
   "execution_count": null,
   "metadata": {},
   "outputs": [],
   "source": [
    "word = 'Banana'     \n",
    "counter = 0\n",
    "if isVowel(word[0]):\n",
    "    counter += 1\n",
    "if isVowel(word[1]):\n",
    "    counter += 1\n",
    "if isVowel(word[2]):\n",
    "    counter += 1\n",
    "if isVowel(word[3]):\n",
    "    counter += 1\n",
    "if isVowel(word[4]):\n",
    "    counter += 1\n",
    "if isVowel(word[5]):\n",
    "    counter += 1\n",
    "if isVowel(word[6]):\n",
    "    counter += 1\n",
    "if isVowel(word[7]):\n",
    "    counter += 1\n",
    "print(counter)   "
   ]
  },
  {
   "cell_type": "markdown",
   "metadata": {},
   "source": [
    "**Takeaway.** Downsides of this approach are many:\n",
    "* Manually checking every character is not generalizable to arbitrary strings\n",
    "* The checks are very repetitive (same for every character in the string):  can we _automate_ these repetitive checks?\n"
   ]
  },
  {
   "cell_type": "markdown",
   "metadata": {},
   "source": [
    "<a id=\"sec3\"></a>"
   ]
  },
  {
   "cell_type": "markdown",
   "metadata": {},
   "source": [
    "## Iteration over Sequences:  `for` loops\n",
    "\n",
    "We can \"iterate\" over the elements of a sequence using a `for` loop.  A loop is a mechanism to repeat the same operations for an entire sequence.\n",
    "\n",
    "\n",
    "### Syntax of `for` loop\n",
    "\n",
    "\n",
    "```for var in seq:```   \n",
    "&nbsp;&nbsp;&nbsp;&nbsp;&nbsp;```do something```\n",
    "\n",
    "\n",
    "`var` above is called the **loop** variable of the `for` loop.  It takes on the value of each of the elements of the sequence one by one."
   ]
  },
  {
   "cell_type": "code",
   "execution_count": null,
   "metadata": {},
   "outputs": [],
   "source": [
    "# simple example of for loop\n",
    "\n",
    "word = \"Williams\"\n",
    "\n",
    "for char in word:\n",
    "    print(char)"
   ]
  },
  {
   "cell_type": "code",
   "execution_count": null,
   "metadata": {},
   "outputs": [],
   "source": [
    "# count length of string manually\n",
    "\n",
    "count = 0 # initialize\n",
    "for char in word:\n",
    "    count += 1\n",
    "print(count)"
   ]
  },
  {
   "cell_type": "markdown",
   "metadata": {},
   "source": [
    "<a id=\"sec4\"></a>"
   ]
  },
  {
   "cell_type": "markdown",
   "metadata": {},
   "source": [
    "## Putting it all Together:  `countVowels`\n",
    "\n",
    "Now, we are ready to implement our function that takes a string as input and returns the number of vowels in it."
   ]
  },
  {
   "cell_type": "code",
   "execution_count": null,
   "metadata": {},
   "outputs": [],
   "source": [
    "def countVowels(word):\n",
    "    '''Takes a string as input and returns \n",
    "    the number of vowels in it'''\n",
    "    \n",
    "    count = 0 # initialize the counter\n",
    "    \n",
    "    # iterate over the word one character at a time\n",
    "    for char in word: \n",
    "        if isVowel(char): # call helper function\n",
    "            count += 1\n",
    "    return count\n"
   ]
  },
  {
   "cell_type": "code",
   "execution_count": null,
   "metadata": {},
   "outputs": [],
   "source": [
    "countVowels('Williams')"
   ]
  },
  {
   "cell_type": "code",
   "execution_count": null,
   "metadata": {},
   "outputs": [],
   "source": [
    "countVowels('Ephelia')"
   ]
  },
  {
   "cell_type": "code",
   "execution_count": null,
   "metadata": {},
   "outputs": [],
   "source": [
    "# countAllVowels()  # give me a word with a lot of vowels"
   ]
  },
  {
   "cell_type": "markdown",
   "metadata": {},
   "source": [
    "**Pythonic looping.** Notice that the `for` loop does not need to know the length of the sequence ahead of time.  This is a bit of Python magic (in other languages such as Java, you do need to know the length of the sequence you are iterating over).  In Python, the `for` loop automatically finishes after the sequence runs out of elements, e.g., `word` runs out of characters, even though we have not computed the length manually.  \n",
    "\n",
    "**Tracing the loop.** To observe how the variables `char` and `count` change state as the loop proceeds, we can add print statements.  "
   ]
  },
  {
   "cell_type": "code",
   "execution_count": null,
   "metadata": {},
   "outputs": [],
   "source": [
    "def traceCountVowels(word):\n",
    "    '''Traces the execution of countAVowels function'''\n",
    "    count = 0 # initialize the counter\n",
    "    for char in word: # iterate over the word one character at a time\n",
    "        print('char, count: ('+ char + ' , ' + str(count) +')')\n",
    "        if isVowel(char):\n",
    "            print('Incrementing counter')\n",
    "            count += 1\n",
    "    return count"
   ]
  },
  {
   "cell_type": "code",
   "execution_count": null,
   "metadata": {},
   "outputs": [],
   "source": [
    "traceCountVowels('Williams')"
   ]
  },
  {
   "cell_type": "code",
   "execution_count": null,
   "metadata": {},
   "outputs": [],
   "source": [
    "traceCountVowels('Queue')"
   ]
  },
  {
   "cell_type": "markdown",
   "metadata": {},
   "source": [
    "**Summary.** As you can see, the loop variable `char` takes the value of every character in the string one by one until the last character.  Inside the loop, we check if `char` is a vowel and if so we increment the counter. "
   ]
  },
  {
   "cell_type": "markdown",
   "metadata": {},
   "source": [
    "##  Exercise: `countChar`\n",
    "\n",
    "Define a function `countChar` that takes two `str` arguments: a character and a word, and returns the number of times that character appears in that word."
   ]
  },
  {
   "cell_type": "code",
   "execution_count": null,
   "metadata": {},
   "outputs": [],
   "source": [
    "def countChar(char, word):\n",
    "    '''Counts the number of times a character appears in a word, ignoring case'''\n",
    "    pass  # command to use when no function body \n",
    "\n"
   ]
  },
  {
   "cell_type": "code",
   "execution_count": null,
   "metadata": {},
   "outputs": [],
   "source": [
    "countChar('a', 'Alabama')"
   ]
  },
  {
   "cell_type": "code",
   "execution_count": null,
   "metadata": {},
   "outputs": [],
   "source": [
    "countChar('E', 'Ephs')"
   ]
  },
  {
   "cell_type": "code",
   "execution_count": null,
   "metadata": {},
   "outputs": [],
   "source": [
    "countChar('o', 'Rhythm')"
   ]
  },
  {
   "cell_type": "markdown",
   "metadata": {},
   "source": [
    "##  Exercise: `vowelSeq`\n",
    "\n",
    "Define a function `vowelSeq` that takes a string word as input and returns a string containing all the vowels in word in the same order as they appear.\n",
    "\n",
    "Example function calls:\n",
    "```\n",
    ">>> vowelSeq(\"Chicago\")\n",
    "'iao'\n",
    ">>> vowelSeq(\"protein\")\n",
    "'oei'\n",
    ">>> vowelSeq(\"rhythm\")\n",
    "''\n",
    "```"
   ]
  },
  {
   "cell_type": "code",
   "execution_count": null,
   "metadata": {},
   "outputs": [],
   "source": [
    "def vowelSeq(word):\n",
    "    '''Returns the vowel subsequence in given word'''\n",
    "    pass  # command to use when no function body \n",
    "\n",
    "\n",
    "\n",
    "\n"
   ]
  },
  {
   "cell_type": "code",
   "execution_count": null,
   "metadata": {},
   "outputs": [],
   "source": [
    "vowelSeq(\"Chicago\")"
   ]
  },
  {
   "cell_type": "code",
   "execution_count": null,
   "metadata": {},
   "outputs": [],
   "source": [
    "vowelSeq(\"protein\")"
   ]
  },
  {
   "cell_type": "code",
   "execution_count": null,
   "metadata": {},
   "outputs": [],
   "source": [
    "vowelSeq(\"rhythm\")"
   ]
  }
 ],
 "metadata": {
  "kernelspec": {
   "display_name": "Python 3 (ipykernel)",
   "language": "python",
   "name": "python3"
  },
  "language_info": {
   "codemirror_mode": {
    "name": "ipython",
    "version": 3
   },
   "file_extension": ".py",
   "mimetype": "text/x-python",
   "name": "python",
   "nbconvert_exporter": "python",
   "pygments_lexer": "ipython3",
   "version": "3.9.7"
  }
 },
 "nbformat": 4,
 "nbformat_minor": 1
}
