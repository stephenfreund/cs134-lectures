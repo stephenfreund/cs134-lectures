{
 "cells": [
  {
   "cell_type": "markdown",
   "metadata": {},
   "source": [
    "## Extra Examples\n"
   ]
  },
  {
   "cell_type": "markdown",
   "metadata": {},
   "source": [
    "We wrote a few helper functions last few lectures, which are now in a module `sequenceTools`\n",
    "\n",
    "* isVowel\n",
    "* countVowels\n",
    "* wordStartEndCount\n",
    "* palindromes\n",
    "\n",
    "We will use them as we work through the examples."
   ]
  },
  {
   "cell_type": "code",
   "execution_count": null,
   "metadata": {},
   "outputs": [],
   "source": [
    "from sequenceTools import *"
   ]
  },
  {
   "cell_type": "markdown",
   "metadata": {},
   "source": [
    "## Exercise:  Vowelacious\n",
    "\n",
    "Sometimes while we are looping through a sequence, we might need to keep track of counts under certain constraints. Understanding how loops, conditionals, and counters interact in such a setting can be challenging.\n",
    "\n",
    "Lets do an exercise: given a word, check if it contains a longest vowel sequence of length 3 or more in it."
   ]
  },
  {
   "cell_type": "code",
   "execution_count": null,
   "metadata": {},
   "outputs": [],
   "source": [
    "def longestVowelSeq(word):\n",
    "    \"\"\"Given a word, returns a string containg the longest vowel consecutive \n",
    "    sequence of vowels in it:  e.g., 'vowelacious' -> 'iou', 'delicious' -> iou,\n",
    "    'sequoia' -> 'uoia', 'rhythm -> ''\n",
    "    \"\"\"\n",
    "    \n",
    "    # longest vowel seq seen so far\n",
    "    maxSoFar = ''\n",
    "    seenSoFar = ''\n",
    "    for char in word:\n",
    "        if isVowel(char):\n",
    "            seenSoFar += char\n",
    "        elif len(maxSoFar) < len(seenSoFar):\n",
    "            maxSoFar = seenSoFar\n",
    "            seenSoFar = ''\n",
    "            \n",
    "    return maxSoFar"
   ]
  },
  {
   "cell_type": "code",
   "execution_count": null,
   "metadata": {},
   "outputs": [],
   "source": [
    "longestVowelSeq('vowelacious')"
   ]
  },
  {
   "cell_type": "code",
   "execution_count": null,
   "metadata": {},
   "outputs": [],
   "source": [
    "def vowelacious(wList, num):\n",
    "    \"\"\"Call a word \"vowelacious\" if it contains at least num consecutive vowels.\n",
    "    Takes a wordList and returns vowelacious words from it\"\"\"\n",
    "    return [word for word in wList if len(longestVowelSeq(word)) > num]\n"
   ]
  },
  {
   "cell_type": "code",
   "execution_count": null,
   "metadata": {},
   "outputs": [],
   "source": [
    "vowelacious(bookWords, 3)"
   ]
  },
  {
   "cell_type": "code",
   "execution_count": null,
   "metadata": {},
   "outputs": [],
   "source": [
    "vowelacious(bookWords, 4)"
   ]
  }
 ],
 "metadata": {
  "kernelspec": {
   "display_name": "Python 3 (ipykernel)",
   "language": "python",
   "name": "python3"
  },
  "language_info": {
   "codemirror_mode": {
    "name": "ipython",
    "version": 3
   },
   "file_extension": ".py",
   "mimetype": "text/x-python",
   "name": "python",
   "nbconvert_exporter": "python",
   "pygments_lexer": "ipython3",
   "version": "3.9.7"
  }
 },
 "nbformat": 4,
 "nbformat_minor": 1
}
