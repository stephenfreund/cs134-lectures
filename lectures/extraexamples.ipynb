{
 "cells": [
  {
   "cell_type": "markdown",
   "metadata": {},
   "source": [
    "## Extra Examples\n"
   ]
  },
  {
   "cell_type": "markdown",
   "metadata": {},
   "source": [
    "We wrote a few helper functions last few lectures, which are now in a module `sequenceTools`\n",
    "\n",
    "* isVowel\n",
    "* countVowels\n",
    "* wordStartEndCount\n",
    "* palindromes\n",
    "\n",
    "We will use them as we work through the examples."
   ]
  },
  {
   "cell_type": "code",
   "execution_count": 8,
   "metadata": {},
   "outputs": [],
   "source": [
    "from sequenceTools import *"
   ]
  },
  {
   "cell_type": "markdown",
   "metadata": {},
   "source": [
    "## Exercise:  Vowelacious\n",
    "\n",
    "Sometimes while we are looping through a sequence, we might need to keep track of counts under certain constraints. Understanding how loops, conditionals, and counters interact in such a setting can be challenging.\n",
    "\n",
    "Lets do an exercise: given a word, check if it contains a longest vowel sequence of length 3 or more in it."
   ]
  },
  {
   "cell_type": "code",
   "execution_count": 33,
   "metadata": {},
   "outputs": [],
   "source": [
    "def longestVowelSeq(word):\n",
    "    \"\"\"Given a word, returns a string containg the longest vowel consecutive \n",
    "    sequence of vowels in it:  e.g., 'vowelacious' -> 'iou', 'delicious' -> iou,\n",
    "    'sequoia' -> 'uoia', 'rhythm -> ''\n",
    "    \"\"\"\n",
    "    \n",
    "    # longest vowel seq seen so far\n",
    "    maxSoFar = ''\n",
    "    seenSoFar = ''\n",
    "    for char in word:\n",
    "        if isVowel(char):\n",
    "            seenSoFar += char\n",
    "        elif len(maxSoFar) < len(seenSoFar):\n",
    "            maxSoFar = seenSoFar\n",
    "            seenSoFar = ''\n",
    "            \n",
    "    return maxSoFar"
   ]
  },
  {
   "cell_type": "code",
   "execution_count": 34,
   "metadata": {},
   "outputs": [
    {
     "data": {
      "text/plain": [
       "'iou'"
      ]
     },
     "execution_count": 34,
     "metadata": {},
     "output_type": "execute_result"
    }
   ],
   "source": [
    "longestVowelSeq('vowelacious')"
   ]
  },
  {
   "cell_type": "code",
   "execution_count": 41,
   "metadata": {},
   "outputs": [],
   "source": [
    "def vowelacious(wList, num):\n",
    "    \"\"\"Call a word \"vowelacious\" if it contains at least num consecutive vowels.\n",
    "    Takes a wordList and returns vowelacious words from it\"\"\"\n",
    "    return [word for word in wList if len(longestVowelSeq(word)) > num]\n"
   ]
  },
  {
   "cell_type": "code",
   "execution_count": 42,
   "metadata": {},
   "outputs": [
    {
     "data": {
      "text/plain": [
       "['neighbourhood',\n",
       " 'neighbourhood',\n",
       " 'neighbourhood',\n",
       " 'ingenious',\n",
       " 'disagreeable',\n",
       " 'disagreeable',\n",
       " 'behaviour',\n",
       " 'fastidious',\n",
       " 'neighbourhood',\n",
       " 'disagreeable',\n",
       " 'behaviour',\n",
       " 'fastidious',\n",
       " 'disagreeable',\n",
       " 'neighbourhood',\n",
       " 'neighbourhood',\n",
       " 'neighbourhood',\n",
       " 'neighbourhood',\n",
       " 'neighbourhood',\n",
       " 'neighbourhoods',\n",
       " 'behaviour',\n",
       " 'behaviour',\n",
       " 'unconsciously',\n",
       " 'propitious',\n",
       " 'behaviour',\n",
       " 'behaviour',\n",
       " 'neighbourhood',\n",
       " 'behaviour',\n",
       " 'obsequiousness',\n",
       " 'reconciliation',\n",
       " 'disagreeable',\n",
       " 'behaviour',\n",
       " 'disagreeable',\n",
       " 'neighbourhood',\n",
       " 'neighbourhood',\n",
       " 'behaviour',\n",
       " 'neighbourhood',\n",
       " 'malicious',\n",
       " 'behaviour',\n",
       " 'behaviour',\n",
       " 'disagreeable',\n",
       " 'unacquainted',\n",
       " 'behaviour',\n",
       " 'behaviour',\n",
       " 'neighbourhood',\n",
       " 'behaviour',\n",
       " 'behaviour',\n",
       " 'assiduous',\n",
       " 'disagreeable',\n",
       " 'suspicious',\n",
       " 'ungracious',\n",
       " 'neighbourhood',\n",
       " 'behaviour',\n",
       " 'behaviour',\n",
       " 'behaviour',\n",
       " 'behaviour',\n",
       " 'vexatious',\n",
       " 'neighbourhood',\n",
       " 'behaviour',\n",
       " 'behaviour',\n",
       " 'neighbourhood',\n",
       " 'neighbourhood',\n",
       " 'neighbourhood',\n",
       " 'prodigious',\n",
       " 'officious',\n",
       " 'unconsciously',\n",
       " 'misrepresentation',\n",
       " 'contemptuously',\n",
       " 'unconsciously',\n",
       " 'behaviour',\n",
       " 'neighbourhood',\n",
       " 'behaviour',\n",
       " 'behaviour',\n",
       " 'disagreeably',\n",
       " 'delicious',\n",
       " 'injurious',\n",
       " 'neighbourhood',\n",
       " 'disagreeable',\n",
       " 'behaviour',\n",
       " 'behaviour',\n",
       " 'behaviour',\n",
       " 'malicious',\n",
       " 'behaviour',\n",
       " 'behaviour',\n",
       " 'neighbourhood',\n",
       " 'behaviour',\n",
       " 'disagreeable',\n",
       " 'behaviour',\n",
       " 'behaviour',\n",
       " 'behaviour',\n",
       " 'behaviour',\n",
       " 'behaviour',\n",
       " 'behaviour',\n",
       " 'impetuous',\n",
       " 'behaviour',\n",
       " 'behaviour',\n",
       " 'disagreeable',\n",
       " 'neighbourhood',\n",
       " 'behaviour',\n",
       " 'behaviour',\n",
       " 'licentiousness',\n",
       " 'behaviour',\n",
       " 'injurious',\n",
       " 'behaviour',\n",
       " 'neighbourhood',\n",
       " 'neighbourhood',\n",
       " 'neighbourhood',\n",
       " 'neighbourhood',\n",
       " 'neighbourhood',\n",
       " 'behaviour',\n",
       " 'behaviour',\n",
       " 'ungracious',\n",
       " 'prodigiously',\n",
       " 'behaviour',\n",
       " 'behaviour',\n",
       " 'neighbourhood',\n",
       " 'officious',\n",
       " 'vexatious',\n",
       " 'behaviour',\n",
       " 'behaviour',\n",
       " 'behaviour',\n",
       " 'ungraciousness',\n",
       " 'prodigiously',\n",
       " 'behaviour',\n",
       " 'officiousness',\n",
       " 'ingenious',\n",
       " 'ungracious',\n",
       " 'disagreeable',\n",
       " 'industriously',\n",
       " 'behaviour',\n",
       " 'prodigiously',\n",
       " 'illustrious',\n",
       " 'behaviour',\n",
       " 'disagreeable',\n",
       " 'disagreeable',\n",
       " 'behaviour',\n",
       " 'behaviour',\n",
       " 'officious',\n",
       " 'assiduously',\n",
       " 'behaviour',\n",
       " 'obsequious',\n",
       " 'reconciliation']"
      ]
     },
     "execution_count": 42,
     "metadata": {},
     "output_type": "execute_result"
    }
   ],
   "source": [
    "vowelacious(bookWords, 3)"
   ]
  },
  {
   "cell_type": "code",
   "execution_count": 43,
   "metadata": {},
   "outputs": [
    {
     "data": {
      "text/plain": [
       "['obsequiousness', 'obsequious']"
      ]
     },
     "execution_count": 43,
     "metadata": {},
     "output_type": "execute_result"
    }
   ],
   "source": [
    "vowelacious(bookWords, 4)"
   ]
  }
 ],
 "metadata": {
  "kernelspec": {
   "display_name": "Python 3 (ipykernel)",
   "language": "python",
   "name": "python3"
  },
  "language_info": {
   "codemirror_mode": {
    "name": "ipython",
    "version": 3
   },
   "file_extension": ".py",
   "mimetype": "text/x-python",
   "name": "python",
   "nbconvert_exporter": "python",
   "pygments_lexer": "ipython3",
   "version": "3.9.7"
  }
 },
 "nbformat": 4,
 "nbformat_minor": 1
}
