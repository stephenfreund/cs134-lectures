{
 "cells": [
  {
   "cell_type": "markdown",
   "metadata": {},
   "source": [
    "# Lecture 10: Files & List Comprehensions\n",
    "\n",
    "### Jeannie Albrecht and Shikha Singh\n",
    "\n",
    "In the last lecture, we introduced file reading using the `with as` block.  Today, we will focus on reading CSV files, storing the data as list of lists, and analyzing it to compute important properties."
   ]
  },
  {
   "cell_type": "markdown",
   "metadata": {},
   "source": [
    "We wrote a few helper functions last few lectures, which are now in a module `sequenceTools`\n",
    "\n",
    "* isVowel\n",
    "* countVowels\n",
    "* wordStartEnd\n",
    "* palindromes\n",
    "\n",
    "We will use them as we work through the examples."
   ]
  },
  {
   "cell_type": "code",
   "execution_count": null,
   "metadata": {},
   "outputs": [],
   "source": [
    "from sequenceTools import *"
   ]
  },
  {
   "cell_type": "markdown",
   "metadata": {},
   "source": [
    "### CSV Files\n",
    "\n",
    "A CSV (Comma Separated Values) file is a type of plain text file that stores `tabular` data.  Each row of a table is a line in the text file, with each column on the row separated by commas.  This format is the most common import and export format for spreadsheets and databases.  \n",
    "\n",
    "\n",
    "For example a simple table such as the following with columns names and ages would be represented in a CSV as:\n",
    "\n",
    "Table:\n",
    "\n",
    "| Name     | Age  |\n",
    "|:----------|:------|\n",
    "| Harry    |  14  |\n",
    "| Hermoine |  14 | \n",
    "| Dumbledore| 60  |\n",
    "\n",
    "CSV:\n",
    "\n",
    "Name,Age  \n",
    "Harry,14  \n",
    "Hermoine,14  \n",
    "Dumbledore,60  \n",
    "\n",
    "We can handle csv files similar to text files and use string/list methods to process the tabular data."
   ]
  },
  {
   "cell_type": "code",
   "execution_count": null,
   "metadata": {},
   "outputs": [],
   "source": [
    "filename = 'csv/roster02.csv' # 9 am section\n",
    "allStudents = []\n",
    "with open(filename) as roster:\n",
    "    for student in roster:\n",
    "        studentInfo = student.strip().split(',')\n",
    "        allStudents.append(studentInfo)\n",
    "allStudents"
   ]
  },
  {
   "cell_type": "code",
   "execution_count": null,
   "metadata": {},
   "outputs": [],
   "source": [
    "filename = 'csv/roster01.csv' # 10 am section\n",
    "allStudents = []\n",
    "with open(filename) as roster:\n",
    "    for student in roster:\n",
    "        studentInfo = student.strip().split(',')\n",
    "        allStudents.append(studentInfo)\n",
    "allStudents"
   ]
  },
  {
   "cell_type": "code",
   "execution_count": null,
   "metadata": {},
   "outputs": [],
   "source": [
    "# list comprehension version\n",
    "with open(filename) as roster:\n",
    "    allStudents = [line.strip().split(',') for line in roster]"
   ]
  },
  {
   "cell_type": "code",
   "execution_count": null,
   "metadata": {},
   "outputs": [],
   "source": [
    "allStudents # list of lists"
   ]
  },
  {
   "cell_type": "code",
   "execution_count": null,
   "metadata": {},
   "outputs": [],
   "source": [
    "size = len(allStudents) # number of students in class\n",
    "size"
   ]
  },
  {
   "cell_type": "markdown",
   "metadata": {},
   "source": [
    "## Indexing Lists of Lists\n",
    "\n",
    "We can treat list of lists just like we would list of any other sequence (e.g. strings).  \n",
    "\n",
    "To index an element of an inner list (student info), we'd need two indices:\n",
    " - first index identifies which list we want, and \n",
    " - second index identifies which element within that list.\n",
    "\n",
    "**Generating random indices.** We will generate random numbers between `0` and `size` and index our list with that number to see whose name comes up."
   ]
  },
  {
   "cell_type": "code",
   "execution_count": null,
   "metadata": {},
   "outputs": [],
   "source": [
    "import random # import module to help generate random numbers\n",
    "randNum = random.randint(0, size)  \n",
    "# generates a random integer between 0 and size\n",
    "\n",
    "allStudents[randNum]"
   ]
  },
  {
   "cell_type": "code",
   "execution_count": null,
   "metadata": {},
   "outputs": [],
   "source": [
    "allStudents[randNum][1] # how do I access the first element of the list at random index?"
   ]
  },
  {
   "cell_type": "code",
   "execution_count": null,
   "metadata": {},
   "outputs": [],
   "source": [
    "allStudents[random.randint(0,size)][1]   \n",
    "# Accessing just a random first name, returns a string"
   ]
  },
  {
   "cell_type": "markdown",
   "metadata": {},
   "source": [
    "**List Comprehension to create a list of Last Names.** How can we create a list of all students' last names?"
   ]
  },
  {
   "cell_type": "code",
   "execution_count": null,
   "metadata": {},
   "outputs": [],
   "source": [
    "lastNames = [s[0] for s in allStudents]\n",
    "#lastNames"
   ]
  },
  {
   "cell_type": "code",
   "execution_count": null,
   "metadata": {},
   "outputs": [],
   "source": [
    "# List comprehension to generate a list of first names (without middle initial)\n",
    "firstNames = [s[1].split()[0] for s in allStudents]\n",
    "firstNames"
   ]
  },
  {
   "cell_type": "markdown",
   "metadata": {},
   "source": [
    "### Exercise:  Number of Students by Year\n",
    "\n",
    "Let's get to know our class better!  We will write a function `yearList` which takes in two arguments `rosterList` (list of lists) and `year` (int) and returns the list of students in the class with that graduating year.\n",
    " \n",
    "\n"
   ]
  },
  {
   "cell_type": "code",
   "execution_count": null,
   "metadata": {},
   "outputs": [],
   "source": [
    "def yearList(rosterList, year):\n",
    "    \"\"\"Takes the student info as a list of lists and a year (22-25)\n",
    "    and returns a list of students graduating that year\"\"\"\n",
    "    \n",
    "    pass"
   ]
  },
  {
   "cell_type": "code",
   "execution_count": null,
   "metadata": {},
   "outputs": [],
   "source": [
    "def yearList(rosterList, year):\n",
    "    \"\"\"Takes the student info as a list of lists and a year (22-25)\n",
    "    and returns a list of students graduating that year\"\"\"\n",
    "    \n",
    "    return [s[1] for s in allStudents if s[-1][:2] == str(year)]"
   ]
  },
  {
   "cell_type": "code",
   "execution_count": null,
   "metadata": {},
   "outputs": [],
   "source": [
    "yearList(allStudents, 22) # seniors?"
   ]
  },
  {
   "cell_type": "code",
   "execution_count": null,
   "metadata": {},
   "outputs": [],
   "source": [
    "yearList(allStudents, 23) # juniors?"
   ]
  },
  {
   "cell_type": "code",
   "execution_count": null,
   "metadata": {},
   "outputs": [],
   "source": [
    "yearList(allStudents, 24) # sophmores?"
   ]
  },
  {
   "cell_type": "code",
   "execution_count": null,
   "metadata": {},
   "outputs": [],
   "source": [
    "len(yearList(allStudents, 25)) # first years?"
   ]
  },
  {
   "cell_type": "markdown",
   "metadata": {},
   "source": [
    "## Exercise:  Most Vowels \n",
    "\n",
    "**Student Fun Facts.** Which student in the class has the most number of vowels in their name?!  "
   ]
  },
  {
   "cell_type": "code",
   "execution_count": null,
   "metadata": {},
   "outputs": [],
   "source": [
    "def mostVowels(wordList):\n",
    "    '''Takes a list of strings wordList and returns a list\n",
    "    of strings in wordList that contain the most number of vowels'''\n",
    "    \n",
    "    pass"
   ]
  },
  {
   "cell_type": "code",
   "execution_count": null,
   "metadata": {},
   "outputs": [],
   "source": [
    "def mostVowels(wordList):\n",
    "    '''Takes a list of strings wordList and returns a list\n",
    "    of strings from wordList that contain the most # vowels'''\n",
    "    \n",
    "    maxSoFar = 0 # initialize counter\n",
    "    result = []\n",
    "    for word in wordList:\n",
    "        count = countVowels(word)\n",
    "        if count > maxSoFar:\n",
    "            # update: found a better word\n",
    "            maxSoFar = count\n",
    "            result = [word] \n",
    "        # why do we need this?\n",
    "        elif count == maxSoFar:  \n",
    "            result.append(word)\n",
    "    return result"
   ]
  },
  {
   "cell_type": "code",
   "execution_count": null,
   "metadata": {},
   "outputs": [],
   "source": [
    "mostVowels(firstNames)  # which student has most vowels in their name?"
   ]
  },
  {
   "cell_type": "markdown",
   "metadata": {},
   "source": [
    "### Most Vowels in Words in Book\n",
    "\n",
    "We can use our helper function to find out which word(s) have the most number of vowels in other word lists, too. "
   ]
  },
  {
   "cell_type": "code",
   "execution_count": null,
   "metadata": {},
   "outputs": [],
   "source": [
    "bookWords = []\n",
    "with open('textfiles/prideandprejudice.txt') as book:  \n",
    "    for line in book:\n",
    "        bookWords.extend(line.strip().split())\n",
    "\n",
    "mostVowels(bookWords)"
   ]
  },
  {
   "cell_type": "markdown",
   "metadata": {},
   "source": [
    "## Writing to Files\n",
    "\n",
    "We can write all the results that we are computing into a file (a persistent structure).  To open a file for writing, we use `open` with the mode 'w'. \n",
    "\n",
    "The following code will create a new file named `studentFacts.txt` in the current working directory and write in it results of our function calls."
   ]
  },
  {
   "cell_type": "code",
   "execution_count": null,
   "metadata": {},
   "outputs": [],
   "source": [
    "fYears = len(yearList(allStudents, 25))\n",
    "sophYears = len(yearList(allStudents, 24))\n",
    "jYears = len(yearList(allStudents, 23))\n",
    "sYears = len(yearList(allStudents, 22))\n",
    "mostVowelNames = ', '.join(mostVowels(firstNames))\n",
    "with open('studentFacts.txt', 'w') as sFile:\n",
    "    sFile.write('Fun facts about CS134 students:\\n')# need newlines\n",
    "    sFile.write('Students with most vowels in their name: {}.\\n'.format(mostVowelNames))\n",
    "    sFile.write('No. of first years in CS134: {}.\\n'.format(fYears))\n",
    "    sFile.write('No. of sophmores in CS134: {}.\\n'.format(sophYears))\n",
    "    sFile.write('No. of juniors in CS134: {}\\n'.format(jYears))\n",
    "    sFile.write('No. of seniors in CS134: {}\\n'.format(sYears))"
   ]
  },
  {
   "cell_type": "markdown",
   "metadata": {},
   "source": [
    "We can use `ls -l` to see that a new file `studentFacts.txt` has been created:"
   ]
  },
  {
   "cell_type": "code",
   "execution_count": null,
   "metadata": {},
   "outputs": [],
   "source": [
    "ls -l"
   ]
  },
  {
   "cell_type": "markdown",
   "metadata": {},
   "source": [
    "Use the OS command `more` to view the contents of the file:"
   ]
  },
  {
   "cell_type": "code",
   "execution_count": null,
   "metadata": {},
   "outputs": [],
   "source": [
    "cat studentFacts.txt"
   ]
  },
  {
   "cell_type": "markdown",
   "metadata": {},
   "source": [
    "## Appending to Files\n",
    "\n",
    "If a file already has something in it, opening it in `w` mode again will erase all its past contents.  If we need to append something to a file, we open it in append `a` model. '\n",
    "\n",
    "For example, let us append a sentence to `studentFacts.txt`."
   ]
  },
  {
   "cell_type": "code",
   "execution_count": null,
   "metadata": {},
   "outputs": [],
   "source": [
    "with open('studentFacts.txt', 'a') as sFile:\n",
    "    sFile.write('Goodbye.\\n')"
   ]
  },
  {
   "cell_type": "code",
   "execution_count": null,
   "metadata": {},
   "outputs": [],
   "source": [
    "cat studentFacts.txt "
   ]
  },
  {
   "cell_type": "markdown",
   "metadata": {},
   "source": [
    "## List Methods:  Do not change the List\n",
    "\n",
    "We have seen several list methods already.  \n",
    "\n",
    "Here we summarize the list methods that do not modify the list, and others that do modify the list they are called on.\n",
    "\n",
    "Useful methods that **do not modify the list** they are called on:\n",
    "   * `.count()`\n",
    "   * `.index()`\n",
    "   \n",
    "The descriptions of these are in the lecture slides.  Examples below.\n",
    "   "
   ]
  },
  {
   "cell_type": "code",
   "execution_count": null,
   "metadata": {},
   "outputs": [],
   "source": [
    "myList = list(\"Hello World!\")\n",
    "\n",
    "myList.index('l') # gives first index "
   ]
  },
  {
   "cell_type": "code",
   "execution_count": null,
   "metadata": {},
   "outputs": [],
   "source": [
    "myList.index('z')  # gives error if item not present"
   ]
  },
  {
   "cell_type": "code",
   "execution_count": null,
   "metadata": {},
   "outputs": [],
   "source": [
    "newList = ['a', 'a', 'a', 'a', 'b', 'b', 'c', 'c']\n",
    "newList.count('a')"
   ]
  },
  {
   "cell_type": "code",
   "execution_count": null,
   "metadata": {},
   "outputs": [],
   "source": [
    "newList.count('z')"
   ]
  },
  {
   "cell_type": "markdown",
   "metadata": {},
   "source": [
    "## List Methods:  Modify the List\n",
    "\n",
    "Unlike integers, strings, floats, which are immutable, lists are a mutable objects and can be changed in place. \n",
    "\n",
    "This has several implications which we will discuss in this and coming lectures.\n",
    "\n",
    "Useful methods that **do modify the list** they are called on:\n",
    "   * `.append()`\n",
    "   * `.extend()`\n",
    "   * `.insert()`\n",
    "   * `.remove()`\n",
    "   * `.pop()`   \n",
    "   \n",
    "Other ways to modify a list in place:\n",
    "  * direct assignment to a list element\n",
    "  * sorting a list in place using `.sort()`\n",
    "\n",
    "Let us work through these with examples. "
   ]
  },
  {
   "cell_type": "code",
   "execution_count": null,
   "metadata": {},
   "outputs": [],
   "source": [
    "myList = [1, 2, 3, 4]  # fresh assignment: creates a new list wiht the name myList"
   ]
  },
  {
   "cell_type": "code",
   "execution_count": null,
   "metadata": {},
   "outputs": [],
   "source": [
    "myList[1] = 7   # changing the value by direct assignment"
   ]
  },
  {
   "cell_type": "code",
   "execution_count": null,
   "metadata": {},
   "outputs": [],
   "source": [
    "myList.append(5)  # appending an item at the end\n",
    "myList"
   ]
  },
  {
   "cell_type": "code",
   "execution_count": null,
   "metadata": {},
   "outputs": [],
   "source": [
    "myList.extend([6, 8])  # extend method lets you append multiple items\n",
    "\n",
    "myList "
   ]
  },
  {
   "cell_type": "code",
   "execution_count": null,
   "metadata": {},
   "outputs": [],
   "source": [
    "myList"
   ]
  },
  {
   "cell_type": "code",
   "execution_count": null,
   "metadata": {},
   "outputs": [],
   "source": [
    "myList.pop(3)  # removes the item at index 3 and returns it"
   ]
  },
  {
   "cell_type": "code",
   "execution_count": null,
   "metadata": {},
   "outputs": [],
   "source": [
    "myList"
   ]
  },
  {
   "cell_type": "code",
   "execution_count": null,
   "metadata": {},
   "outputs": [],
   "source": [
    "myList.pop() # remove the last item and returns it"
   ]
  },
  {
   "cell_type": "code",
   "execution_count": null,
   "metadata": {},
   "outputs": [],
   "source": [
    "myList"
   ]
  },
  {
   "cell_type": "code",
   "execution_count": null,
   "metadata": {},
   "outputs": [],
   "source": [
    "myList.insert(0, 11)  # insert 11 at index 0, shift everything over"
   ]
  },
  {
   "cell_type": "code",
   "execution_count": null,
   "metadata": {},
   "outputs": [],
   "source": [
    "myList"
   ]
  },
  {
   "cell_type": "code",
   "execution_count": null,
   "metadata": {},
   "outputs": [],
   "source": [
    "myList.remove(5)   # remove(item) removes the item from the list"
   ]
  },
  {
   "cell_type": "code",
   "execution_count": null,
   "metadata": {},
   "outputs": [],
   "source": [
    "myList"
   ]
  },
  {
   "cell_type": "code",
   "execution_count": null,
   "metadata": {},
   "outputs": [],
   "source": [
    "myList.remove(13) # gives a value error"
   ]
  },
  {
   "cell_type": "code",
   "execution_count": null,
   "metadata": {},
   "outputs": [],
   "source": [
    "myList.sort()\n",
    "myList"
   ]
  },
  {
   "cell_type": "markdown",
   "metadata": {},
   "source": [
    "## Sort vs Sorted\n",
    "\n",
    "\n",
    "* `.sort()` method is only for lists and sorts by mutating the list in place \n",
    "* Python provides a built in function `sorted` that can be used to sort any sequence (strings, lists, tuples).  It returns a new sorted sequence, and does NOT modify the original sequence"
   ]
  },
  {
   "cell_type": "code",
   "execution_count": null,
   "metadata": {},
   "outputs": [],
   "source": [
    "list1 = [6, 3, 4];  list2 = [6, 3, 4]"
   ]
  },
  {
   "cell_type": "code",
   "execution_count": null,
   "metadata": {},
   "outputs": [],
   "source": [
    "list1.sort() # sort by mutating list1"
   ]
  },
  {
   "cell_type": "code",
   "execution_count": null,
   "metadata": {},
   "outputs": [],
   "source": [
    "sorted(list2) # returns a new sorted list"
   ]
  },
  {
   "cell_type": "code",
   "execution_count": null,
   "metadata": {},
   "outputs": [],
   "source": [
    "print(list1, list2)"
   ]
  },
  {
   "cell_type": "markdown",
   "metadata": {},
   "source": [
    "## Aside: Sorting Strings\n",
    "\n",
    "Can also sort strings (alphabetically) using `sorted` function.  Notice that the function still returns a `list`, not a `string`.\n"
   ]
  },
  {
   "cell_type": "code",
   "execution_count": null,
   "metadata": {},
   "outputs": [],
   "source": [
    "sorted('shikha')"
   ]
  },
  {
   "cell_type": "code",
   "execution_count": null,
   "metadata": {},
   "outputs": [],
   "source": [
    "sorted('jeannie')"
   ]
  },
  {
   "cell_type": "code",
   "execution_count": null,
   "metadata": {},
   "outputs": [],
   "source": [
    "sorted('Hello World')"
   ]
  },
  {
   "cell_type": "code",
   "execution_count": null,
   "metadata": {},
   "outputs": [],
   "source": [
    "sorted('aaAAbbBBccCCddDD')"
   ]
  },
  {
   "cell_type": "markdown",
   "metadata": {},
   "source": [
    "### Aside: Sorted by ASCII values\n",
    "\n",
    "Notice that capital letters come before lower case in default sorting.  Similarly, special characters come before either.  These ordering are decided by the ASCII values of the symbols.\n",
    "\n",
    "The built-in functions `ord` and `chr` let us access the ASCII value of characters and vice versa."
   ]
  },
  {
   "cell_type": "code",
   "execution_count": null,
   "metadata": {},
   "outputs": [],
   "source": [
    "ord('A')"
   ]
  },
  {
   "cell_type": "code",
   "execution_count": null,
   "metadata": {},
   "outputs": [],
   "source": [
    "ord('Z')"
   ]
  },
  {
   "cell_type": "code",
   "execution_count": null,
   "metadata": {},
   "outputs": [],
   "source": [
    "ord('a')"
   ]
  },
  {
   "cell_type": "code",
   "execution_count": null,
   "metadata": {},
   "outputs": [],
   "source": [
    "ord('z')"
   ]
  },
  {
   "cell_type": "code",
   "execution_count": null,
   "metadata": {},
   "outputs": [],
   "source": [
    "chr(111)"
   ]
  },
  {
   "cell_type": "code",
   "execution_count": null,
   "metadata": {},
   "outputs": [],
   "source": [
    "chr(33)"
   ]
  }
 ],
 "metadata": {
  "kernelspec": {
   "display_name": "Python 3 (ipykernel)",
   "language": "python",
   "name": "python3"
  },
  "language_info": {
   "codemirror_mode": {
    "name": "ipython",
    "version": 3
   },
   "file_extension": ".py",
   "mimetype": "text/x-python",
   "name": "python",
   "nbconvert_exporter": "python",
   "pygments_lexer": "ipython3",
   "version": "3.9.7"
  }
 },
 "nbformat": 4,
 "nbformat_minor": 1
}
