{
 "cells": [
  {
   "cell_type": "markdown",
   "metadata": {},
   "source": [
    "# Lecture 10: Files & List Comprehensions\n",
    "\n",
    "### Jeannie Albrecht and Shikha Singh\n",
    "\n",
    "In the last lecture, we introduced file reading using the `with as` block.  Today, we will focus on reading CSV files, storing the data as list of lists, and analyzing it to compute important properties."
   ]
  },
  {
   "cell_type": "markdown",
   "metadata": {},
   "source": [
    "We wrote a few helper functions last few lectures, which are now in a module `sequenceTools`\n",
    "\n",
    "* isVowel\n",
    "* countVowels\n",
    "* wordStartEnd\n",
    "* palindromes\n",
    "\n",
    "We will use them as we work through the examples."
   ]
  },
  {
   "cell_type": "code",
   "execution_count": 27,
   "metadata": {},
   "outputs": [],
   "source": [
    "from sequenceTools import *"
   ]
  },
  {
   "cell_type": "markdown",
   "metadata": {},
   "source": [
    "### CSV Files\n",
    "\n",
    "A CSV (Comma Separated Values) file is a type of plain text file that stores `tabular` data.  Each row of a table is a line in the text file, with each column on the row separated by commas.  This format is the most common import and export format for spreadsheets and databases.  \n",
    "\n",
    "\n",
    "For example a simple table such as the following with columns names and ages would be represented in a CSV as:\n",
    "\n",
    "Table:\n",
    "\n",
    "| Name     | Age  |\n",
    "|:----------|:------|\n",
    "| Harry    |  14  |\n",
    "| Hermoine |  14 | \n",
    "| Dumbledore| 60  |\n",
    "\n",
    "CSV:\n",
    "\n",
    "Name,Age  \n",
    "Harry,14  \n",
    "Hermoine,14  \n",
    "Dumbledore,60  \n",
    "\n",
    "We can handle csv files similar to text files and use string/list methods to process the tabular data."
   ]
  },
  {
   "cell_type": "code",
   "execution_count": 36,
   "metadata": {
    "scrolled": true
   },
   "outputs": [
    {
     "data": {
      "text/plain": [
       "[['Appiah', 'Tazmin', '25AAA'],\n",
       " ['Bliven', 'Jocelyn M.', '25AAA'],\n",
       " ['Brockman', 'Annika M.', '24AAA'],\n",
       " ['Byun', 'Justin', '24AAA'],\n",
       " ['Cao', 'Yaoyue', '23AAA'],\n",
       " ['Casenave Barranguet', 'Lola', '25AAA'],\n",
       " ['Catlin', 'Tucker R.', '24AAA'],\n",
       " ['Chong', 'Andrew H.', '25AAA'],\n",
       " ['Coady', 'Tendai T.', '25AAA'],\n",
       " ['Cueto', 'Trishia', '24AAA'],\n",
       " ['Dabinett', 'Olivia A.', '25AAA'],\n",
       " ['Dohr', 'Peter R.', '25AAA'],\n",
       " ['Garrity-Rokous', 'Eamon', '25AAA'],\n",
       " ['George', 'Tyler J.', '25AAA'],\n",
       " ['Guzman Vazquez', 'Jose', '24AAA'],\n",
       " ['Hidalgo', 'Emily C.', '25AAA'],\n",
       " ['Horvat', 'Aleksander', '24AAA'],\n",
       " ['Jaroker', 'Brenda', '25AAA'],\n",
       " ['Jeon', 'Ethan', '24AAA'],\n",
       " ['Kang', 'Jeeyon', '25AAA'],\n",
       " ['Kucharski', 'Connor J.', '23AAA'],\n",
       " ['Laalai', 'Elyes', '25AAA'],\n",
       " ['Laws', 'Matt D.', '25AAA'],\n",
       " ['Lee', 'Jack J.', '25AAA'],\n",
       " ['Li', 'Jimmy C.', '24AAA'],\n",
       " ['Ohl', 'Madeline A.', '23AAA'],\n",
       " ['Patrick', 'Jonathan C.', '24AAA'],\n",
       " ['Pham', 'Aiden', '24AAA'],\n",
       " ['Pham', 'True L.', '23AAL'],\n",
       " ['Phan', 'Sam M.', '24AAA'],\n",
       " ['Quasney', 'Ari J.', '25AAA'],\n",
       " ['Ren', 'Jianing', '23AAA'],\n",
       " ['Sasaki', 'Sammy W.', '24AAA'],\n",
       " ['Song', 'Will B.', '24AAA'],\n",
       " ['Venci', 'Charlie P.', '25AAA'],\n",
       " ['Widman', 'Sylvana L.', '25AAA']]"
      ]
     },
     "execution_count": 36,
     "metadata": {},
     "output_type": "execute_result"
    }
   ],
   "source": [
    "filename = 'csv/roster02.csv' # 9 am section\n",
    "allStudents = []\n",
    "with open(filename) as roster:\n",
    "    for student in roster:\n",
    "        studentInfo = student.strip().split(',')\n",
    "        allStudents.append(studentInfo)\n",
    "allStudents"
   ]
  },
  {
   "cell_type": "code",
   "execution_count": 29,
   "metadata": {},
   "outputs": [
    {
     "data": {
      "text/plain": [
       "[['Albright', 'Nicole M.', '25AAA'],\n",
       " ['Bah', 'Maymouna', '25AAA'],\n",
       " ['Bathum', 'Blake C.', '24AAA'],\n",
       " ['Breibart', 'Jonathan S.', '24AAA'],\n",
       " ['Cardonick', 'Alex M.', '23AAA'],\n",
       " ['Chai', 'Rachel H.', '25AAA'],\n",
       " ['Collier', 'Grace S.', '25AAA'],\n",
       " ['Confoy', 'Will', '24AAA'],\n",
       " ['Constanza', 'Ruben E.', '23AAA'],\n",
       " ['Fang', 'Bruce', '25AAA'],\n",
       " ['Galvez-Cepeda', 'Daniela', '24AAA'],\n",
       " ['Gashi', 'Anesa', '25AAA'],\n",
       " ['Giove', 'Michael J.', '24AAA'],\n",
       " ['Goldstein', 'Maya R.', '25AAA'],\n",
       " ['Hellerman', 'Francesca G.', '23AAA'],\n",
       " ['Hollings', 'Nick M.', '24AAA'],\n",
       " ['Hussain', 'Ahmed', '25AAA'],\n",
       " ['Ichioka', 'Hugo', '24AAA'],\n",
       " ['Jing', 'Shangbo', '24AAA'],\n",
       " ['Kandel', 'Matt B.', '25AAA'],\n",
       " ['Kanganis', 'Alisa B.', '25AAA'],\n",
       " ['Kim', 'Yuchan', '24AAA'],\n",
       " ['Kirby', 'Nathaniel J.', '24AAA'],\n",
       " ['Lam', 'Amy', '22AAA'],\n",
       " ['Lee', 'Junhee', '24AAA'],\n",
       " ['Meyer', 'Locke A.', '25AAA'],\n",
       " ['Moin', 'Zayneb', '25AAA'],\n",
       " ['Morales', 'Gerardo', '24AAA'],\n",
       " ['Ocelli', 'Ina', '25AAA'],\n",
       " ['Saha', 'Mahesh', '22AAA'],\n",
       " ['Segel', 'Xavi', '23AAA'],\n",
       " ['Shea', 'Billy', '22AAA'],\n",
       " ['Sikes', 'Dover J.', '24AAA'],\n",
       " ['Skiera', 'Nick', '24AAA'],\n",
       " ['Sobhani', 'Ella S.', '25AAA'],\n",
       " ['Steele', 'Thandi', '22AAA'],\n",
       " ['Tobin', 'Jonah L.', '23AAA'],\n",
       " ['Wang', 'David', '25AAA']]"
      ]
     },
     "execution_count": 29,
     "metadata": {},
     "output_type": "execute_result"
    }
   ],
   "source": [
    "filename = 'csv/roster01.csv' # 10 am section\n",
    "allStudents = []\n",
    "with open(filename) as roster:\n",
    "    for student in roster:\n",
    "        studentInfo = student.strip().split(',')\n",
    "        allStudents.append(studentInfo)\n",
    "allStudents"
   ]
  },
  {
   "cell_type": "code",
   "execution_count": 37,
   "metadata": {},
   "outputs": [],
   "source": [
    "# list comprehension version\n",
    "with open(filename) as roster:\n",
    "    allStudents = [line.strip().split(',') for line in roster]"
   ]
  },
  {
   "cell_type": "code",
   "execution_count": 38,
   "metadata": {},
   "outputs": [
    {
     "data": {
      "text/plain": [
       "[['Appiah', 'Tazmin', '25AAA'],\n",
       " ['Bliven', 'Jocelyn M.', '25AAA'],\n",
       " ['Brockman', 'Annika M.', '24AAA'],\n",
       " ['Byun', 'Justin', '24AAA'],\n",
       " ['Cao', 'Yaoyue', '23AAA'],\n",
       " ['Casenave Barranguet', 'Lola', '25AAA'],\n",
       " ['Catlin', 'Tucker R.', '24AAA'],\n",
       " ['Chong', 'Andrew H.', '25AAA'],\n",
       " ['Coady', 'Tendai T.', '25AAA'],\n",
       " ['Cueto', 'Trishia', '24AAA'],\n",
       " ['Dabinett', 'Olivia A.', '25AAA'],\n",
       " ['Dohr', 'Peter R.', '25AAA'],\n",
       " ['Garrity-Rokous', 'Eamon', '25AAA'],\n",
       " ['George', 'Tyler J.', '25AAA'],\n",
       " ['Guzman Vazquez', 'Jose', '24AAA'],\n",
       " ['Hidalgo', 'Emily C.', '25AAA'],\n",
       " ['Horvat', 'Aleksander', '24AAA'],\n",
       " ['Jaroker', 'Brenda', '25AAA'],\n",
       " ['Jeon', 'Ethan', '24AAA'],\n",
       " ['Kang', 'Jeeyon', '25AAA'],\n",
       " ['Kucharski', 'Connor J.', '23AAA'],\n",
       " ['Laalai', 'Elyes', '25AAA'],\n",
       " ['Laws', 'Matt D.', '25AAA'],\n",
       " ['Lee', 'Jack J.', '25AAA'],\n",
       " ['Li', 'Jimmy C.', '24AAA'],\n",
       " ['Ohl', 'Madeline A.', '23AAA'],\n",
       " ['Patrick', 'Jonathan C.', '24AAA'],\n",
       " ['Pham', 'Aiden', '24AAA'],\n",
       " ['Pham', 'True L.', '23AAL'],\n",
       " ['Phan', 'Sam M.', '24AAA'],\n",
       " ['Quasney', 'Ari J.', '25AAA'],\n",
       " ['Ren', 'Jianing', '23AAA'],\n",
       " ['Sasaki', 'Sammy W.', '24AAA'],\n",
       " ['Song', 'Will B.', '24AAA'],\n",
       " ['Venci', 'Charlie P.', '25AAA'],\n",
       " ['Widman', 'Sylvana L.', '25AAA']]"
      ]
     },
     "execution_count": 38,
     "metadata": {},
     "output_type": "execute_result"
    }
   ],
   "source": [
    "allStudents # list of lists"
   ]
  },
  {
   "cell_type": "code",
   "execution_count": 39,
   "metadata": {
    "scrolled": true
   },
   "outputs": [
    {
     "data": {
      "text/plain": [
       "36"
      ]
     },
     "execution_count": 39,
     "metadata": {},
     "output_type": "execute_result"
    }
   ],
   "source": [
    "size = len(allStudents) # number of students in class\n",
    "size"
   ]
  },
  {
   "cell_type": "markdown",
   "metadata": {},
   "source": [
    "## Indexing Lists of Lists\n",
    "\n",
    "We can treat list of lists just like we would list of any other sequence (e.g. strings).  \n",
    "\n",
    "To index an element of an inner list (student info), we'd need two indices:\n",
    " - first index identifies which list we want, and \n",
    " - second index identifies which element within that list.\n",
    "\n",
    "**Generating random indices.** We will generate random numbers between `0` and `size` and index our list with that number to see whose name comes up."
   ]
  },
  {
   "cell_type": "code",
   "execution_count": 40,
   "metadata": {},
   "outputs": [
    {
     "data": {
      "text/plain": [
       "['Garrity-Rokous', 'Eamon', '25AAA']"
      ]
     },
     "execution_count": 40,
     "metadata": {},
     "output_type": "execute_result"
    }
   ],
   "source": [
    "import random # import module to help generate random numbers\n",
    "randNum = random.randint(0, size)  \n",
    "# generates a random integer between 0 and size\n",
    "\n",
    "allStudents[randNum]"
   ]
  },
  {
   "cell_type": "code",
   "execution_count": 41,
   "metadata": {},
   "outputs": [
    {
     "data": {
      "text/plain": [
       "'Eamon'"
      ]
     },
     "execution_count": 41,
     "metadata": {},
     "output_type": "execute_result"
    }
   ],
   "source": [
    "allStudents[randNum][1] # how do I access the first element of the list at random index?"
   ]
  },
  {
   "cell_type": "code",
   "execution_count": 42,
   "metadata": {},
   "outputs": [
    {
     "data": {
      "text/plain": [
       "'Will B.'"
      ]
     },
     "execution_count": 42,
     "metadata": {},
     "output_type": "execute_result"
    }
   ],
   "source": [
    "allStudents[random.randint(0,size)][1]   \n",
    "# Accessing just a random first name, returns a string"
   ]
  },
  {
   "cell_type": "markdown",
   "metadata": {},
   "source": [
    "**List Comprehension to create a list of Last Names.** How can we create a list of all students' last names?"
   ]
  },
  {
   "cell_type": "code",
   "execution_count": 43,
   "metadata": {},
   "outputs": [],
   "source": [
    "lastNames = [s[0] for s in allStudents]\n",
    "#lastNames"
   ]
  },
  {
   "cell_type": "code",
   "execution_count": 44,
   "metadata": {},
   "outputs": [
    {
     "data": {
      "text/plain": [
       "['Tazmin',\n",
       " 'Jocelyn',\n",
       " 'Annika',\n",
       " 'Justin',\n",
       " 'Yaoyue',\n",
       " 'Lola',\n",
       " 'Tucker',\n",
       " 'Andrew',\n",
       " 'Tendai',\n",
       " 'Trishia',\n",
       " 'Olivia',\n",
       " 'Peter',\n",
       " 'Eamon',\n",
       " 'Tyler',\n",
       " 'Jose',\n",
       " 'Emily',\n",
       " 'Aleksander',\n",
       " 'Brenda',\n",
       " 'Ethan',\n",
       " 'Jeeyon',\n",
       " 'Connor',\n",
       " 'Elyes',\n",
       " 'Matt',\n",
       " 'Jack',\n",
       " 'Jimmy',\n",
       " 'Madeline',\n",
       " 'Jonathan',\n",
       " 'Aiden',\n",
       " 'True',\n",
       " 'Sam',\n",
       " 'Ari',\n",
       " 'Jianing',\n",
       " 'Sammy',\n",
       " 'Will',\n",
       " 'Charlie',\n",
       " 'Sylvana']"
      ]
     },
     "execution_count": 44,
     "metadata": {},
     "output_type": "execute_result"
    }
   ],
   "source": [
    "# List comprehension to generate a list of first names (without middle initial)\n",
    "firstNames = [s[1].split()[0] for s in allStudents]\n",
    "firstNames"
   ]
  },
  {
   "cell_type": "markdown",
   "metadata": {},
   "source": [
    "### Exercise:  Number of Students by Year\n",
    "\n",
    "Let's get to know our class better!  We will write a function `yearList` which takes in two arguments `rosterList` (list of lists) and `year` (int) and returns the list of students in the class with that graduating year.\n",
    " \n",
    "\n"
   ]
  },
  {
   "cell_type": "code",
   "execution_count": null,
   "metadata": {},
   "outputs": [],
   "source": [
    "def yearList(rosterList, year):\n",
    "    \"\"\"Takes the student info as a list of lists and a year (22-25)\n",
    "    and returns a list of students graduating that year\"\"\"\n",
    "    \n",
    "    pass"
   ]
  },
  {
   "cell_type": "code",
   "execution_count": null,
   "metadata": {},
   "outputs": [],
   "source": [
    "def yearList(rosterList, year):\n",
    "    \"\"\"Takes the student info as a list of lists and a year (22-25)\n",
    "    and returns a list of students graduating that year\"\"\"\n",
    "    \n",
    "    return [s[1] for s in allStudents if s[-1][:2] == str(year)]"
   ]
  },
  {
   "cell_type": "code",
   "execution_count": null,
   "metadata": {},
   "outputs": [],
   "source": [
    "yearList(allStudents, 22) # seniors?"
   ]
  },
  {
   "cell_type": "code",
   "execution_count": null,
   "metadata": {},
   "outputs": [],
   "source": [
    "yearList(allStudents, 23) # juniors?"
   ]
  },
  {
   "cell_type": "code",
   "execution_count": null,
   "metadata": {},
   "outputs": [],
   "source": [
    "yearList(allStudents, 24) # sophmores?"
   ]
  },
  {
   "cell_type": "code",
   "execution_count": null,
   "metadata": {
    "scrolled": true
   },
   "outputs": [],
   "source": [
    "len(yearList(allStudents, 25)) # first years?"
   ]
  },
  {
   "cell_type": "markdown",
   "metadata": {},
   "source": [
    "## Exercise:  Most Vowels \n",
    "\n",
    "**Student Fun Facts.** Which student in the class has the most number of vowels in their name?!  "
   ]
  },
  {
   "cell_type": "code",
   "execution_count": 23,
   "metadata": {},
   "outputs": [],
   "source": [
    "def mostVowels(wordList):\n",
    "    '''Takes a list of strings wordList and returns a list\n",
    "    of strings in wordList that contain the most number of vowels'''\n",
    "    \n",
    "    pass"
   ]
  },
  {
   "cell_type": "code",
   "execution_count": 45,
   "metadata": {},
   "outputs": [],
   "source": [
    "def mostVowels(wordList):\n",
    "    '''Takes a list of strings wordList and returns a list\n",
    "    of strings from wordList that contain the most # vowels'''\n",
    "    \n",
    "    maxSoFar = 0 # initialize counter\n",
    "    result = []\n",
    "    for word in wordList:\n",
    "        count = countVowels(word)\n",
    "        if count > maxSoFar:\n",
    "            # update: found a better word\n",
    "            maxSoFar = count\n",
    "            result = [word] \n",
    "        # why do we need this?\n",
    "        elif count == maxSoFar:  \n",
    "            result.append(word)\n",
    "    return result"
   ]
  },
  {
   "cell_type": "code",
   "execution_count": 46,
   "metadata": {},
   "outputs": [
    {
     "data": {
      "text/plain": [
       "['Yaoyue', 'Olivia', 'Aleksander', 'Madeline']"
      ]
     },
     "execution_count": 46,
     "metadata": {},
     "output_type": "execute_result"
    }
   ],
   "source": [
    "mostVowels(firstNames)  # which student has most vowels in their name?"
   ]
  },
  {
   "cell_type": "markdown",
   "metadata": {},
   "source": [
    "### Most Vowels in Words in Book\n",
    "\n",
    "We can use our helper function to find out which word(s) have the most number of vowels in other word lists, too. "
   ]
  },
  {
   "cell_type": "code",
   "execution_count": 47,
   "metadata": {},
   "outputs": [
    {
     "data": {
      "text/plain": [
       "['superciliousness',\n",
       " 'obsequiousness',\n",
       " 'reconciliation',\n",
       " 'authoritative',\n",
       " 'qualification',\n",
       " 'qualifications',\n",
       " 'uncompanionable',\n",
       " 'authoritative',\n",
       " 'peculiarities',\n",
       " 'misrepresentation',\n",
       " 'communicativeness',\n",
       " 'reconciliation']"
      ]
     },
     "execution_count": 47,
     "metadata": {},
     "output_type": "execute_result"
    }
   ],
   "source": [
    "bookWords = []\n",
    "with open('textfiles/prideandprejudice.txt') as book:  \n",
    "    for line in book:\n",
    "        bookWords.extend(line.strip().split())\n",
    "\n",
    "mostVowels(bookWords)"
   ]
  },
  {
   "cell_type": "markdown",
   "metadata": {},
   "source": [
    "## Exercise:  Least Vowels\n",
    "\n",
    "What do we need to change for computing the word with the least vowels?"
   ]
  },
  {
   "cell_type": "code",
   "execution_count": null,
   "metadata": {},
   "outputs": [],
   "source": [
    "def leastVowels(wordList):\n",
    "    '''Takes a list of strings wordList and returns a list\n",
    "    of strings in wordList that contain the least number of vowels'''\n",
    "    pass\n",
    "    # what needs to change?\n",
    "\n",
    "\n",
    "\n",
    "\n",
    "\n"
   ]
  },
  {
   "cell_type": "code",
   "execution_count": 52,
   "metadata": {},
   "outputs": [],
   "source": [
    "def leastVowels(wordList):\n",
    "    '''Takes a list of strings wordList and returns a list\n",
    "    of strings in wordList that contain the least number of vowels\n",
    "    '''\n",
    "    # need to initialize to something small\n",
    "    minSoFar = len(wordList[0]) if len(wordList) else 0\n",
    "    result = []\n",
    "    for word in wordList:\n",
    "        count = countVowels(word)\n",
    "        if count < minSoFar:\n",
    "            # update: found a better word\n",
    "            minSoFar = count\n",
    "            result = [word] \n",
    "        # why do we need this?\n",
    "        elif count == minSoFar and word not in result:  \n",
    "            result.append(word)\n",
    "    return result"
   ]
  },
  {
   "cell_type": "code",
   "execution_count": 53,
   "metadata": {},
   "outputs": [
    {
     "data": {
      "text/plain": [
       "['Tyler', 'Matt', 'Jack', 'Jimmy', 'Sam', 'Sammy', 'Will']"
      ]
     },
     "execution_count": 53,
     "metadata": {},
     "output_type": "execute_result"
    }
   ],
   "source": [
    "leastVowels(firstNames)"
   ]
  },
  {
   "cell_type": "code",
   "execution_count": 54,
   "metadata": {},
   "outputs": [
    {
     "data": {
      "text/plain": [
       "['by',\n",
       " 'my',\n",
       " 'mr',\n",
       " 'mrs',\n",
       " 'why',\n",
       " 'st',\n",
       " \"'\",\n",
       " 'th',\n",
       " \"'mr\",\n",
       " 'try',\n",
       " 'sly',\n",
       " 'shy',\n",
       " 'cry',\n",
       " \"'s\",\n",
       " \"'my\"]"
      ]
     },
     "execution_count": 54,
     "metadata": {},
     "output_type": "execute_result"
    }
   ],
   "source": [
    "leastVowels(bookWords)"
   ]
  },
  {
   "cell_type": "markdown",
   "metadata": {},
   "source": [
    "## Writing to Files\n",
    "\n",
    "We can write all the results that we are computing into a file (a persistent structure).  To open a file for writing, we use `open` with the mode 'w'. \n",
    "\n",
    "The following code will create a new file named `studentFacts.txt` in the current working directory and write in it results of our function calls."
   ]
  },
  {
   "cell_type": "code",
   "execution_count": null,
   "metadata": {},
   "outputs": [],
   "source": [
    "fYears = len(yearList(allStudents, 25))\n",
    "sophYears = len(yearList(allStudents, 24))\n",
    "jYears = len(yearList(allStudents, 23))\n",
    "sYears = len(yearList(allStudents, 22))\n",
    "mostVowelNames = ', '.join(mostVowels(firstNames))\n",
    "leastVowelNames = ', '.join(leastVowels(firstNames))\n",
    "with open('studentFacts.txt', 'w') as sFile:\n",
    "    sFile.write('Fun facts about CS134 students:\\n')# need newlines\n",
    "    sFile.write('Students with most vowels in their name: {}.\\n'.format(mostVowelNames))\n",
    "    sFile.write('Students with least vowels in their name: {}.\\n'.format(leastVowelNames))\n",
    "    sFile.write('No. of first years in CS134: {}.\\n'.format(fYears))\n",
    "    sFile.write('No. of sophmores in CS134: {}.\\n'.format(sophYears))\n",
    "    sFile.write('No. of juniors in CS134: {}\\n'.format(jYears))\n",
    "    sFile.write('No. of seniors in CS134: {}\\n'.format(sYears))"
   ]
  },
  {
   "cell_type": "markdown",
   "metadata": {},
   "source": [
    "We can use `ls -l` to see that a new file `studentFacts.txt` has been created:"
   ]
  },
  {
   "cell_type": "code",
   "execution_count": null,
   "metadata": {},
   "outputs": [],
   "source": [
    "ls -l"
   ]
  },
  {
   "cell_type": "markdown",
   "metadata": {},
   "source": [
    "Use the OS command `more` to view the contents of the file:"
   ]
  },
  {
   "cell_type": "code",
   "execution_count": null,
   "metadata": {},
   "outputs": [],
   "source": [
    "cat studentFacts.txt"
   ]
  },
  {
   "cell_type": "markdown",
   "metadata": {},
   "source": [
    "## Appending to Files\n",
    "\n",
    "If a file already has something in it, opening it in `w` mode again will erase all its past contents.  If we need to append something to a file, we open it in append `a` model. '\n",
    "\n",
    "For example, let us append a sentence to `studentFacts.txt`."
   ]
  },
  {
   "cell_type": "code",
   "execution_count": null,
   "metadata": {},
   "outputs": [],
   "source": [
    "with open('studentFacts.txt', 'a') as sFile:\n",
    "    sFile.write('Goodbye.\\n')"
   ]
  },
  {
   "cell_type": "code",
   "execution_count": null,
   "metadata": {},
   "outputs": [],
   "source": [
    "cat studentFacts.txt "
   ]
  },
  {
   "cell_type": "markdown",
   "metadata": {},
   "source": [
    "## Analyze Faculty Data\n",
    "\n",
    "\n",
    "Let us look read in information about the Williams faculty, and find out fun facts about them.\n"
   ]
  },
  {
   "cell_type": "code",
   "execution_count": 15,
   "metadata": {},
   "outputs": [],
   "source": [
    "import csv\n",
    "#with open('roster.csv') as myFile:\n",
    "\n",
    "    \n",
    "filename = 'csv/faculty.csv'\n",
    "with open(filename) as facFile:\n",
    "    csvf = csv.reader(facFile)\n",
    "    allFaculty = [line for line in csvf]"
   ]
  },
  {
   "cell_type": "code",
   "execution_count": 16,
   "metadata": {},
   "outputs": [],
   "source": [
    "# allFaculty # list of lists"
   ]
  },
  {
   "cell_type": "code",
   "execution_count": 4,
   "metadata": {},
   "outputs": [
    {
     "data": {
      "text/plain": [
       "420"
      ]
     },
     "execution_count": 4,
     "metadata": {},
     "output_type": "execute_result"
    }
   ],
   "source": [
    "size = len(allFaculty)\n",
    "size"
   ]
  },
  {
   "cell_type": "code",
   "execution_count": 17,
   "metadata": {
    "scrolled": true
   },
   "outputs": [
    {
     "data": {
      "text/plain": [
       "['Jeffrey I. Israel',\n",
       " 'Religion',\n",
       " 'Associate Professor of Religion',\n",
       " '1999, B.A., Oberlin College',\n",
       " '2001, M.A., University of Chicago',\n",
       " '2011, Ph.D., University of Chicago']"
      ]
     },
     "execution_count": 17,
     "metadata": {},
     "output_type": "execute_result"
    }
   ],
   "source": [
    "import random # import module to help generate random numbers\n",
    "randNum = random.randint(0, size)  \n",
    "# generates a random integer between 0 and size\n",
    "\n",
    "allFaculty[randNum]"
   ]
  },
  {
   "cell_type": "markdown",
   "metadata": {},
   "source": [
    "## Exercise:  Most Popular Undergraduate Institution\n",
    "\n",
    "**Faculty Fun Facts.** What is the most popular undergradate institution among Williams faculty?  "
   ]
  },
  {
   "cell_type": "code",
   "execution_count": null,
   "metadata": {},
   "outputs": [],
   "source": [
    "answer = ''\n",
    "mostSoFar = 0\n",
    "for fac in allFaculty:\n",
    "    und = fac[3]\n",
    "    \n",
    "    \n",
    "\n",
    "\n"
   ]
  },
  {
   "cell_type": "markdown",
   "metadata": {},
   "source": [
    "## List Methods:  Do not change the List\n",
    "\n",
    "We have seen several list methods already.  \n",
    "\n",
    "Here we summarize the list methods that do not modify the list, and others that do modify the list they are called on.\n",
    "\n",
    "Useful methods that **do not modify the list** they are called on:\n",
    "   * `.count()`\n",
    "   * `.index()`\n",
    "   \n",
    "The descriptions of these are in the lecture slides.  Examples below.\n",
    "   "
   ]
  },
  {
   "cell_type": "code",
   "execution_count": null,
   "metadata": {},
   "outputs": [],
   "source": [
    "myList = list(\"Hello World!\")\n",
    "\n",
    "myList.index('l') # gives first index "
   ]
  },
  {
   "cell_type": "code",
   "execution_count": null,
   "metadata": {},
   "outputs": [],
   "source": [
    "myList.index('z')  # gives error if item not present"
   ]
  },
  {
   "cell_type": "code",
   "execution_count": null,
   "metadata": {},
   "outputs": [],
   "source": [
    "newList = ['a', 'a', 'a', 'a', 'b', 'b', 'c', 'c']\n",
    "newList.count('a')"
   ]
  },
  {
   "cell_type": "code",
   "execution_count": null,
   "metadata": {},
   "outputs": [],
   "source": [
    "newList.count('z')"
   ]
  },
  {
   "cell_type": "markdown",
   "metadata": {},
   "source": [
    "## List Methods:  Modify the List\n",
    "\n",
    "Unlike integers, strings, floats, which are immutable, lists are a mutable objects and can be changed in place. \n",
    "\n",
    "This has several implications which we will discuss in this and coming lectures.\n",
    "\n",
    "Useful methods that **do modify the list** they are called on:\n",
    "   * `.append()`\n",
    "   * `.extend()`\n",
    "   * `.insert()`\n",
    "   * `.remove()`\n",
    "   * `.pop()`   \n",
    "   \n",
    "Other ways to modify a list in place:\n",
    "  * direct assignment to a list element\n",
    "  * sorting a list in place using `.sort()`\n",
    "\n",
    "Let us work through these with examples. You can also follow how the state of the list changes with each operation on the lecture slides."
   ]
  },
  {
   "cell_type": "code",
   "execution_count": null,
   "metadata": {},
   "outputs": [],
   "source": [
    "myList = [1, 2, 3, 4]  # fresh assignment: creates a new list wiht the name myList"
   ]
  },
  {
   "cell_type": "code",
   "execution_count": null,
   "metadata": {},
   "outputs": [],
   "source": [
    "myList[1] = 7   # changing the value by direct assignment"
   ]
  },
  {
   "cell_type": "code",
   "execution_count": null,
   "metadata": {},
   "outputs": [],
   "source": [
    "myList.append(5)  # appending an item at the end\n",
    "myList"
   ]
  },
  {
   "cell_type": "code",
   "execution_count": null,
   "metadata": {},
   "outputs": [],
   "source": [
    "myList.extend([6, 8])  # extend method lets you append multiple items\n",
    "\n",
    "myList "
   ]
  },
  {
   "cell_type": "code",
   "execution_count": null,
   "metadata": {},
   "outputs": [],
   "source": [
    "myList"
   ]
  },
  {
   "cell_type": "code",
   "execution_count": null,
   "metadata": {},
   "outputs": [],
   "source": [
    "myList.pop(3)  # removes the item at index 3 and returns it"
   ]
  },
  {
   "cell_type": "code",
   "execution_count": null,
   "metadata": {},
   "outputs": [],
   "source": [
    "myList"
   ]
  },
  {
   "cell_type": "code",
   "execution_count": null,
   "metadata": {},
   "outputs": [],
   "source": [
    "myList.pop() # remove the last item and returns it"
   ]
  },
  {
   "cell_type": "code",
   "execution_count": null,
   "metadata": {},
   "outputs": [],
   "source": [
    "myList"
   ]
  },
  {
   "cell_type": "code",
   "execution_count": null,
   "metadata": {},
   "outputs": [],
   "source": [
    "myList.insert(0, 11)  # insert 11 at index 0, shift everything over"
   ]
  },
  {
   "cell_type": "code",
   "execution_count": null,
   "metadata": {},
   "outputs": [],
   "source": [
    "myList"
   ]
  },
  {
   "cell_type": "code",
   "execution_count": null,
   "metadata": {},
   "outputs": [],
   "source": [
    "myList.remove(5)   # remove(item) removes the item from the list"
   ]
  },
  {
   "cell_type": "code",
   "execution_count": null,
   "metadata": {},
   "outputs": [],
   "source": [
    "myList"
   ]
  },
  {
   "cell_type": "code",
   "execution_count": null,
   "metadata": {},
   "outputs": [],
   "source": [
    "myList.remove(13) # gives a value error"
   ]
  },
  {
   "cell_type": "code",
   "execution_count": null,
   "metadata": {},
   "outputs": [],
   "source": [
    "myList.sort()\n",
    "myList"
   ]
  }
 ],
 "metadata": {
  "kernelspec": {
   "display_name": "Python 3 (ipykernel)",
   "language": "python",
   "name": "python3"
  },
  "language_info": {
   "codemirror_mode": {
    "name": "ipython",
    "version": 3
   },
   "file_extension": ".py",
   "mimetype": "text/x-python",
   "name": "python",
   "nbconvert_exporter": "python",
   "pygments_lexer": "ipython3",
   "version": "3.9.7"
  }
 },
 "nbformat": 4,
 "nbformat_minor": 1
}
