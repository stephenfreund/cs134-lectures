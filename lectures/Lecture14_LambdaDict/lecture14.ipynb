{
 "cells": [
  {
   "cell_type": "markdown",
   "metadata": {},
   "source": [
    "# Lecture 14: Lambda Sorting, Sets & Dictionaries\n",
    "\n",
    "### Jeannie Albrecht and Shikha Singh\n",
    "\n",
    "Today, we will discuss the following:\n",
    "  * Wrap up our discussion on sorting with optional key function as lambda expressions\n",
    "  * Discuss a new mutable unordered data structure: a dictionary."
   ]
  },
  {
   "cell_type": "markdown",
   "metadata": {},
   "source": [
    "##  Sorting using `key` function\n",
    "\n"
   ]
  },
  {
   "cell_type": "code",
   "execution_count": null,
   "metadata": {},
   "outputs": [],
   "source": [
    "courses = [('CS134', 74, 'Fall'), ('CS136', 60, 'Fall'),\n",
    "           ('AFR206', 30, 'Spring'), ('ECON233', 30, 'Spring'),\n",
    "           ('MUS112', 10), ('STAT200', 50), ('PSYC 201', 90)]"
   ]
  },
  {
   "cell_type": "code",
   "execution_count": null,
   "metadata": {},
   "outputs": [],
   "source": [
    "sorted(courses) # how will it get sorted?"
   ]
  },
  {
   "cell_type": "code",
   "execution_count": null,
   "metadata": {},
   "outputs": [],
   "source": [
    "courses = [('CS134', 74, 'Fall'), ('CS136', 60, 'Fall'),\n",
    "           ('AFR206', 30, 'Spring'), ('ECON233', 30, 'Fall'),\n",
    "           ('MUS112', 10, 'Fall'), ('STAT200', 50, 'Spring'), \n",
    "           ('PSYC201', 50, 'Fall'), ('MATH110', 74, 'Spring')]"
   ]
  },
  {
   "cell_type": "code",
   "execution_count": null,
   "metadata": {},
   "outputs": [],
   "source": [
    "def capacity(courseTuple):\n",
    "    '''Takes a sequence and returns item at index 1'''\n",
    "    return courseTuple[1]"
   ]
  },
  {
   "cell_type": "code",
   "execution_count": null,
   "metadata": {},
   "outputs": [],
   "source": [
    "# can tell sorted to sort by capacity instead\n",
    "sorted(courses, key=capacity)"
   ]
  },
  {
   "cell_type": "code",
   "execution_count": null,
   "metadata": {},
   "outputs": [],
   "source": [
    "sorted(courses, key=capacity, reverse=True)"
   ]
  },
  {
   "cell_type": "markdown",
   "metadata": {},
   "source": [
    "##  Stable Sorting\n",
    "\n",
    "Python's sorting functions are stable, which means that items that are equal according to the sorting key have the same relative order as in the original sequence.  To see an example, let us sort the course tuples by the term they are offered by defining a new key function."
   ]
  },
  {
   "cell_type": "code",
   "execution_count": null,
   "metadata": {},
   "outputs": [],
   "source": [
    "courses = [('CS134', 74, 'Fall'), ('CS136', 60, 'Fall'),\n",
    "           ('AFR206', 30, 'Spring'), ('ECON233', 30, 'Fall'),\n",
    "           ('MUS112', 10, 'Fall'), ('STAT200', 50, 'Spring'), \n",
    "           ('PSYC201', 50, 'Fall'), ('MATH110', 74, 'Spring')]"
   ]
  },
  {
   "cell_type": "code",
   "execution_count": null,
   "metadata": {},
   "outputs": [],
   "source": [
    "def term(courseTuple):\n",
    "    '''Takes a sequence and returns item at index 2'''\n",
    "    return courseTuple[2]"
   ]
  },
  {
   "cell_type": "code",
   "execution_count": null,
   "metadata": {},
   "outputs": [],
   "source": [
    "sorted(courses, key=term)"
   ]
  },
  {
   "cell_type": "code",
   "execution_count": null,
   "metadata": {},
   "outputs": [],
   "source": [
    "def termAndCap(courseTuple):\n",
    "    return courseTuple[2], courseTuple[1]"
   ]
  },
  {
   "cell_type": "code",
   "execution_count": null,
   "metadata": {},
   "outputs": [],
   "source": [
    "sorted(courses, key=termAndCap)"
   ]
  },
  {
   "cell_type": "markdown",
   "metadata": {},
   "source": [
    "## Lambda Notation\n",
    "\n",
    "\n",
    "It is often inconvenient or unnecessary to define a named function just in order to pass it as the functional argument to higher-order functions like sorted.\n",
    "\n",
    "Python provides lambda notation for creating anonymous functions (a function with no name that cannot be called elsewhere) that can be used directly in functions like sorted\n"
   ]
  },
  {
   "cell_type": "code",
   "execution_count": null,
   "metadata": {},
   "outputs": [],
   "source": [
    "def square(x):\n",
    "    return x*x"
   ]
  },
  {
   "cell_type": "code",
   "execution_count": null,
   "metadata": {},
   "outputs": [],
   "source": [
    "square(5)"
   ]
  },
  {
   "cell_type": "code",
   "execution_count": null,
   "metadata": {},
   "outputs": [],
   "source": [
    "(lambda x: x*x)(5)"
   ]
  },
  {
   "cell_type": "code",
   "execution_count": null,
   "metadata": {},
   "outputs": [],
   "source": [
    "def first(seq):\n",
    "    return seq[0]\n",
    "\n",
    "first('zorp')"
   ]
  },
  {
   "cell_type": "code",
   "execution_count": null,
   "metadata": {},
   "outputs": [],
   "source": [
    "(lambda seq: seq[0])('zorp')"
   ]
  },
  {
   "cell_type": "code",
   "execution_count": null,
   "metadata": {},
   "outputs": [],
   "source": [
    "type(lambda x: x*x)"
   ]
  },
  {
   "cell_type": "code",
   "execution_count": null,
   "metadata": {},
   "outputs": [],
   "source": [
    "# back to our example\n",
    "courses = [('CS134', 74, 'Fall'), ('CS136', 60, 'Fall'),\n",
    "           ('AFR206', 30, 'Spring'), ('ECON233', 30, 'Fall'),\n",
    "           ('MUS112', 10, 'Fall'), ('STAT200', 50, 'Spring'), \n",
    "           ('PSYC201', 50, 'Fall'), ('MATH110', 74, 'Spring')]"
   ]
  },
  {
   "cell_type": "code",
   "execution_count": null,
   "metadata": {},
   "outputs": [],
   "source": [
    "# sort by capacity\n",
    "sorted(courses, key=lambda course: course[1]) "
   ]
  },
  {
   "cell_type": "code",
   "execution_count": null,
   "metadata": {},
   "outputs": [],
   "source": [
    "# sort by term followed by capacity\n",
    "sorted(courses, key=lambda c: (c[2], c[1]))"
   ]
  },
  {
   "cell_type": "markdown",
   "metadata": {},
   "source": [
    "## More with Lambda Sorting\n",
    "\n",
    "\n",
    "* Lambda notation can be applied to `.sort()` list method as well.\n",
    "* Can also be applied to other sequences such as strings.\n",
    "\n",
    "See examples below."
   ]
  },
  {
   "cell_type": "code",
   "execution_count": null,
   "metadata": {},
   "outputs": [],
   "source": [
    "zipCodes = [111231, 111777, 11782, 11345, 23114, 455621]"
   ]
  },
  {
   "cell_type": "code",
   "execution_count": null,
   "metadata": {},
   "outputs": [],
   "source": [
    "# exercise sort zipCodes (by mutating it) by the last digit of items\n",
    "\n",
    "zipCodes.sort(key=lambda n: n%10)\n",
    "zipCodes"
   ]
  },
  {
   "cell_type": "code",
   "execution_count": null,
   "metadata": {},
   "outputs": [],
   "source": [
    "ids = ['id1', 'id100', 'id2', 'id22', 'id3', 'id30']"
   ]
  },
  {
   "cell_type": "code",
   "execution_count": null,
   "metadata": {},
   "outputs": [],
   "source": [
    "sortedIds = sorted(ids, key=lambda x: int(x[2:]))"
   ]
  },
  {
   "cell_type": "code",
   "execution_count": null,
   "metadata": {},
   "outputs": [],
   "source": [
    "sortedIds # can you guess the output?"
   ]
  },
  {
   "cell_type": "code",
   "execution_count": null,
   "metadata": {},
   "outputs": [],
   "source": [
    "name = \"SquiD GamE\"\n",
    "sorted(name, key=lambda x:x.lower()) # sort but ignore case"
   ]
  },
  {
   "cell_type": "markdown",
   "metadata": {},
   "source": [
    "## New Mutable Collection:  Dictionaries\n",
    "\n",
    "\n",
    "Dictionaries are unordered collections that map **keys** to **values**.\n",
    "\n",
    "The motivation behind dictionaries is efficient queries:  to look for a value associated with a key, we do not need to look through all the keys.  We can just access the dictionary using the key as the subscript, and the dictionary returns the corresponding values. \n",
    "\n",
    "This makes queries a lot more efficient!"
   ]
  },
  {
   "cell_type": "code",
   "execution_count": null,
   "metadata": {},
   "outputs": [],
   "source": [
    "# sample dictionary\n",
    "zipCodes = {'01267': 'Williamstown', '60606': 'Chicago', \n",
    "            '48202': 'Detroit', '97210': 'Portland'}"
   ]
  },
  {
   "cell_type": "code",
   "execution_count": null,
   "metadata": {},
   "outputs": [],
   "source": [
    "# what US city has this zip code?\n",
    "zipCodes['60606'] "
   ]
  },
  {
   "cell_type": "code",
   "execution_count": null,
   "metadata": {},
   "outputs": [],
   "source": [
    "# what US city has this zip code?\n",
    "zipCodes['48202']"
   ]
  },
  {
   "cell_type": "code",
   "execution_count": null,
   "metadata": {},
   "outputs": [],
   "source": [
    "# if key does not exist\n",
    "zipCodes['11777']"
   ]
  },
  {
   "cell_type": "code",
   "execution_count": null,
   "metadata": {},
   "outputs": [],
   "source": [
    "zipCodes['11777'] = 'Port Jefferson'"
   ]
  },
  {
   "cell_type": "code",
   "execution_count": null,
   "metadata": {},
   "outputs": [],
   "source": [
    "zipCodes"
   ]
  },
  {
   "cell_type": "code",
   "execution_count": null,
   "metadata": {},
   "outputs": [],
   "source": [
    "len(zipCodes)"
   ]
  },
  {
   "cell_type": "code",
   "execution_count": null,
   "metadata": {},
   "outputs": [],
   "source": [
    "'90210' in zipCodes"
   ]
  },
  {
   "cell_type": "code",
   "execution_count": null,
   "metadata": {},
   "outputs": [],
   "source": [
    "'01267' in zipCodes"
   ]
  },
  {
   "cell_type": "markdown",
   "metadata": {},
   "source": [
    "### Creating Dictionaries\n",
    "\n",
    "Dictionaries can be created in many ways:\n",
    "   * Direct assignment \n",
    "   * Starting with an empty dictionary and accumulating key-value paris\n",
    "   * Using the `dict()` function"
   ]
  },
  {
   "cell_type": "code",
   "execution_count": null,
   "metadata": {},
   "outputs": [],
   "source": [
    "# direct assignment\n",
    "scrabbleScore = {'a':1 , 'b':3, 'c':3, 'd':2, 'e':1, \n",
    "                 'f':4, 'g':2, 'h':4, 'i':1, 'j':8, \n",
    "                 'k':5, 'l':1, 'm':3, 'n':1, 'o':1, \n",
    "                 'p':3, 'q':10, 'r':1, 's':1, 't':1, \n",
    "                 'u':1, 'v':8, 'w':4, 'x':8, 'y':4, 'z': 10} "
   ]
  },
  {
   "cell_type": "code",
   "execution_count": null,
   "metadata": {},
   "outputs": [],
   "source": [
    "# accumulate in a dictionary\n",
    "verse = \"let it be,let it be,let it be,let it be,there will be an answer,let it be\"\n",
    "counts = {} # empty dictionary\n",
    "for line in verse.split(','):\n",
    "    if line not in counts:\n",
    "        counts[line] = 1 # initialize count\n",
    "    else:\n",
    "        counts[line] += 1 # update count\n",
    "counts"
   ]
  },
  {
   "cell_type": "code",
   "execution_count": null,
   "metadata": {},
   "outputs": [],
   "source": [
    "# use dict() function\n",
    "dict([('a', 5), ('b', 7), ('c', 10)])"
   ]
  },
  {
   "cell_type": "markdown",
   "metadata": {},
   "source": [
    "**Important Note:**  Dictionaries are **unordered**. While Python displays them in the order in which they were defined, there is no inherent order between elements, e.g., we cannot access element at a certain index."
   ]
  },
  {
   "cell_type": "markdown",
   "metadata": {},
   "source": [
    "## Example:  `frequency` \n",
    "\n",
    "Lets write a function `frequency` that takes as input a list of words `wordList` and returns a dictionary `freqDict` with the unique words in `wordList` as keys, and their number of occurrences in `wordList` as values."
   ]
  },
  {
   "cell_type": "code",
   "execution_count": null,
   "metadata": {},
   "outputs": [],
   "source": [
    "def frequency(wordList):\n",
    "    \"\"\"Given a list of words, returns a dictionary of word frequencies\"\"\"\n",
    "    freqDict = {} # initialize accumulator as empty dict\n",
    "    for word in wordList:\n",
    "        if word not in freqDict:\n",
    "            freqDict[word] = 1 # add key with count 1\n",
    "        else:\n",
    "            freqDict[word] += 1 # update count\n",
    "    return freqDict"
   ]
  },
  {
   "cell_type": "code",
   "execution_count": null,
   "metadata": {},
   "outputs": [],
   "source": [
    "frequency(['a', 'a', 'a', 'c', 'b', 'a', 'd'])"
   ]
  },
  {
   "cell_type": "code",
   "execution_count": null,
   "metadata": {},
   "outputs": [],
   "source": [
    "verseWords = ['let','it','be','let','it','be','there','will','be','an','answer']\n",
    "frequency(verseWords)"
   ]
  },
  {
   "cell_type": "code",
   "execution_count": null,
   "metadata": {},
   "outputs": [],
   "source": [
    "# read in all words from pride and prejudice\n",
    "bookWords = []\n",
    "with open('prideandprejudice.txt') as book:\n",
    "    for line in book:\n",
    "        bookWords.extend(line.strip().split())"
   ]
  },
  {
   "cell_type": "code",
   "execution_count": null,
   "metadata": {},
   "outputs": [],
   "source": [
    "bookDict = frequency(bookWords)"
   ]
  },
  {
   "cell_type": "code",
   "execution_count": null,
   "metadata": {},
   "outputs": [],
   "source": [
    "# num of unique words? what should we write here\n",
    "len(bookDict)"
   ]
  },
  {
   "cell_type": "code",
   "execution_count": null,
   "metadata": {},
   "outputs": [],
   "source": [
    "# num of times word 'pride' appears?  what should we write?\n",
    "bookDict['pride']"
   ]
  },
  {
   "cell_type": "markdown",
   "metadata": {},
   "source": [
    "## Important Dictionary Method:  `.get()` \n",
    "\n"
   ]
  },
  {
   "cell_type": "code",
   "execution_count": null,
   "metadata": {},
   "outputs": [],
   "source": [
    "ids = {'ss32': 'Shikha', 'jra1': 'Jeannie', \n",
    "            'kas10': 'Kelly', 'lpd2': 'Lida'}"
   ]
  },
  {
   "cell_type": "code",
   "execution_count": null,
   "metadata": {},
   "outputs": [],
   "source": [
    "ids.get('kas10', 'Ephelia')"
   ]
  },
  {
   "cell_type": "code",
   "execution_count": null,
   "metadata": {},
   "outputs": [],
   "source": [
    "ids.get('srm2', 'Ephelia')"
   ]
  },
  {
   "cell_type": "code",
   "execution_count": null,
   "metadata": {},
   "outputs": [],
   "source": [
    "ids # .get does not change the dictionary"
   ]
  },
  {
   "cell_type": "code",
   "execution_count": null,
   "metadata": {},
   "outputs": [],
   "source": [
    "print(ids.get('ksl23'))"
   ]
  },
  {
   "cell_type": "markdown",
   "metadata": {},
   "source": [
    "## Rewrite `frequency` using `get`\n",
    "\n"
   ]
  },
  {
   "cell_type": "code",
   "execution_count": null,
   "metadata": {},
   "outputs": [],
   "source": [
    "def frequencyOld(wordList):\n",
    "    \"\"\"Given a list of words, returns a dictionary of word frequencies\"\"\"\n",
    "    freqDict = {} # initialize accumulator as empty dict\n",
    "    for word in wordList:\n",
    "        if word not in freqDict:\n",
    "            freqDict[word] = 1 # add key with count 1\n",
    "        else:\n",
    "            freqDict[word] += 1 # update count\n",
    "    return freqDict"
   ]
  },
  {
   "cell_type": "code",
   "execution_count": null,
   "metadata": {},
   "outputs": [],
   "source": [
    "def frequency(wordList):\n",
    "    \"\"\"Given a list of words, returns a dictionary of word frequencies\"\"\"\n",
    "    freqDict = {} # initialize accumulator as empty dict\n",
    "    for word in wordList:\n",
    "        # what should we write instead?\n",
    "        freqDict[word] = freqDict.get(word, 0) + 1\n",
    "    return freqDict"
   ]
  },
  {
   "cell_type": "code",
   "execution_count": null,
   "metadata": {},
   "outputs": [],
   "source": [
    "bookDict = frequency(bookWords)"
   ]
  },
  {
   "cell_type": "code",
   "execution_count": null,
   "metadata": {},
   "outputs": [],
   "source": [
    " #bookDict"
   ]
  }
 ],
 "metadata": {
  "kernelspec": {
   "display_name": "Python 3 (ipykernel)",
   "language": "python",
   "name": "python3"
  },
  "language_info": {
   "codemirror_mode": {
    "name": "ipython",
    "version": 3
   },
   "file_extension": ".py",
   "mimetype": "text/x-python",
   "name": "python",
   "nbconvert_exporter": "python",
   "pygments_lexer": "ipython3",
   "version": "3.9.7"
  }
 },
 "nbformat": 4,
 "nbformat_minor": 1
}
