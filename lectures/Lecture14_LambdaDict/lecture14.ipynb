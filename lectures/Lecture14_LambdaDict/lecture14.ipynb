{
 "cells": [
  {
   "cell_type": "markdown",
   "metadata": {},
   "source": [
    "# Lecture 13: Tuples and Sorting\n",
    "\n",
    "### Jeannie Albrecht and Shikha Singh\n",
    "\n",
    "Today, we will discuss the following:\n",
    "  * A new immutable sequence:  Tuples\n",
    "  * Sorting with `key` and `lambda` sorting"
   ]
  },
  {
   "cell_type": "markdown",
   "metadata": {},
   "source": [
    "## New Immutable Sequence:  Tuples\n",
    "\n",
    "* Tuples are an immutable sequence of values separated by commas and enclosed within parentheses ()\n",
    "* Tuples support any sequence operations that don’t involve mutation: e.g., `len()`, indexing, slicing, concatenation, sorted function, etc\n",
    "* Tuples support simple and nifty assignment syntax, which makes them really convenient"
   ]
  },
  {
   "cell_type": "code",
   "execution_count": null,
   "metadata": {},
   "outputs": [],
   "source": [
    "# string tuple\n",
    "names = ('Shikha', 'Jeannie', 'Kelly', 'Lida')\n",
    "\n",
    "# num tuple\n",
    "primes = (2, 3, 5, 7, 11)\n",
    "\n",
    "# singleton\n",
    "num = (5,)\n",
    "\n",
    "# parens are optional\n",
    "values = 5, 6\n",
    "\n",
    "# empty tuple\n",
    "emp = ()"
   ]
  },
  {
   "cell_type": "code",
   "execution_count": null,
   "metadata": {},
   "outputs": [],
   "source": [
    "type(values)"
   ]
  },
  {
   "cell_type": "markdown",
   "metadata": {},
   "source": [
    "### Tuples as a Sequence\n",
    "\n",
    "Like strings, tuples support sequence operations and methods that are immutable.  See examples below."
   ]
  },
  {
   "cell_type": "code",
   "execution_count": null,
   "metadata": {},
   "outputs": [],
   "source": [
    "nameTuple = ('Shikha', 'Jeannie', 'Kelly')"
   ]
  },
  {
   "cell_type": "code",
   "execution_count": null,
   "metadata": {},
   "outputs": [],
   "source": [
    "len(nameTuple)"
   ]
  },
  {
   "cell_type": "code",
   "execution_count": null,
   "metadata": {},
   "outputs": [],
   "source": [
    "nameTuple[2]"
   ]
  },
  {
   "cell_type": "code",
   "execution_count": null,
   "metadata": {},
   "outputs": [],
   "source": [
    "nameTuple[2] = 'Lida' # will this work?"
   ]
  },
  {
   "cell_type": "code",
   "execution_count": null,
   "metadata": {},
   "outputs": [],
   "source": [
    "nameTuple + ('Lida', ) # concatenation returns a new sequence"
   ]
  },
  {
   "cell_type": "code",
   "execution_count": null,
   "metadata": {},
   "outputs": [],
   "source": [
    "nameTuple"
   ]
  },
  {
   "cell_type": "code",
   "execution_count": null,
   "metadata": {},
   "outputs": [],
   "source": [
    "nameTuple * 2 # what will this do?"
   ]
  },
  {
   "cell_type": "code",
   "execution_count": null,
   "metadata": {},
   "outputs": [],
   "source": [
    "numTuple = (1, 1, 2, 3, 5, 8, 13)"
   ]
  },
  {
   "cell_type": "code",
   "execution_count": null,
   "metadata": {},
   "outputs": [],
   "source": [
    "numTuple[3:6]"
   ]
  },
  {
   "cell_type": "code",
   "execution_count": null,
   "metadata": {},
   "outputs": [],
   "source": [
    "numTuple[::-1]"
   ]
  },
  {
   "cell_type": "code",
   "execution_count": null,
   "metadata": {},
   "outputs": [],
   "source": [
    "colors = ('red', 'blue', 'orange', 'white', 'black')"
   ]
  },
  {
   "cell_type": "code",
   "execution_count": null,
   "metadata": {},
   "outputs": [],
   "source": [
    "'green' not in colors"
   ]
  },
  {
   "cell_type": "code",
   "execution_count": null,
   "metadata": {},
   "outputs": [],
   "source": [
    "'red' in colors"
   ]
  },
  {
   "cell_type": "code",
   "execution_count": null,
   "metadata": {},
   "outputs": [],
   "source": [
    "# can iterate over like any other sequence\n",
    "for c in colors:\n",
    "    print(c)"
   ]
  },
  {
   "cell_type": "markdown",
   "metadata": {},
   "source": [
    "## Multiple Assignments and Sequence Unpacking with Tuples\n",
    "\n",
    "\n",
    "Tuples are very useful for:\n",
    "   * multiple assigments in a single line. \n",
    "   * simple sequence unpacking.\n",
    "   * for returning multiple values from functions."
   ]
  },
  {
   "cell_type": "code",
   "execution_count": null,
   "metadata": {},
   "outputs": [],
   "source": [
    "a, b = 4, 5"
   ]
  },
  {
   "cell_type": "code",
   "execution_count": null,
   "metadata": {},
   "outputs": [],
   "source": [
    "a"
   ]
  },
  {
   "cell_type": "code",
   "execution_count": null,
   "metadata": {},
   "outputs": [],
   "source": [
    "b"
   ]
  },
  {
   "cell_type": "code",
   "execution_count": null,
   "metadata": {},
   "outputs": [],
   "source": [
    "b, a = a, b # what does this do?"
   ]
  },
  {
   "cell_type": "code",
   "execution_count": null,
   "metadata": {},
   "outputs": [],
   "source": [
    "a, b"
   ]
  },
  {
   "cell_type": "code",
   "execution_count": null,
   "metadata": {},
   "outputs": [],
   "source": [
    "a, b, c = (1, 2, 3)"
   ]
  },
  {
   "cell_type": "code",
   "execution_count": null,
   "metadata": {},
   "outputs": [],
   "source": [
    "print(a, b, c)"
   ]
  },
  {
   "cell_type": "code",
   "execution_count": null,
   "metadata": {},
   "outputs": [],
   "source": [
    "a, b = (1, (2, 3)) # will this work?"
   ]
  },
  {
   "cell_type": "code",
   "execution_count": null,
   "metadata": {},
   "outputs": [],
   "source": [
    "b"
   ]
  },
  {
   "cell_type": "code",
   "execution_count": null,
   "metadata": {},
   "outputs": [],
   "source": [
    "studentInfo = ['Harry Potter', 11, 'Gryffindor']"
   ]
  },
  {
   "cell_type": "code",
   "execution_count": null,
   "metadata": {},
   "outputs": [],
   "source": [
    "name, age, house = studentInfo\n",
    "# short hand for three separate assignments\n",
    "# name = studentInfo[0]  \n",
    "# age = studentInfo[1]  \n",
    "# house = studentInfo[2]"
   ]
  },
  {
   "cell_type": "code",
   "execution_count": null,
   "metadata": {},
   "outputs": [],
   "source": [
    "print(name, age, house)"
   ]
  },
  {
   "cell_type": "code",
   "execution_count": null,
   "metadata": {},
   "outputs": [],
   "source": [
    "# multiple return values as a tuple\n",
    "def arithmetic(num1, num2):\n",
    "    '''Takes two numbers and returns the sum and product'''\n",
    "    return (num1, num2) * num1"
   ]
  },
  {
   "cell_type": "code",
   "execution_count": null,
   "metadata": {},
   "outputs": [],
   "source": [
    "arithmetic(10, 2)"
   ]
  },
  {
   "cell_type": "code",
   "execution_count": null,
   "metadata": {},
   "outputs": [],
   "source": [
    "type(arithmetic(3, 4))"
   ]
  },
  {
   "cell_type": "markdown",
   "metadata": {},
   "source": [
    "## Tuples and Enumeration\n",
    "\n",
    "\n",
    "Python's built-in function `enumerate` takes an iterable sequence `seq` as input and returns an enumerate object, which is essentially a `tuple` of the values (`index`, `seq[index]`) for the given sequence.  Typically, `enumerate` is used to iterate over a sequence and its indices directly."
   ]
  },
  {
   "cell_type": "code",
   "execution_count": null,
   "metadata": {},
   "outputs": [],
   "source": [
    "seasons = ['Spring', 'Summer', 'Fall', 'Winter']"
   ]
  },
  {
   "cell_type": "code",
   "execution_count": null,
   "metadata": {},
   "outputs": [],
   "source": [
    "type(enumerate(seasons))"
   ]
  },
  {
   "cell_type": "code",
   "execution_count": null,
   "metadata": {},
   "outputs": [],
   "source": [
    "list(enumerate(seasons))"
   ]
  },
  {
   "cell_type": "code",
   "execution_count": null,
   "metadata": {},
   "outputs": [],
   "source": [
    "seasons = ['Spring', 'Summer', 'Fall', 'Winter']"
   ]
  },
  {
   "cell_type": "code",
   "execution_count": null,
   "metadata": {},
   "outputs": [],
   "source": [
    "for index, word in enumerate(seasons):\n",
    "    print(index, word)"
   ]
  },
  {
   "cell_type": "code",
   "execution_count": null,
   "metadata": {},
   "outputs": [],
   "source": [
    "word = \"Hakuna Matata\"\n",
    "for index, char in enumerate(word):\n",
    "    print(index, char)"
   ]
  },
  {
   "cell_type": "markdown",
   "metadata": {},
   "source": [
    "## Conversion between Sequences\n",
    "\n",
    "We can covert between `str`, `list` and `tuple` types by using the corresponding functions."
   ]
  },
  {
   "cell_type": "code",
   "execution_count": null,
   "metadata": {},
   "outputs": [],
   "source": [
    "word = \"Williamstown\""
   ]
  },
  {
   "cell_type": "code",
   "execution_count": null,
   "metadata": {},
   "outputs": [],
   "source": [
    "charList = list(word)"
   ]
  },
  {
   "cell_type": "code",
   "execution_count": null,
   "metadata": {},
   "outputs": [],
   "source": [
    "charList"
   ]
  },
  {
   "cell_type": "code",
   "execution_count": null,
   "metadata": {},
   "outputs": [],
   "source": [
    "charTuple = tuple(charList)"
   ]
  },
  {
   "cell_type": "code",
   "execution_count": null,
   "metadata": {},
   "outputs": [],
   "source": [
    "charTuple"
   ]
  },
  {
   "cell_type": "code",
   "execution_count": null,
   "metadata": {},
   "outputs": [],
   "source": [
    "list((1, 2, 3, 4, 5)) # tuple to list"
   ]
  },
  {
   "cell_type": "code",
   "execution_count": null,
   "metadata": {},
   "outputs": [],
   "source": [
    "numRange = range(len(word))"
   ]
  },
  {
   "cell_type": "code",
   "execution_count": null,
   "metadata": {},
   "outputs": [],
   "source": [
    "list(numRange)"
   ]
  },
  {
   "cell_type": "code",
   "execution_count": null,
   "metadata": {},
   "outputs": [],
   "source": [
    "str(list(numRange))"
   ]
  },
  {
   "cell_type": "code",
   "execution_count": null,
   "metadata": {},
   "outputs": [],
   "source": [
    "str(('hello', 'world'))"
   ]
  },
  {
   "cell_type": "markdown",
   "metadata": {},
   "source": [
    "## Review Sorting\n",
    "\n",
    "Recall the `sorted` function that takes a sequence and returns a new sorted sequence as a `list`.\n",
    "\n",
    "By default, `sorted` sorts the sequence in **ascending order (for numbers)** and **alphabetical (dictionary) order** for strings.\n",
    "\n",
    "Furthermore, strings are sorted based on their ASCII value:  special characters come before capital letters, which come before lower-case letters.\n",
    "\n",
    "**Note:** `sorted` does not alter the sequence it is called on.  And it returns always returns a `list`."
   ]
  },
  {
   "cell_type": "code",
   "execution_count": null,
   "metadata": {},
   "outputs": [],
   "source": [
    "nums = (42, -20, 13, 10, 0, 11, 18)\n",
    "sorted(nums)"
   ]
  },
  {
   "cell_type": "code",
   "execution_count": null,
   "metadata": {},
   "outputs": [],
   "source": [
    "letters = ('a', 'c', 'e', 'p', 'z')\n",
    "sorted(letters)"
   ]
  },
  {
   "cell_type": "code",
   "execution_count": null,
   "metadata": {},
   "outputs": [],
   "source": [
    "# what will this print?\n",
    "print(sorted(\"*hello! world!*\"))"
   ]
  },
  {
   "cell_type": "code",
   "execution_count": null,
   "metadata": {},
   "outputs": [],
   "source": [
    "''.join(sorted(\"*hello! world!*\"))"
   ]
  },
  {
   "cell_type": "markdown",
   "metadata": {},
   "source": [
    "## Sorting Tuples and More\n",
    "\n",
    "Recall the `sorted` function that takes a sequence and returns a new sorted sequence as a `list`.\n",
    "\n",
    "By default, `sorted` function on a sequence containing tuples has the following behavior:   \n",
    "   * Sorts tuples by first item of each tuple     \n",
    "   * If there is a tie (e.g., two tuples have the same first item), it sorts them by comparing their second item, so on.    \n",
    "    \n",
    "This sorting behavior is pretty standard and is referred to as **lexigraphical sorting**.\n",
    "\n",
    "We can change this default sorting behavior of the sorted function.\n",
    "\n",
    "Today, we will see different ways we can accomplish this."
   ]
  },
  {
   "cell_type": "code",
   "execution_count": null,
   "metadata": {},
   "outputs": [],
   "source": [
    "fruits = [(12, 'apples'), (5, 'kiwis'), (4, 'bananas'), (27, 'grapes')]\n",
    "sorted(fruits)"
   ]
  },
  {
   "cell_type": "code",
   "execution_count": null,
   "metadata": {},
   "outputs": [],
   "source": [
    "pairs = [(4, 5), (0, 2), (12, 1), (11, 3)]\n",
    "sorted(pairs)"
   ]
  },
  {
   "cell_type": "code",
   "execution_count": null,
   "metadata": {},
   "outputs": [],
   "source": [
    "triples = [(1, 2, 3), (1, 3, 2), (2, 2, 1), (1, 2, 1)]\n",
    "sorted(triples)"
   ]
  },
  {
   "cell_type": "code",
   "execution_count": null,
   "metadata": {},
   "outputs": [],
   "source": [
    "characters = [(8, 'a', '$'), (7, 'c', '@'),\n",
    "           (7, 'b', '+'), (8, 'a', '!')] \n",
    "\n",
    "sorted(characters)"
   ]
  },
  {
   "cell_type": "code",
   "execution_count": null,
   "metadata": {},
   "outputs": [],
   "source": [
    "sorted((4,5,1,2))"
   ]
  },
  {
   "cell_type": "markdown",
   "metadata": {},
   "source": [
    "## Changing the Default Sorting Behavior\n",
    "\n",
    "\n",
    "We can tell Python how to sort and override the default sorting behavior.  To do so, let us explore the `sorted` function and its optional arguments."
   ]
  },
  {
   "cell_type": "code",
   "execution_count": null,
   "metadata": {},
   "outputs": [],
   "source": [
    "help(sorted)"
   ]
  },
  {
   "cell_type": "markdown",
   "metadata": {},
   "source": [
    "###  Soring using `reverse`"
   ]
  },
  {
   "cell_type": "code",
   "execution_count": null,
   "metadata": {},
   "outputs": [],
   "source": [
    "sorted([8, 2, 3, 1, 3, 1, 2], reverse=True)"
   ]
  },
  {
   "cell_type": "code",
   "execution_count": null,
   "metadata": {},
   "outputs": [],
   "source": [
    "sorted(['a', 'c', 'e', 'p', 'z'], reverse=True)"
   ]
  },
  {
   "cell_type": "code",
   "execution_count": null,
   "metadata": {},
   "outputs": [],
   "source": [
    "fruits = [(12, 'apples'), (5, 'kiwis'), (4, 'bananas'), (27, 'grapes')]\n",
    "sorted(fruits, reverse=True)"
   ]
  },
  {
   "cell_type": "markdown",
   "metadata": {},
   "source": [
    "###  Soring using `key` function\n",
    "\n",
    "\n",
    "**Motivation:**  Suppose we have a list of tuples, that we want to sort by something other than the first item.\n",
    "\n",
    "For example: \n",
    "\n",
    "* Consider a list of tuples, where the first item is a course name, second item is the cap, and third item is the term.\n",
    "* Say we want to sort these courses by their capacity in descending order:  courses with higher capacity should come first.\n",
    "\n",
    "We can accomplish this by supplying the `sorted` function with a `key` function that tells it how to compare the tuples to each other."
   ]
  },
  {
   "cell_type": "code",
   "execution_count": null,
   "metadata": {},
   "outputs": [],
   "source": [
    "courses = [('CS134', 74, 'Fall'), ('CS136', 60, 'Fall'),\n",
    "           ('AFR206', 30, 'Spring'), ('ECON233', 30, 'Spring'),\n",
    "           ('MUS112', 10), ('STAT200', 50), ('PSYC 201', 90)]"
   ]
  },
  {
   "cell_type": "code",
   "execution_count": null,
   "metadata": {},
   "outputs": [],
   "source": [
    "sorted(courses) # how will it get sorted?"
   ]
  },
  {
   "cell_type": "code",
   "execution_count": null,
   "metadata": {},
   "outputs": [],
   "source": [
    "courses = [('CS134', 74, 'Fall'), ('CS136', 60, 'Fall'),\n",
    "           ('AFR206', 30, 'Spring'), ('ECON233', 30, 'Fall'),\n",
    "           ('MUS112', 10, 'Fall'), ('STAT200', 50, 'Spring'), \n",
    "           ('PSYC201', 50, 'Fall'), ('MATH110', 74, 'Spring')]"
   ]
  },
  {
   "cell_type": "code",
   "execution_count": null,
   "metadata": {},
   "outputs": [],
   "source": [
    "def capacity(courseTuple):\n",
    "    '''Takes a sequence and returns item at index 1'''\n",
    "    return courseTuple[1]"
   ]
  },
  {
   "cell_type": "code",
   "execution_count": null,
   "metadata": {},
   "outputs": [],
   "source": [
    "# can tell sorted to sort by capacity instead\n",
    "sorted(courses, key=capacity)"
   ]
  },
  {
   "cell_type": "code",
   "execution_count": null,
   "metadata": {},
   "outputs": [],
   "source": [
    "sorted(courses, key=capacity, reverse=True)"
   ]
  },
  {
   "cell_type": "markdown",
   "metadata": {},
   "source": [
    "###  Stable Sorting\n",
    "\n",
    "Python's sorting functions are stable, which means that items that are equal according to the sorting key have the same relative order as in the original sequence.  To see an example, let us sort the course tuples by the term they are offered by defining a new key function."
   ]
  },
  {
   "cell_type": "code",
   "execution_count": null,
   "metadata": {},
   "outputs": [],
   "source": [
    "courses = [('CS134', 74, 'Fall'), ('CS136', 60, 'Fall'),\n",
    "           ('AFR206', 30, 'Spring'), ('ECON233', 30, 'Fall'),\n",
    "           ('MUS112', 10, 'Fall'), ('STAT200', 50, 'Spring'), \n",
    "           ('PSYC201', 50, 'Fall'), ('MATH110', 74, 'Spring')]"
   ]
  },
  {
   "cell_type": "code",
   "execution_count": null,
   "metadata": {},
   "outputs": [],
   "source": [
    "def term(courseTuple):\n",
    "    '''Takes a sequence and returns item at index 2'''\n",
    "    return courseTuple[2]"
   ]
  },
  {
   "cell_type": "code",
   "execution_count": null,
   "metadata": {},
   "outputs": [],
   "source": [
    "sorted(courses, key=term)"
   ]
  },
  {
   "cell_type": "code",
   "execution_count": null,
   "metadata": {},
   "outputs": [],
   "source": [
    "def termAndCap(courseTuple):\n",
    "    return courseTuple[2], courseTuple[1]"
   ]
  },
  {
   "cell_type": "code",
   "execution_count": null,
   "metadata": {},
   "outputs": [],
   "source": [
    "sorted(courses, key=termAndCap)"
   ]
  },
  {
   "cell_type": "markdown",
   "metadata": {},
   "source": [
    "## Lambda Notation\n",
    "\n",
    "\n",
    "It is often inconvenient or unnecessary to define a named function just in order to pass it as the functional argument to higher-order functions like sorted.\n",
    "\n",
    "Python provides lambda notation for creating anonymous functions (a function with no name that cannot be called elsewhere) that can be used directly in functions like sorted\n"
   ]
  },
  {
   "cell_type": "code",
   "execution_count": null,
   "metadata": {},
   "outputs": [],
   "source": [
    "def square(x):\n",
    "    return x*x"
   ]
  },
  {
   "cell_type": "code",
   "execution_count": null,
   "metadata": {},
   "outputs": [],
   "source": [
    "square(5)"
   ]
  },
  {
   "cell_type": "code",
   "execution_count": null,
   "metadata": {},
   "outputs": [],
   "source": [
    "(lambda x: x*x)(5)"
   ]
  },
  {
   "cell_type": "code",
   "execution_count": null,
   "metadata": {},
   "outputs": [],
   "source": [
    "def first(seq):\n",
    "    return seq[0]\n",
    "\n",
    "first('zorp')"
   ]
  },
  {
   "cell_type": "code",
   "execution_count": null,
   "metadata": {},
   "outputs": [],
   "source": [
    "(lambda seq: seq[0])('zorp')"
   ]
  },
  {
   "cell_type": "code",
   "execution_count": null,
   "metadata": {},
   "outputs": [],
   "source": [
    "type(lambda x: x*x)"
   ]
  },
  {
   "cell_type": "code",
   "execution_count": null,
   "metadata": {},
   "outputs": [],
   "source": [
    "# back to our example\n",
    "courses = [('CS134', 74, 'Fall'), ('CS136', 60, 'Fall'),\n",
    "           ('AFR206', 30, 'Spring'), ('ECON233', 30, 'Fall'),\n",
    "           ('MUS112', 10, 'Fall'), ('STAT200', 50, 'Spring'), \n",
    "           ('PSYC201', 50, 'Fall'), ('MATH110', 74, 'Spring')]"
   ]
  },
  {
   "cell_type": "code",
   "execution_count": null,
   "metadata": {},
   "outputs": [],
   "source": [
    "# sort by capacity\n",
    "sorted(courses, key=lambda course: course[1]) "
   ]
  },
  {
   "cell_type": "code",
   "execution_count": null,
   "metadata": {},
   "outputs": [],
   "source": [
    "# sort by term followed by capacity\n",
    "sorted(courses, key=lambda c: (c[2], c[1]))"
   ]
  },
  {
   "cell_type": "code",
   "execution_count": null,
   "metadata": {},
   "outputs": [],
   "source": [
    "zipCodes = [111231, 111777, 11782, 11345, 23114, 455621]"
   ]
  },
  {
   "cell_type": "code",
   "execution_count": null,
   "metadata": {},
   "outputs": [],
   "source": [
    "zipCodes.sort(key=lambda n: str(n)[-1])\n",
    "zipCodes"
   ]
  },
  {
   "cell_type": "code",
   "execution_count": null,
   "metadata": {},
   "outputs": [],
   "source": [
    "ids = ['id1', 'id100', 'id2', 'id22', 'id3', 'id30']"
   ]
  },
  {
   "cell_type": "code",
   "execution_count": null,
   "metadata": {},
   "outputs": [],
   "source": [
    "sortedIds = sorted(ids, key=lambda x: int(x[2:]))"
   ]
  },
  {
   "cell_type": "code",
   "execution_count": null,
   "metadata": {},
   "outputs": [],
   "source": [
    "sortedIds # can you guess the output?"
   ]
  },
  {
   "cell_type": "code",
   "execution_count": null,
   "metadata": {},
   "outputs": [],
   "source": [
    "name = \"SquiD GamE\"\n",
    "sorted(name, key=lambda x:x.lower()) # sort but ignore case"
   ]
  }
 ],
 "metadata": {
  "kernelspec": {
   "display_name": "Python 3 (ipykernel)",
   "language": "python",
   "name": "python3"
  },
  "language_info": {
   "codemirror_mode": {
    "name": "ipython",
    "version": 3
   },
   "file_extension": ".py",
   "mimetype": "text/x-python",
   "name": "python",
   "nbconvert_exporter": "python",
   "pygments_lexer": "ipython3",
   "version": "3.9.7"
  }
 },
 "nbformat": 4,
 "nbformat_minor": 1
}
